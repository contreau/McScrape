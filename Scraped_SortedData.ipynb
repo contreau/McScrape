{
  "nbformat": 4,
  "nbformat_minor": 0,
  "metadata": {
    "colab": {
      "name": "Scraped-SortedData.ipynb",
      "provenance": [],
      "collapsed_sections": [],
      "include_colab_link": true
    },
    "kernelspec": {
      "name": "python3",
      "display_name": "Python 3"
    },
    "language_info": {
      "name": "python"
    }
  },
  "cells": [
    {
      "cell_type": "markdown",
      "metadata": {
        "id": "view-in-github",
        "colab_type": "text"
      },
      "source": [
        "<a href=\"https://colab.research.google.com/github/zenDev-2/McScrape/blob/main/Scraped_SortedData.ipynb\" target=\"_parent\"><img src=\"https://colab.research.google.com/assets/colab-badge.svg\" alt=\"Open In Colab\"/></a>"
      ]
    },
    {
      "cell_type": "code",
      "source": [
        "import requests\n",
        "import csv \n",
        "import json\n",
        "import pandas as pd"
      ],
      "metadata": {
        "id": "i5mUyUyX-h7b"
      },
      "execution_count": null,
      "outputs": []
    },
    {
      "cell_type": "markdown",
      "source": [
        "# Scrape of MA McDonald's Locations"
      ],
      "metadata": {
        "id": "P3dc__pPmiQK"
      }
    },
    {
      "cell_type": "markdown",
      "source": [
        "Eastern Mass"
      ],
      "metadata": {
        "id": "fTI3m7We8y8V"
      }
    },
    {
      "cell_type": "code",
      "source": [
        "url = \"https://www.mcdonalds.com/googleappsv2/geolocation?latitude=42.0834335&longitude=-71.0183787&radius=80000&maxResults=500&country=us&language=en\"\n",
        "\n",
        "payload={}\n",
        "headers = {\n",
        "  'User-Agent': 'Mozilla/5.0 (Macintosh; Intel Mac OS X 10.15; rv:98.0) Gecko/20100101 Firefox/98.0',\n",
        "  'Accept': '*/*',\n",
        "  'Accept-Language': 'en-US,en;q=0.5',\n",
        "  'Accept-Encoding': 'gzip, deflate, br',\n",
        "  'Referer': 'https://www.mcdonalds.com/us/en-us/restaurant-locator.html',\n",
        "  'Connection': 'keep-alive',\n",
        "  'Cookie': '_abck=8010DD6D2623B97BC30AF849750A25F1~0~YAAQZvzDFwFtGQeAAQAAQI7QCweooECTD5gRUqF7MX1HZnW9gUketOCPJggMZWg5eF2iATIabu9Vi236r4mXachXiRy+nqywF+WgO6eVHmMVRFzj15T4LyKY2NsEvkm7irfyQcNGke207sWutoiXUl4qO1I7eWjPTVGlJVtNbT9nLlmmvdodKroK6lgzFCVzVqGKiFwiY915V9fxoZCSmbVimUZSn1E+ZIsh0l6G/MALG3AqaPstwU4ZYUQo3XXTxr/DtVKCJtZrIRNkjvxhFp8yXmDoQB0hjYeVjM+PNOuOP3GyoA9z++jmshxAFZD2trYyxaSZtzETi1Re0+UbxhL2FYlO8uma1yrQHmhuqwJBJhwyeU+m3K+KZueINPGdOYhu8HejdX2b1IX68RFE0ncQMZWO9Pt4rCo+QQ==~-1~-1~-1; AMCV_786ABB6B55C1DA777F000101%40AdobeOrg=-2121179033%7CMCIDTS%7C19091%7CMCMID%7C31674695377750397280010411148622937438%7CMCAAMLH-1650068863%7C7%7CMCAAMB-1650068863%7C6G1ynYcLPuiQxYZrsz_pkqfLG9yMXBpb2zX5dvJdYQJzPXImdj0y%7CMCOPTOUT-1649471263s%7CNONE%7CMCAID%7CNONE%7CvVersion%7C5.3.0; _gcl_au=1.1.955101660.1648148668; OptanonConsent=isIABGlobal=false&datestamp=Fri+Apr+08+2022+20%3A54%3A20+GMT-0400+(Eastern+Daylight+Time)&version=6.31.0&hosts=&landingPath=NotLandingPage&groups=C0001%3A1%2CC0002%3A1%2CC0003%3A1%2CC0004%3A1&AwaitingReconsent=false&geolocation=%3B; s_ecid=MCMID%7C31674695377750397280010411148622937438; s_lastvisit=1649465708699; _clck=1ls2n6b|1|f0h|0; MCDCountry_code=US; bm_sz=DA82445F2EC6C20216EAC9903640F446~YAAQLDovF3iqGgOAAQAAiSomCw/ttVASDkVEqwkuguD5DAzrEe+mszjAP5MkTGU2eSOEE/kQqTKZG8AWDCx1+AkwfZelxlPJP5cyf8REbE74rl0j0Gz7zI7ORZ43yaizJwg5TqE3z46dPIktXQ7vDHlcSbbH+3qXc6nxGcVNqAYDkRYYyb9tNxnijduMW2Lju0MPw1AsgcSfj9FPx/bGrTYYhBE8qJt8SEpGPg43ldl98+rnk68l7xq6CrfazyHjQUt43nruX9V9e6bLbpWOuWlH5WJBT85W9jYiTxFOmaXLkLoNWIo=~3422259~3228212; PLTGE=%2Cevent93=804%2Cevent94=1119%2Cevent95=2%2Cevent109=2273%2Cevent99=49; prevPageName=restaurant%20locator; AMCVS_786ABB6B55C1DA777F000101%40AdobeOrg=1; s_ppvl=restaurant%2520locator%2C58%2C58%2C1145%2C2560%2C1145%2C2560%2C1440%2C1%2CP; s_ppv=restaurant%2520locator%2C58%2C58%2C1145%2C2560%2C451%2C2560%2C1440%2C1%2CP; s_cc=true; _clsk=1d1hl1s|1649465667610|5|1|www.clarity.ms/eus-c/collect; s_sq=%5B%5BB%5D%5D; affinity=\"ea0cf0d8d1346ed2\"; OptanonAlertBoxClosed=2022-04-08T21:50:22.087Z; s_lastvisit_s=Less%20than%201%20day; ak_bmsc=50725956E371683EC86950811CF049F0~000000000000000000000000000000~YAAQZvzDF3wJGQeAAQAADr+3Cw+d8gUIl04GIApwERXzjSOql/47c3Ui+ucMhNdFpGrgtV5hMfngocCGiptD6B1t/X7h54dxIcAPfYbSAt2E64gDJHrIcDQEoLSiUDmhQeJFwS8234ECTofEZ5xuaquZsEUCGpkqr7kojeS2oelTFqbxUvcL4w69eDfChxkB+EB7pOcyiV9jEiwxmIxBWHafI3TrMFHx4DvTVNfVxHnndUbAl4jGuEK82AD1o6RdDi4zctuMPn7kfpkOh8B5aDYp3j7x/liTVQXmoUEtuNOwHFEkDJHO5SGOLK3ZEWT4OcrfGmBwncFuyw1mIQZivM/0RfrQiLGBxAd6Eyk+UFVpDse3QZ7rt2k3/N4J7jyUxwat2ibtoC22tseoUw==; bm_mi=D191EE539F19FD86375DBB73CD021135~z7XQCp6McudyTX3s/tpE6uZYWfgvOYPm7VEXG2G9+lTrnbU5JTyT068wKuxO558m9EilnW5Wb8u8JBf0SrkHalcnb6yw3j1SguSfPwEcIpBzFLA9WYD/N1xOx8A8FGWA6jyl+waUv7jS3VbMTQ9FsnbAo7k6aiQHAPmGkeJSQ2maSCsM6HKSp4inCe+LR7qYe00FxAPPryJlWQUSNoVNncPk228OuAWOfJY8/Xzg39/2ttshk3Y2HQh8FKJHmf9Bg5QPPP7fZ4TVv1XPkQXDvw==; bm_sv=3CE16D1D65B6620033B9947FA910CA84~egisskdOn5boHsToASz2aH8VVkvcG2OIfBKI/Yplq7L4w7Fd0KyiySOy3Wo+u3rkAg6IpZGdY2UnCodQppBE1h694rJLtdKN8xDHaljNERV3GONi3jRlnjMG9+KZJPNmCvwaTquwPDNYTFu5A0zRAap9n0t4fM8I0yUshJMe3AU=; _uetsid=98e06000b78511ecb06d394eb5901821; _uetvid=3aa5da60aba511ecb0b86bf586023803; _abck=8010DD6D2623B97BC30AF849750A25F1~-1~YAAQzzoiF7qt1gGAAQAAvfLiCwd1lWbnFmAo6EKGBBIPrJAtNngyszwGxWlTflf684yNtpKE6rBb4YLWWuexUDHut/mionyWHrWMXm2nLMAyNcsA63W+ZOQfA/bAC4XmLy7r3L+GtyGYf9p+S3VwJCPjtwfsFjVBetWvXBofctAmBhPmaI4tzlkwoA9s2iMl5af3SMc4243hi/dr3yqwdObbEXzMOl5beqYhx963GaMXBG7n9w8zWrOQqpydqvJyYnpvuRV7fArAQkDYr+ih87jMg7s2Z869mSVp9yhbqVhy3ekYI0+46CG1ue+rHqotS9vpx69O9jzlF/G4QffHnoBQIkb5DdQwQ/VOfD71ZyDugEA/v6KYV4DtGTSnU25w5/35L997RH5mHPjDnSfEoKXrj06YTayCRy/c/w==~0~-1~-1; ak_bmsc=50725956E371683EC86950811CF049F0~000000000000000000000000000000~YAAQ2DoiF6kKPgKAAQAAlrXiCw96ifprxviyuyY1+LaKd72TLH8HT0ZXCH67adG0aknmR5naMofLAUv3gRQCwdebjtWrYlmUMmvDv08r++/mIimcIVxdcPvJLiIZytvctGbD6+dyceFhCfshZYLyYgAZ/FKwFCzohzBgkE9aZ2RVO8yJ4Tr/9EX7rljtAO54C5SysIG073D0i+IxQPQPDnq/ePuqeV0CY8jVHO8UuvYgkyjNwaPzpeU2Srjw4nduzBH8jIg+cpPpDp/9TzoDWG0t5ukDEdCR8u9YXOtZi1SjA08IqZ46qWYlmNbQ/PwaVmoFCItJO2WQOuX1+FTOt1yxwOWA8kuyY0pXxO9Q2ziUoEF28BmhyDCrV/J2TTnQo6aWfTl24B79LEcFgi3cA27/gXPoqjgtKDPLwlLgjyntpOJG+w/+FcosrrA3ZG4oM4IuO/M=; bm_sv=3CE16D1D65B6620033B9947FA910CA84~egisskdOn5boHsToASz2aH8VVkvcG2OIfBKI/Yplq7L4w7Fd0KyiySOy3Wo+u3rkAg6IpZGdY2UnCodQppBE1h694rJLtdKN8xDHaljNERVGrQulSNipxEYrz/hdhf1A/jPoFcVzDSbyfiC7p6oNbgrsxrDcvgZBDdqBo1fIhsQ=; MCDCountry_code=US',\n",
        "  'Sec-Fetch-Dest': 'empty',\n",
        "  'Sec-Fetch-Mode': 'cors',\n",
        "  'Sec-Fetch-Site': 'same-origin'\n",
        "}\n",
        "\n",
        "responseEast = requests.request(\"GET\", url, headers=headers, data=payload)"
      ],
      "metadata": {
        "id": "xjdP3aCO8i87",
        "cellView": "code"
      },
      "execution_count": null,
      "outputs": []
    },
    {
      "cell_type": "code",
      "source": [
        "storesEast = json.loads(responseEast.text)\n",
        "\n",
        "def collectMDs(stores):\n",
        "  mds = []\n",
        "  features = stores['features']\n",
        "  for i in range(len(features)):\n",
        "    d = features[i]\n",
        "    for key in d:\n",
        "      if key == 'properties':\n",
        "        if d[key]['subDivision'] == 'MA':\n",
        "          mds+= [{\n",
        "              'street': d[key]['addressLine1'],\n",
        "              'city': d[key]['addressLine3'],\n",
        "              'postcode': d[key]['postcode'],\n",
        "              'state': d[key]['subDivision']\n",
        "          }]\n",
        "  return mds\n",
        "\n",
        "mdsE = collectMDs(storesEast)\n",
        "print(f'mdsE count: {len(mdsE)}')"
      ],
      "metadata": {
        "colab": {
          "base_uri": "https://localhost:8080/"
        },
        "id": "vSA2slTLLS2I",
        "outputId": "aaa5f51f-98c4-4600-d8ca-058852bfb654"
      },
      "execution_count": null,
      "outputs": [
        {
          "output_type": "stream",
          "name": "stdout",
          "text": [
            "mdsE count: 191\n"
          ]
        }
      ]
    },
    {
      "cell_type": "markdown",
      "source": [
        "Central Mass"
      ],
      "metadata": {
        "id": "eQ8AHEPg84ww"
      }
    },
    {
      "cell_type": "code",
      "source": [
        "url = \"https://www.mcdonalds.com/googleappsv2/geolocation?latitude=42.3490548&longitude=-72.1986558&radius=80000&maxResults=500&country=us&language=en\"\n",
        "\n",
        "payload={}\n",
        "headers = {\n",
        "  'User-Agent': 'Mozilla/5.0 (Macintosh; Intel Mac OS X 10.15; rv:98.0) Gecko/20100101 Firefox/98.0',\n",
        "  'Accept': '*/*',\n",
        "  'Accept-Language': 'en-US,en;q=0.5',\n",
        "  'Accept-Encoding': 'gzip, deflate, br',\n",
        "  'Referer': 'https://www.mcdonalds.com/us/en-us/restaurant-locator.html',\n",
        "  'Connection': 'keep-alive',\n",
        "  'Cookie': '_abck=8010DD6D2623B97BC30AF849750A25F1~0~YAAQZvzDF9cJGQeAAQAAROO3CwepGuNNlR3HmuU3kdXqr9cPC+m8LM3r57nVUrv8UqSZSq8f+/VS6YoO8xcGUWxSzeMlxy6wkYVnrzQ+nZRUEf6cQK+I6XegIyCnNAqSbTYZoSS57HVwCgPnrI3J7twuEzjtNgVnFL3rc+UpSduv5f5FWT8xvVqTEv/bsZfhv+rinq9PL1n1RNLfv8fPPru0JuXBJHB/BTyM5ig7RWvtz4i9PG270hOEHJKKCm2Q8Uc80UJGoZpvHXJOvqiSOs7ow3389G3AflxLIwO+9r0N94v5Sa1zBqKYTD1EJKr1sPGvkvzgkFZPXMjTGTfzQiBQmFOButq5iylupOQiEbNqec2ySOvUdeuuubQjFJc8bI58RBhydFmWudgWZvrrpiH64fz+hbIh1SSfbA==~-1~||-1||~-1; AMCV_786ABB6B55C1DA777F000101%40AdobeOrg=-2121179033%7CMCIDTS%7C19091%7CMCMID%7C31674695377750397280010411148622937438%7CMCAAMLH-1650068863%7C7%7CMCAAMB-1650068863%7C6G1ynYcLPuiQxYZrsz_pkqfLG9yMXBpb2zX5dvJdYQJzPXImdj0y%7CMCOPTOUT-1649471263s%7CNONE%7CMCAID%7CNONE%7CvVersion%7C5.3.0; _gcl_au=1.1.955101660.1648148668; OptanonConsent=isIABGlobal=false&datestamp=Fri+Apr+08+2022+20%3A27%3A43+GMT-0400+(Eastern+Daylight+Time)&version=6.31.0&hosts=&landingPath=NotLandingPage&groups=C0001%3A1%2CC0002%3A1%2CC0003%3A1%2CC0004%3A1&AwaitingReconsent=false&geolocation=%3B; s_ecid=MCMID%7C31674695377750397280010411148622937438; s_lastvisit=1649464072128; _clck=1ls2n6b|1|f0h|0; MCDCountry_code=US; bm_sz=DA82445F2EC6C20216EAC9903640F446~YAAQLDovF3iqGgOAAQAAiSomCw/ttVASDkVEqwkuguD5DAzrEe+mszjAP5MkTGU2eSOEE/kQqTKZG8AWDCx1+AkwfZelxlPJP5cyf8REbE74rl0j0Gz7zI7ORZ43yaizJwg5TqE3z46dPIktXQ7vDHlcSbbH+3qXc6nxGcVNqAYDkRYYyb9tNxnijduMW2Lju0MPw1AsgcSfj9FPx/bGrTYYhBE8qJt8SEpGPg43ldl98+rnk68l7xq6CrfazyHjQUt43nruX9V9e6bLbpWOuWlH5WJBT85W9jYiTxFOmaXLkLoNWIo=~3422259~3228212; PLTGE=%2Cevent93=921%2Cevent94=1284%2Cevent95=3%2Cevent109=2067%2Cevent99=32; prevPageName=restaurant%20locator; AMCVS_786ABB6B55C1DA777F000101%40AdobeOrg=1; s_ppvl=restaurant%2520locator%2C60%2C60%2C1167%2C2560%2C490%2C2560%2C1440%2C1%2CP; s_ppv=restaurant%2520locator%2C60%2C60%2C1167%2C2560%2C490%2C2560%2C1440%2C1%2CP; s_cc=true; _clsk=1d1hl1s|1649464065805|2|1|www.clarity.ms/eus-c/collect; s_sq=mcdusproduts%3D%2526pid%253Drestaurant%252520locator%2526pidt%253D1%2526oid%253D%25250A%252520%252520%252520%252520%252520%252520%252520%252520%252520%252520%252520%252520%252520%252520%252520%252520%252520%252520%252520%252520%252520%252520%252520%252520%252520%252520%252520%252520%252520%252520%252520%252520%25250A%252520%252520%252520%252520%252520%252520%252520%252520%252520%252520%252520%252520%252520%252520%252520%252520%252520%252520%252520%252520%252520%252520%252520%252520%252520%252520%252520%252520%252520%252520%252520%252520%25250A%252520%252520%252520%252520%252520%252520%252520%252520%252520%252520%252520%252520%252520%252520%252520%252520%252520%252520%252520%252520%252520%252520%252520%252520%252520%252520%252520%252520%2526oidt%253D3%2526ot%253DSUBMIT; affinity=\"ea0cf0d8d1346ed2\"; OptanonAlertBoxClosed=2022-04-08T21:50:22.087Z; s_lastvisit_s=Less%20than%201%20day; ak_bmsc=50725956E371683EC86950811CF049F0~000000000000000000000000000000~YAAQZvzDF3wJGQeAAQAADr+3Cw+d8gUIl04GIApwERXzjSOql/47c3Ui+ucMhNdFpGrgtV5hMfngocCGiptD6B1t/X7h54dxIcAPfYbSAt2E64gDJHrIcDQEoLSiUDmhQeJFwS8234ECTofEZ5xuaquZsEUCGpkqr7kojeS2oelTFqbxUvcL4w69eDfChxkB+EB7pOcyiV9jEiwxmIxBWHafI3TrMFHx4DvTVNfVxHnndUbAl4jGuEK82AD1o6RdDi4zctuMPn7kfpkOh8B5aDYp3j7x/liTVQXmoUEtuNOwHFEkDJHO5SGOLK3ZEWT4OcrfGmBwncFuyw1mIQZivM/0RfrQiLGBxAd6Eyk+UFVpDse3QZ7rt2k3/N4J7jyUxwat2ibtoC22tseoUw==; bm_mi=D191EE539F19FD86375DBB73CD021135~z7XQCp6McudyTX3s/tpE6uZYWfgvOYPm7VEXG2G9+lTrnbU5JTyT068wKuxO558mhNs89s1HTGHQ7hhCPJBnwJxm6TTvfV/tWTS4z+DNBOM7uFqQHRQpm5K5qWm1AGnLT+B9zs4vp+ZUx9pZqghZSTwjB7ItSPwhlAxwb469SPtEwSG91A3OsUTjQb2XE9Bedtq+CyTv00vI4V8QZ3mq03VGVlNwG30Z8bxEi9GGroTBXF+VxCavEMBLyXcoYAJZnWGPjOgoXG4tYDJgjFWk5Q==; bm_sv=3CE16D1D65B6620033B9947FA910CA84~egisskdOn5boHsToASz2aH8VVkvcG2OIfBKI/Yplq7L4w7Fd0KyiySOy3Wo+u3rkAg6IpZGdY2UnCodQppBE1h694rJLtdKN8xDHaljNERXaxkJURQ5qbAdymbtEDBhZkIyLqsMpJJcJ+GQQXCZALTB8DH6yEaUzWRKw7P0rbu0=; _uetsid=98e06000b78511ecb06d394eb5901821; _uetvid=3aa5da60aba511ecb0b86bf586023803; _abck=8010DD6D2623B97BC30AF849750A25F1~-1~YAAQzzoiFxmt1gGAAQAAyt/iCwcSYLmodlvmILGu2GvmYtRYJoLkN12vySUOzW/Tm46kYSQH5KrLZMiGdlQvApRRLoDEOFbh1NSbRjiZvW1LWrBj8TNYiM+9I3swcAZGbnbZzvBFlfkA7r8BsFMMLgTjWr1kbqq9l+l+YKtPwheYugWoTZ610Dn/sK446LF5OmlbPYx5tq5HoVBpjJ6wPZQ2Ggk5mvYxqoavUO/trm+VFg9Wwq/8xKaIvGxeO7ZL1jgaEA4IhHJ5N6W3dzG0zE8NpAUsjcQp8JeJPehhQwlS2oB4CeckkKC/YK12auYjvDio9/GlwLUmsPBEDAuacXfOGsqqlZ/mXRlXsUs26Vh/KLclqmOWQFsR8KrAwcKdUuHqAWMA1yW2vj6apEJAdsucYHJYkSizDKG8Ig==~0~-1~-1; ak_bmsc=50725956E371683EC86950811CF049F0~000000000000000000000000000000~YAAQ2DoiF6kKPgKAAQAAlrXiCw96ifprxviyuyY1+LaKd72TLH8HT0ZXCH67adG0aknmR5naMofLAUv3gRQCwdebjtWrYlmUMmvDv08r++/mIimcIVxdcPvJLiIZytvctGbD6+dyceFhCfshZYLyYgAZ/FKwFCzohzBgkE9aZ2RVO8yJ4Tr/9EX7rljtAO54C5SysIG073D0i+IxQPQPDnq/ePuqeV0CY8jVHO8UuvYgkyjNwaPzpeU2Srjw4nduzBH8jIg+cpPpDp/9TzoDWG0t5ukDEdCR8u9YXOtZi1SjA08IqZ46qWYlmNbQ/PwaVmoFCItJO2WQOuX1+FTOt1yxwOWA8kuyY0pXxO9Q2ziUoEF28BmhyDCrV/J2TTnQo6aWfTl24B79LEcFgi3cA27/gXPoqjgtKDPLwlLgjyntpOJG+w/+FcosrrA3ZG4oM4IuO/M=; bm_sv=3CE16D1D65B6620033B9947FA910CA84~egisskdOn5boHsToASz2aH8VVkvcG2OIfBKI/Yplq7L4w7Fd0KyiySOy3Wo+u3rkAg6IpZGdY2UnCodQppBE1h694rJLtdKN8xDHaljNERVGrQulSNipxEYrz/hdhf1A/jPoFcVzDSbyfiC7p6oNbgrsxrDcvgZBDdqBo1fIhsQ=; MCDCountry_code=US',\n",
        "  'Sec-Fetch-Dest': 'empty',\n",
        "  'Sec-Fetch-Mode': 'cors',\n",
        "  'Sec-Fetch-Site': 'same-origin'\n",
        "}\n",
        "\n",
        "responseCentral = requests.request(\"GET\", url, headers=headers, data=payload)\n",
        "storesCentral = json.loads(responseCentral.text)\n",
        "mdsC = collectMDs(storesCentral)\n",
        "print(f'mdsC count: {len(mdsC)}')"
      ],
      "metadata": {
        "colab": {
          "base_uri": "https://localhost:8080/"
        },
        "id": "fK8MCvFm87G2",
        "outputId": "12fe8519-0551-40d7-d71d-c510293efa14"
      },
      "execution_count": null,
      "outputs": [
        {
          "output_type": "stream",
          "name": "stdout",
          "text": [
            "mdsC count: 156\n"
          ]
        }
      ]
    },
    {
      "cell_type": "markdown",
      "source": [
        "Western Mass"
      ],
      "metadata": {
        "id": "EHxQVcA188KU"
      }
    },
    {
      "cell_type": "code",
      "source": [
        "url = \"https://www.mcdonalds.com/googleappsv2/geolocation?latitude=42.3319904&longitude=-73.0829366&radius=80000&maxResults=500&country=us&language=en\"\n",
        "\n",
        "payload={}\n",
        "headers = {\n",
        "  'User-Agent': 'Mozilla/5.0 (Macintosh; Intel Mac OS X 10.15; rv:98.0) Gecko/20100101 Firefox/98.0',\n",
        "  'Accept': '*/*',\n",
        "  'Accept-Language': 'en-US,en;q=0.5',\n",
        "  'Accept-Encoding': 'gzip, deflate, br',\n",
        "  'Referer': 'https://www.mcdonalds.com/us/en-us/restaurant-locator.html',\n",
        "  'Connection': 'keep-alive',\n",
        "  'Cookie': '_abck=8010DD6D2623B97BC30AF849750A25F1~0~YAAQZvzDF6GjGQeAAQAAbNTdCwdcsApETGTM3+AmrHoSxKKEmNAnjeH21r25ce9mTOUK3fAXm5rD/IF9Ws1QIH3WsaFYV7sYDw1ZX9DTgaaJJl/g6Y+RIp0SU7vzENuKcmBEaUWs0Ut10lyZFkpvrreTWWwaf2RHFaeUnmNOi2BIkFcwm8z6H9QNhirjwKX1ZrKsu5mBFTnzaU1AHLJEYXRbGmcI0/6j5MxBx8DxwHZ6koy129xPoebNZGVuJ9NL8F4dVfMdKFF6A621DyK81hm3dKsB+b2QcetsyXz24Ck6Vo6eZ5XqrdOHYWz0hlZO1/sWL7vMteBKXyeZLuNNdy17YdQT2DGWEl3Qn96z7TGb/3wr58ovNBFxVZzZSJRQqlRFrB8DVX87sNRTuvksncceL5vT4SPBEMJ/gg==~-1~-1~-1; AMCV_786ABB6B55C1DA777F000101%40AdobeOrg=-2121179033%7CMCIDTS%7C19091%7CMCMID%7C31674695377750397280010411148622937438%7CMCAAMLH-1650068863%7C7%7CMCAAMB-1650068863%7C6G1ynYcLPuiQxYZrsz_pkqfLG9yMXBpb2zX5dvJdYQJzPXImdj0y%7CMCOPTOUT-1649471263s%7CNONE%7CMCAID%7CNONE%7CvVersion%7C5.3.0; _gcl_au=1.1.955101660.1648148668; OptanonConsent=isIABGlobal=false&datestamp=Fri+Apr+08+2022+21%3A09%3A07+GMT-0400+(Eastern+Daylight+Time)&version=6.31.0&hosts=&landingPath=NotLandingPage&groups=C0001%3A1%2CC0002%3A1%2CC0003%3A1%2CC0004%3A1&AwaitingReconsent=false&geolocation=%3B; s_ecid=MCMID%7C31674695377750397280010411148622937438; s_lastvisit=1649466548366; _clck=1ls2n6b|1|f0h|0; MCDCountry_code=US; bm_sz=DA82445F2EC6C20216EAC9903640F446~YAAQLDovF3iqGgOAAQAAiSomCw/ttVASDkVEqwkuguD5DAzrEe+mszjAP5MkTGU2eSOEE/kQqTKZG8AWDCx1+AkwfZelxlPJP5cyf8REbE74rl0j0Gz7zI7ORZ43yaizJwg5TqE3z46dPIktXQ7vDHlcSbbH+3qXc6nxGcVNqAYDkRYYyb9tNxnijduMW2Lju0MPw1AsgcSfj9FPx/bGrTYYhBE8qJt8SEpGPg43ldl98+rnk68l7xq6CrfazyHjQUt43nruX9V9e6bLbpWOuWlH5WJBT85W9jYiTxFOmaXLkLoNWIo=~3422259~3228212; PLTGE=%2Cevent93=541%2Cevent94=798%2Cevent95=2%2Cevent109=1498%2Cevent99=28; prevPageName=restaurant%20locator; AMCVS_786ABB6B55C1DA777F000101%40AdobeOrg=1; s_ppvl=restaurant%2520locator%2C57%2C57%2C1118%2C2560%2C984%2C2560%2C1440%2C1%2CP; s_ppv=restaurant%2520locator%2C57%2C57%2C1118%2C2560%2C984%2C2560%2C1440%2C1%2CP; s_cc=true; _clsk=1d1hl1s|1649466547432|7|1|www.clarity.ms/eus-c/collect; s_sq=%5B%5BB%5D%5D; affinity=\"ea0cf0d8d1346ed2\"; OptanonAlertBoxClosed=2022-04-08T21:50:22.087Z; s_lastvisit_s=Less%20than%201%20day; ak_bmsc=50725956E371683EC86950811CF049F0~000000000000000000000000000000~YAAQZvzDF3wJGQeAAQAADr+3Cw+d8gUIl04GIApwERXzjSOql/47c3Ui+ucMhNdFpGrgtV5hMfngocCGiptD6B1t/X7h54dxIcAPfYbSAt2E64gDJHrIcDQEoLSiUDmhQeJFwS8234ECTofEZ5xuaquZsEUCGpkqr7kojeS2oelTFqbxUvcL4w69eDfChxkB+EB7pOcyiV9jEiwxmIxBWHafI3TrMFHx4DvTVNfVxHnndUbAl4jGuEK82AD1o6RdDi4zctuMPn7kfpkOh8B5aDYp3j7x/liTVQXmoUEtuNOwHFEkDJHO5SGOLK3ZEWT4OcrfGmBwncFuyw1mIQZivM/0RfrQiLGBxAd6Eyk+UFVpDse3QZ7rt2k3/N4J7jyUxwat2ibtoC22tseoUw==; bm_mi=D191EE539F19FD86375DBB73CD021135~z7XQCp6McudyTX3s/tpE6uZYWfgvOYPm7VEXG2G9+lTrnbU5JTyT068wKuxO558m9EilnW5Wb8u8JBf0SrkHalcnb6yw3j1SguSfPwEcIpBzFLA9WYD/N1xOx8A8FGWA6jyl+waUv7jS3VbMTQ9FsnbAo7k6aiQHAPmGkeJSQ2maSCsM6HKSp4inCe+LR7qYe00FxAPPryJlWQUSNoVNnR+2OSuX3qlKGmLgD77Jfp1O7NqNu48sgQ28CcZrYjD/cQQHCfPTSs6I20Q+8CQjmQ==; bm_sv=3CE16D1D65B6620033B9947FA910CA84~egisskdOn5boHsToASz2aH8VVkvcG2OIfBKI/Yplq7L4w7Fd0KyiySOy3Wo+u3rkAg6IpZGdY2UnCodQppBE1h694rJLtdKN8xDHaljNERW+Qc5rKqPSwlOXSQivzWV/oTtfnflxSuTh3t3ASnuqjqrWQHIWwgddCCPZ4JZ9NUo=; _uetsid=98e06000b78511ecb06d394eb5901821; _uetvid=3aa5da60aba511ecb0b86bf586023803; _abck=8010DD6D2623B97BC30AF849750A25F1~-1~YAAQzzoiF52r1gGAAQAAw7fiCwfv4/eEEsPXyBE9X6+UhEX/6tlJDuAKKYkY4IymdKEYwq/vcjN3p8wnnzvfgM++go5MqSatf/+dDUtkzKpynb/ayn7VGuYrPZL6YRCkxk02ChawvGhKZ+oIInntRLKwbpVWM6XUFugWRsJN2zQd9jM65Jix9FEeCQA5i42k80Fdo/Uv//0fHGHgFSMw+11ACo8W7lL/iLPQu9VqoLY+ab/Cxs6VCIrIktJCpec341FQUEStt7UzcJGAkM7ekr33Ch+X66wsMRdBykIwIeDsvCaNk2Dhyt8h+wyPZI0/kEe3waA0C4JAAn/IP91Erf0ogD7cDPvPyIjL7HWu9dMckQrdnkhczPB57ui+5Ikopio/BPg8n/V9l+sCAbT6eBNSEgls8KBKjKRvTg==~0~-1~-1; ak_bmsc=50725956E371683EC86950811CF049F0~000000000000000000000000000000~YAAQ2DoiF6kKPgKAAQAAlrXiCw96ifprxviyuyY1+LaKd72TLH8HT0ZXCH67adG0aknmR5naMofLAUv3gRQCwdebjtWrYlmUMmvDv08r++/mIimcIVxdcPvJLiIZytvctGbD6+dyceFhCfshZYLyYgAZ/FKwFCzohzBgkE9aZ2RVO8yJ4Tr/9EX7rljtAO54C5SysIG073D0i+IxQPQPDnq/ePuqeV0CY8jVHO8UuvYgkyjNwaPzpeU2Srjw4nduzBH8jIg+cpPpDp/9TzoDWG0t5ukDEdCR8u9YXOtZi1SjA08IqZ46qWYlmNbQ/PwaVmoFCItJO2WQOuX1+FTOt1yxwOWA8kuyY0pXxO9Q2ziUoEF28BmhyDCrV/J2TTnQo6aWfTl24B79LEcFgi3cA27/gXPoqjgtKDPLwlLgjyntpOJG+w/+FcosrrA3ZG4oM4IuO/M=; bm_sv=3CE16D1D65B6620033B9947FA910CA84~egisskdOn5boHsToASz2aH8VVkvcG2OIfBKI/Yplq7L4w7Fd0KyiySOy3Wo+u3rkAg6IpZGdY2UnCodQppBE1h694rJLtdKN8xDHaljNERUI6keSMTIKdt6z7LreC3BJpi8wtvB2Vlbg/KKVCfhX4zf+f2kru/8HZ9qDE9T6yr4=; MCDCountry_code=US',\n",
        "  'Sec-Fetch-Dest': 'empty',\n",
        "  'Sec-Fetch-Mode': 'cors',\n",
        "  'Sec-Fetch-Site': 'same-origin'\n",
        "}\n",
        "\n",
        "responseWest = requests.request(\"GET\", url, headers=headers, data=payload)\n",
        "storesWest = json.loads(responseWest.text)\n",
        "mdsW = collectMDs(storesWest)\n",
        "print(f'mdsW count: {len(mdsW)}')"
      ],
      "metadata": {
        "colab": {
          "base_uri": "https://localhost:8080/"
        },
        "id": "cjPl6jiy89n5",
        "outputId": "09d809dd-8b89-4adf-f993-3dddbf3d97c4"
      },
      "execution_count": null,
      "outputs": [
        {
          "output_type": "stream",
          "name": "stdout",
          "text": [
            "mdsW count: 72\n"
          ]
        }
      ]
    },
    {
      "cell_type": "code",
      "source": [
        "mdsMerged = mdsE + mdsC + mdsW \n",
        "print(f'initial merge: {len(mdsMerged)}')\n",
        "\n",
        "finalMerge = []\n",
        "check = set()\n",
        "\n",
        "for d in mdsMerged.copy():\n",
        "  j = json.dumps(d)\n",
        "  if j not in check:\n",
        "    check.add(j)\n",
        "    finalMerge += [d]\n",
        "print(f\"final merge (# of all unique McDonald's locations in MA): {len(finalMerge)}\")\n",
        "\n",
        "allPostCodes = []\n",
        "for md in finalMerge:\n",
        "  allPostCodes.append(md['postcode'])"
      ],
      "metadata": {
        "colab": {
          "base_uri": "https://localhost:8080/"
        },
        "id": "Gz-q4tfuklEN",
        "outputId": "c929cb14-13a4-45cc-8d26-1af0cdb1787e"
      },
      "execution_count": null,
      "outputs": [
        {
          "output_type": "stream",
          "name": "stdout",
          "text": [
            "initial merge: 419\n",
            "final merge (# of all unique McDonald's locations in MA): 234\n"
          ]
        }
      ]
    },
    {
      "cell_type": "markdown",
      "source": [
        "McDonald's Locations CSV and DataFrame"
      ],
      "metadata": {
        "id": "4sryYBiGFfA4"
      }
    },
    {
      "cell_type": "code",
      "source": [
        "df = pd.DataFrame.from_dict(finalMerge) \n",
        "df.to_csv (r'McD_MA.csv', index = False, header=True)\n",
        "df.head(n=234)"
      ],
      "metadata": {
        "id": "uMhWCQPG-rso",
        "colab": {
          "base_uri": "https://localhost:8080/",
          "height": 424
        },
        "outputId": "840480e1-2c18-4541-8453-73d5b5a1a4c6"
      },
      "execution_count": null,
      "outputs": [
        {
          "output_type": "execute_result",
          "data": {
            "text/plain": [
              "                        street              city postcode state\n",
              "0     664 Crescent St Route 27          Brockton    02302    MA\n",
              "1            908 N Montello St          Brockton    02301    MA\n",
              "2               715 Belmont St          Brockton    02301    MA\n",
              "3               334 N Pearl St          Brockton    02301    MA\n",
              "4           323 Bedford Street           Whitman    02333    MA\n",
              "..                         ...               ...      ...   ...\n",
              "229          245 Housatonic St               Lee    01238    MA\n",
              "230              240 West Road               Lee    01238    MA\n",
              "231  370 West Stockbridge Road               Lee    01238    MA\n",
              "232        445 W Housatonic St        Pittsfield    01201    MA\n",
              "233         302 Stockbridge Rd  Great Barrington    01230    MA\n",
              "\n",
              "[234 rows x 4 columns]"
            ],
            "text/html": [
              "\n",
              "  <div id=\"df-548d7572-3602-45d8-a9fa-028e708cb843\">\n",
              "    <div class=\"colab-df-container\">\n",
              "      <div>\n",
              "<style scoped>\n",
              "    .dataframe tbody tr th:only-of-type {\n",
              "        vertical-align: middle;\n",
              "    }\n",
              "\n",
              "    .dataframe tbody tr th {\n",
              "        vertical-align: top;\n",
              "    }\n",
              "\n",
              "    .dataframe thead th {\n",
              "        text-align: right;\n",
              "    }\n",
              "</style>\n",
              "<table border=\"1\" class=\"dataframe\">\n",
              "  <thead>\n",
              "    <tr style=\"text-align: right;\">\n",
              "      <th></th>\n",
              "      <th>street</th>\n",
              "      <th>city</th>\n",
              "      <th>postcode</th>\n",
              "      <th>state</th>\n",
              "    </tr>\n",
              "  </thead>\n",
              "  <tbody>\n",
              "    <tr>\n",
              "      <th>0</th>\n",
              "      <td>664 Crescent St Route 27</td>\n",
              "      <td>Brockton</td>\n",
              "      <td>02302</td>\n",
              "      <td>MA</td>\n",
              "    </tr>\n",
              "    <tr>\n",
              "      <th>1</th>\n",
              "      <td>908 N Montello St</td>\n",
              "      <td>Brockton</td>\n",
              "      <td>02301</td>\n",
              "      <td>MA</td>\n",
              "    </tr>\n",
              "    <tr>\n",
              "      <th>2</th>\n",
              "      <td>715 Belmont St</td>\n",
              "      <td>Brockton</td>\n",
              "      <td>02301</td>\n",
              "      <td>MA</td>\n",
              "    </tr>\n",
              "    <tr>\n",
              "      <th>3</th>\n",
              "      <td>334 N Pearl St</td>\n",
              "      <td>Brockton</td>\n",
              "      <td>02301</td>\n",
              "      <td>MA</td>\n",
              "    </tr>\n",
              "    <tr>\n",
              "      <th>4</th>\n",
              "      <td>323 Bedford Street</td>\n",
              "      <td>Whitman</td>\n",
              "      <td>02333</td>\n",
              "      <td>MA</td>\n",
              "    </tr>\n",
              "    <tr>\n",
              "      <th>...</th>\n",
              "      <td>...</td>\n",
              "      <td>...</td>\n",
              "      <td>...</td>\n",
              "      <td>...</td>\n",
              "    </tr>\n",
              "    <tr>\n",
              "      <th>229</th>\n",
              "      <td>245 Housatonic St</td>\n",
              "      <td>Lee</td>\n",
              "      <td>01238</td>\n",
              "      <td>MA</td>\n",
              "    </tr>\n",
              "    <tr>\n",
              "      <th>230</th>\n",
              "      <td>240 West Road</td>\n",
              "      <td>Lee</td>\n",
              "      <td>01238</td>\n",
              "      <td>MA</td>\n",
              "    </tr>\n",
              "    <tr>\n",
              "      <th>231</th>\n",
              "      <td>370 West Stockbridge Road</td>\n",
              "      <td>Lee</td>\n",
              "      <td>01238</td>\n",
              "      <td>MA</td>\n",
              "    </tr>\n",
              "    <tr>\n",
              "      <th>232</th>\n",
              "      <td>445 W Housatonic St</td>\n",
              "      <td>Pittsfield</td>\n",
              "      <td>01201</td>\n",
              "      <td>MA</td>\n",
              "    </tr>\n",
              "    <tr>\n",
              "      <th>233</th>\n",
              "      <td>302 Stockbridge Rd</td>\n",
              "      <td>Great Barrington</td>\n",
              "      <td>01230</td>\n",
              "      <td>MA</td>\n",
              "    </tr>\n",
              "  </tbody>\n",
              "</table>\n",
              "<p>234 rows × 4 columns</p>\n",
              "</div>\n",
              "      <button class=\"colab-df-convert\" onclick=\"convertToInteractive('df-548d7572-3602-45d8-a9fa-028e708cb843')\"\n",
              "              title=\"Convert this dataframe to an interactive table.\"\n",
              "              style=\"display:none;\">\n",
              "        \n",
              "  <svg xmlns=\"http://www.w3.org/2000/svg\" height=\"24px\"viewBox=\"0 0 24 24\"\n",
              "       width=\"24px\">\n",
              "    <path d=\"M0 0h24v24H0V0z\" fill=\"none\"/>\n",
              "    <path d=\"M18.56 5.44l.94 2.06.94-2.06 2.06-.94-2.06-.94-.94-2.06-.94 2.06-2.06.94zm-11 1L8.5 8.5l.94-2.06 2.06-.94-2.06-.94L8.5 2.5l-.94 2.06-2.06.94zm10 10l.94 2.06.94-2.06 2.06-.94-2.06-.94-.94-2.06-.94 2.06-2.06.94z\"/><path d=\"M17.41 7.96l-1.37-1.37c-.4-.4-.92-.59-1.43-.59-.52 0-1.04.2-1.43.59L10.3 9.45l-7.72 7.72c-.78.78-.78 2.05 0 2.83L4 21.41c.39.39.9.59 1.41.59.51 0 1.02-.2 1.41-.59l7.78-7.78 2.81-2.81c.8-.78.8-2.07 0-2.86zM5.41 20L4 18.59l7.72-7.72 1.47 1.35L5.41 20z\"/>\n",
              "  </svg>\n",
              "      </button>\n",
              "      \n",
              "  <style>\n",
              "    .colab-df-container {\n",
              "      display:flex;\n",
              "      flex-wrap:wrap;\n",
              "      gap: 12px;\n",
              "    }\n",
              "\n",
              "    .colab-df-convert {\n",
              "      background-color: #E8F0FE;\n",
              "      border: none;\n",
              "      border-radius: 50%;\n",
              "      cursor: pointer;\n",
              "      display: none;\n",
              "      fill: #1967D2;\n",
              "      height: 32px;\n",
              "      padding: 0 0 0 0;\n",
              "      width: 32px;\n",
              "    }\n",
              "\n",
              "    .colab-df-convert:hover {\n",
              "      background-color: #E2EBFA;\n",
              "      box-shadow: 0px 1px 2px rgba(60, 64, 67, 0.3), 0px 1px 3px 1px rgba(60, 64, 67, 0.15);\n",
              "      fill: #174EA6;\n",
              "    }\n",
              "\n",
              "    [theme=dark] .colab-df-convert {\n",
              "      background-color: #3B4455;\n",
              "      fill: #D2E3FC;\n",
              "    }\n",
              "\n",
              "    [theme=dark] .colab-df-convert:hover {\n",
              "      background-color: #434B5C;\n",
              "      box-shadow: 0px 1px 3px 1px rgba(0, 0, 0, 0.15);\n",
              "      filter: drop-shadow(0px 1px 2px rgba(0, 0, 0, 0.3));\n",
              "      fill: #FFFFFF;\n",
              "    }\n",
              "  </style>\n",
              "\n",
              "      <script>\n",
              "        const buttonEl =\n",
              "          document.querySelector('#df-548d7572-3602-45d8-a9fa-028e708cb843 button.colab-df-convert');\n",
              "        buttonEl.style.display =\n",
              "          google.colab.kernel.accessAllowed ? 'block' : 'none';\n",
              "\n",
              "        async function convertToInteractive(key) {\n",
              "          const element = document.querySelector('#df-548d7572-3602-45d8-a9fa-028e708cb843');\n",
              "          const dataTable =\n",
              "            await google.colab.kernel.invokeFunction('convertToInteractive',\n",
              "                                                     [key], {});\n",
              "          if (!dataTable) return;\n",
              "\n",
              "          const docLinkHtml = 'Like what you see? Visit the ' +\n",
              "            '<a target=\"_blank\" href=https://colab.research.google.com/notebooks/data_table.ipynb>data table notebook</a>'\n",
              "            + ' to learn more about interactive tables.';\n",
              "          element.innerHTML = '';\n",
              "          dataTable['output_type'] = 'display_data';\n",
              "          await google.colab.output.renderOutput(dataTable, element);\n",
              "          const docLink = document.createElement('div');\n",
              "          docLink.innerHTML = docLinkHtml;\n",
              "          element.appendChild(docLink);\n",
              "        }\n",
              "      </script>\n",
              "    </div>\n",
              "  </div>\n",
              "  "
            ]
          },
          "metadata": {},
          "execution_count": 243
        }
      ]
    },
    {
      "cell_type": "markdown",
      "source": [
        "# Restaurant Count by County"
      ],
      "metadata": {
        "id": "OU38T-ehIGrW"
      }
    },
    {
      "cell_type": "code",
      "source": [
        "def mdCount(countyCodes, allCodes):\n",
        "  isolated = []\n",
        "  for code in allCodes:\n",
        "    if code in countyCodes:\n",
        "      isolated.append(code)\n",
        "  return {\n",
        "      'mdCodes': isolated,\n",
        "      'mdCount': len(isolated)\n",
        "  }\n",
        "\n",
        "  postcodes = df.loc[:, 'postcode']"
      ],
      "metadata": {
        "id": "QpgX-hZgJ0jf"
      },
      "execution_count": null,
      "outputs": []
    },
    {
      "cell_type": "markdown",
      "source": [
        "Barnstable County"
      ],
      "metadata": {
        "id": "iSBNvWXfH-Pp"
      }
    },
    {
      "cell_type": "code",
      "source": [
        "barnstableZips = ['02532', '02536', '02537', '02540', '02542', '02543', '02556', '02559', '02562', '02563', '02601', '02630', '02631', '02632', '02633', '02635', '02638', '02639', '02642', '02644', '02645', '02646', '02648', '02649', '02650', '02653', '02655', '02657', '02659', '02660', '02664', '02667', '02668', '02670', '02671', '02673', '02675']\n",
        "barnstable = mdCount(barnstableZips, postcodes)\n",
        "barnstable"
      ],
      "metadata": {
        "colab": {
          "base_uri": "https://localhost:8080/"
        },
        "id": "4Rfvu1Hr7Am9",
        "outputId": "78b0670b-a66a-45eb-aedf-06741f393c67"
      },
      "execution_count": null,
      "outputs": [
        {
          "output_type": "execute_result",
          "data": {
            "text/plain": [
              "{'mdCodes': ['02532', '02562', '02532', '02536', '02601', '02601', '02664'],\n",
              " 'mdCount': 7}"
            ]
          },
          "metadata": {},
          "execution_count": 245
        }
      ]
    },
    {
      "cell_type": "markdown",
      "source": [
        "Berkshire County"
      ],
      "metadata": {
        "id": "PieL9NVRJRNP"
      }
    },
    {
      "cell_type": "code",
      "source": [
        "berkshireZips = ['01201', '01220', '01222', '01223', '01224', '01225', '01226', '01230', '01235', '01236', '01237', '01238', '01240', '01245', '01247', '01252', '01253', '01254', '01255', '01256', '01257', '01259', '01266', '01267', '01270', '01343']\n",
        "berkshire = mdCount(berkshireZips, postcodes)\n",
        "berkshire"
      ],
      "metadata": {
        "colab": {
          "base_uri": "https://localhost:8080/"
        },
        "id": "aj9e-C3ZKTGN",
        "outputId": "8939095b-3419-4f49-8b85-c7f2e04e3852"
      },
      "execution_count": null,
      "outputs": [
        {
          "output_type": "execute_result",
          "data": {
            "text/plain": [
              "{'mdCodes': ['01220',\n",
              "  '01201',\n",
              "  '01247',\n",
              "  '01238',\n",
              "  '01238',\n",
              "  '01238',\n",
              "  '01201',\n",
              "  '01230'],\n",
              " 'mdCount': 8}"
            ]
          },
          "metadata": {},
          "execution_count": 246
        }
      ]
    },
    {
      "cell_type": "markdown",
      "source": [
        "Bristol County"
      ],
      "metadata": {
        "id": "juUp7pArKsmn"
      }
    },
    {
      "cell_type": "code",
      "source": [
        "bristolZips = ['02714', '02048' , '02356' , '02375' , '02702' , '02703' , '02715' , '02717' , '02718' , '02719' , '02720' , '02721' , '02723' , '02724' , '02725' , '02726' , '02740' , '02743' , '02744' , '02745' , '02746' , '02747' , '02748' , '02760' , '02762' , '02763' , '02764' , '02766' , '02767' , '02769' , '02771' , '02777' , '02779' , '02780' , '02790']\n",
        "bristol = mdCount(bristolZips, postcodes)\n",
        "bristol"
      ],
      "metadata": {
        "colab": {
          "base_uri": "https://localhost:8080/"
        },
        "id": "CuGsIsuwK_Pv",
        "outputId": "0ef349ce-5284-49ce-df9c-cae082972cf7"
      },
      "execution_count": null,
      "outputs": [
        {
          "output_type": "execute_result",
          "data": {
            "text/plain": [
              "{'mdCodes': ['02767',\n",
              "  '02766',\n",
              "  '02767',\n",
              "  '02780',\n",
              "  '02762',\n",
              "  '02703',\n",
              "  '02760',\n",
              "  '02703',\n",
              "  '02703',\n",
              "  '02777',\n",
              "  '02777',\n",
              "  '02771',\n",
              "  '02720',\n",
              "  '02721',\n",
              "  '02745',\n",
              "  '02721',\n",
              "  '02724',\n",
              "  '02721',\n",
              "  '02746',\n",
              "  '02747',\n",
              "  '02746',\n",
              "  '02740',\n",
              "  '02719',\n",
              "  '02714'],\n",
              " 'mdCount': 24}"
            ]
          },
          "metadata": {},
          "execution_count": 247
        }
      ]
    },
    {
      "cell_type": "markdown",
      "source": [
        "Dukes County"
      ],
      "metadata": {
        "id": "5GStAAbILn4U"
      }
    },
    {
      "cell_type": "code",
      "source": [
        "dukesZips = ['02535', '02539', '02568']\n",
        "dukes = mdCount(dukesZips, postcodes)\n",
        "dukes"
      ],
      "metadata": {
        "colab": {
          "base_uri": "https://localhost:8080/"
        },
        "id": "KbkYmQPELpGd",
        "outputId": "2b5d8dbb-e232-448e-bfc9-406b70f7fe0c"
      },
      "execution_count": null,
      "outputs": [
        {
          "output_type": "execute_result",
          "data": {
            "text/plain": [
              "{'mdCodes': [], 'mdCount': 0}"
            ]
          },
          "metadata": {},
          "execution_count": 248
        }
      ]
    },
    {
      "cell_type": "markdown",
      "source": [
        "Essex County"
      ],
      "metadata": {
        "id": "RRrmTkHgMEQd"
      }
    },
    {
      "cell_type": "code",
      "source": [
        "essexZips = ['01845-1903', '01949-2444', '01810', '01830', '01832', '01833', '01834', '01835', '01840', '01841', '01843', '01844', '01845', '01860', '01901', '01902', '01904', '01905', '01906', '01907', '01908', '01913', '01915', '01921', '01922', '01923', '01929', '01930', '01938', '01940', '01944', '01945', '01949', '01950', '01951', '01952', '01960', '01966', '01969', '01970', '01982', '01983', '01984', '01985']\n",
        "essex = mdCount(essexZips, postcodes)\n",
        "essex"
      ],
      "metadata": {
        "colab": {
          "base_uri": "https://localhost:8080/"
        },
        "id": "GoDXcnIbMF2b",
        "outputId": "b5b5407a-809e-47b4-c7d0-92b065e2839d"
      },
      "execution_count": null,
      "outputs": [
        {
          "output_type": "execute_result",
          "data": {
            "text/plain": [
              "{'mdCodes': ['01905',\n",
              "  '01905',\n",
              "  '01906',\n",
              "  '01904',\n",
              "  '01906',\n",
              "  '01970',\n",
              "  '01970',\n",
              "  '01960',\n",
              "  '01960',\n",
              "  '01923',\n",
              "  '01923',\n",
              "  '01915',\n",
              "  '01949-2444',\n",
              "  '01915',\n",
              "  '01810',\n",
              "  '01930',\n",
              "  '01840',\n",
              "  '01845-1903',\n",
              "  '01969',\n",
              "  '01840',\n",
              "  '01844',\n",
              "  '01844',\n",
              "  '01844',\n",
              "  '01844',\n",
              "  '01835',\n",
              "  '01832',\n",
              "  '01830',\n",
              "  '01950',\n",
              "  '01913'],\n",
              " 'mdCount': 29}"
            ]
          },
          "metadata": {},
          "execution_count": 249
        }
      ]
    },
    {
      "cell_type": "markdown",
      "source": [
        "Franklin County"
      ],
      "metadata": {
        "id": "V6naxOnAMSDX"
      }
    },
    {
      "cell_type": "code",
      "source": [
        "franklinZips = ['01054', '01072', '01301', '01330', '01337', '01338', '01339', '01340', '01341', '01342', '01344', '01346', '01349', '01351', '01354', '01355', '01360', '01364', '01366', '01367', '01370', '01373', '01375', '01376', '01378', '01379', '01380']\n",
        "franklin = mdCount(franklinZips, postcodes)\n",
        "franklin"
      ],
      "metadata": {
        "colab": {
          "base_uri": "https://localhost:8080/"
        },
        "id": "nvLOItmvMWFH",
        "outputId": "4ab9355d-10c9-4701-817f-be72b6b15c92"
      },
      "execution_count": null,
      "outputs": [
        {
          "output_type": "execute_result",
          "data": {
            "text/plain": [
              "{'mdCodes': ['01301', '01301'], 'mdCount': 2}"
            ]
          },
          "metadata": {},
          "execution_count": 250
        }
      ]
    },
    {
      "cell_type": "markdown",
      "source": [
        "Hampden County"
      ],
      "metadata": {
        "id": "6lTdTiYfNmOI"
      }
    },
    {
      "cell_type": "code",
      "source": [
        "hampdenZips = ['01107-1906', '01118-1806', '01104-3036', '01001', '01008', '01010', '01011', '01013', '01020', '01022', '01028', '01030', '01034', '01036', '01040', '01056', '01057', '01069', '01071', '01075', '01077', '01080', '01081', '01085', '01089', '01095', '01103', '01104', '01105', '01106', '01107', '01108', '01109', '01118', '01119', '01128', '01129', '01144', '01151', '01152', '01223', '01521',]\n",
        "hampden = mdCount(hampdenZips, postcodes)\n",
        "hampden"
      ],
      "metadata": {
        "colab": {
          "base_uri": "https://localhost:8080/"
        },
        "id": "m8_xjGYVNrLB",
        "outputId": "6c4892f6-dc20-4fb2-c5f6-f9ea98d9844d"
      },
      "execution_count": null,
      "outputs": [
        {
          "output_type": "execute_result",
          "data": {
            "text/plain": [
              "{'mdCodes': ['01069',\n",
              "  '01056',\n",
              "  '01056',\n",
              "  '01119',\n",
              "  '01020',\n",
              "  '01109',\n",
              "  '01020',\n",
              "  '01104-3036',\n",
              "  '01040',\n",
              "  '01118-1806',\n",
              "  '01040',\n",
              "  '01013',\n",
              "  '01105',\n",
              "  '01103',\n",
              "  '01040',\n",
              "  '01040',\n",
              "  '01105',\n",
              "  '01107-1906',\n",
              "  '01089',\n",
              "  '01089',\n",
              "  '01001',\n",
              "  '01085',\n",
              "  '01085',\n",
              "  '01077',\n",
              "  '01008',\n",
              "  '01008'],\n",
              " 'mdCount': 26}"
            ]
          },
          "metadata": {},
          "execution_count": 251
        }
      ]
    },
    {
      "cell_type": "markdown",
      "source": [
        "Hampshire County"
      ],
      "metadata": {
        "id": "khDUXhBEN45y"
      }
    },
    {
      "cell_type": "code",
      "source": [
        "hampshireZips = ['01002', '01003', '01007', '01011', '01012', '01026', '01027', '01032', '01033', '01035', '01038', '01039', '01050', '01053', '01054', '01060', '01062', '01070', '01073', '01075', '01082', '01084', '01088', '01096', '01098']\n",
        "hampshire = mdCount(hampshireZips, postcodes)\n",
        "hampshire"
      ],
      "metadata": {
        "colab": {
          "base_uri": "https://localhost:8080/"
        },
        "id": "9pJ0KVxKOJAN",
        "outputId": "4263445b-3cb9-435a-ab5e-95b9377268ce"
      },
      "execution_count": null,
      "outputs": [
        {
          "output_type": "execute_result",
          "data": {
            "text/plain": [
              "{'mdCodes': ['01082', '01007', '01035', '01060', '01027'], 'mdCount': 5}"
            ]
          },
          "metadata": {},
          "execution_count": 252
        }
      ]
    },
    {
      "cell_type": "markdown",
      "source": [
        "Middlesex County"
      ],
      "metadata": {
        "id": "DqwsK_W8OUv1"
      }
    },
    {
      "cell_type": "code",
      "source": [
        "middlesexZips = ['01866', '02158', '01431', '01432', '01434', '01450', '01460', '01463', '01464', '01469', '01474', '01701', '01702', '01718', '01719', '01720', '01721', '01730', '01731', '01741', '01742', '01746', '01748', '01749', '01752', '01754', '01760', '01770', '01773', '01775', '01776', '01778', '01801', '01803', '01821', '01824', '01826', '01827', '01850', '01851', '01852', '01854', '01862', '01863', '01864', '01867', '01876', '01879', '01880', '01886', '01887', '01890', '02138', '02139', '02140', '02141', '02142', '02143', '02144', '02145', '02148', '02149', '02155', '02176', '02180', '02420', '02421', '02451', '02452', '02453', '02458', '02459', '02460', '02461', '02462', '02464', '02465', '02466', '02467', '02468', '02472', '02474', '02476', '02478', '02493']\n",
        "middlesex = mdCount(middlesexZips, postcodes)\n",
        "middlesex"
      ],
      "metadata": {
        "colab": {
          "base_uri": "https://localhost:8080/"
        },
        "id": "5v7gJCd5OZ9M",
        "outputId": "35188ab1-cd01-47ce-8d00-c46113fc6e79"
      },
      "execution_count": null,
      "outputs": [
        {
          "output_type": "execute_result",
          "data": {
            "text/plain": [
              "{'mdCodes': ['02158',\n",
              "  '02139',\n",
              "  '02143',\n",
              "  '02462',\n",
              "  '02458',\n",
              "  '02149',\n",
              "  '02138',\n",
              "  '01760',\n",
              "  '02453',\n",
              "  '01760',\n",
              "  '02148',\n",
              "  '01721',\n",
              "  '01701',\n",
              "  '01701',\n",
              "  '01701',\n",
              "  '02421',\n",
              "  '01801',\n",
              "  '01801',\n",
              "  '01803',\n",
              "  '01880',\n",
              "  '01730',\n",
              "  '01867',\n",
              "  '01752',\n",
              "  '01754',\n",
              "  '01821',\n",
              "  '01720',\n",
              "  '01887',\n",
              "  '01864',\n",
              "  '01752',\n",
              "  '01749',\n",
              "  '01876',\n",
              "  '01821',\n",
              "  '01866',\n",
              "  '01852',\n",
              "  '01876',\n",
              "  '01851',\n",
              "  '01824',\n",
              "  '01854',\n",
              "  '01826',\n",
              "  '01432',\n",
              "  '01469'],\n",
              " 'mdCount': 41}"
            ]
          },
          "metadata": {},
          "execution_count": 253
        }
      ]
    },
    {
      "cell_type": "markdown",
      "source": [
        "Nantucket County"
      ],
      "metadata": {
        "id": "df_lylJkOrno"
      }
    },
    {
      "cell_type": "code",
      "source": [
        "nantucketZips = ['02554']\n",
        "nantucket = mdCount(nantucketZips, postcodes)\n",
        "nantucket"
      ],
      "metadata": {
        "colab": {
          "base_uri": "https://localhost:8080/"
        },
        "id": "lRT6XdCGOv1u",
        "outputId": "2d3861ad-4fce-4eb1-f06f-b39162de2c2e"
      },
      "execution_count": null,
      "outputs": [
        {
          "output_type": "execute_result",
          "data": {
            "text/plain": [
              "{'mdCodes': [], 'mdCount': 0}"
            ]
          },
          "metadata": {},
          "execution_count": 254
        }
      ]
    },
    {
      "cell_type": "markdown",
      "source": [
        "Norfolk County"
      ],
      "metadata": {
        "id": "gHlRSApYO8ko"
      }
    },
    {
      "cell_type": "code",
      "source": [
        "norfolkZips = ['02019', '02021', '02025', '02026', '02030', '02032', '02035', '02038', '02052', '02053', '02054', '02056', '02062', '02067', '02071', '02072', '02081', '02090', '02093', '02169', '02170', '02171', '02184', '02186', '02188', '02189', '02190', '02191', '02322', '02324', '02339', '02343', '02368', '02445', '02446', '02467', '02481', '02482', '02492', '02494', '02762']\n",
        "norfolk = mdCount(norfolkZips, postcodes)\n",
        "norfolk"
      ],
      "metadata": {
        "colab": {
          "base_uri": "https://localhost:8080/"
        },
        "id": "v3uzjE1lPIaI",
        "outputId": "5d649118-0fe9-4560-c984-8d9343dcff07"
      },
      "execution_count": null,
      "outputs": [
        {
          "output_type": "execute_result",
          "data": {
            "text/plain": [
              "{'mdCodes': ['02072',\n",
              "  '02368',\n",
              "  '02324',\n",
              "  '02021',\n",
              "  '02184',\n",
              "  '02188',\n",
              "  '02339',\n",
              "  '02062',\n",
              "  '02169',\n",
              "  '02191',\n",
              "  '02062',\n",
              "  '02062',\n",
              "  '02035',\n",
              "  '02081',\n",
              "  '02171',\n",
              "  '02762',\n",
              "  '02492',\n",
              "  '02054',\n",
              "  '02038',\n",
              "  '02019'],\n",
              " 'mdCount': 20}"
            ]
          },
          "metadata": {},
          "execution_count": 255
        }
      ]
    },
    {
      "cell_type": "markdown",
      "source": [
        "Plymouth County"
      ],
      "metadata": {
        "id": "cDBPNVS_PVjH"
      }
    },
    {
      "cell_type": "code",
      "source": [
        "plymouthZips = ['02043', '02045', '02050', '02061', '02066', '02301', '02302', '02324', '02330', '02332', '02333', '02338', '02339', '02341', '02346', '02347', '02351', '02359', '02360', '02364', '02367', '02370', '02379', '02382', '02532', '02538', '02554', '02562', '02571', '02576', '02718', '02738', '02739', '02770']\n",
        "plymouth = mdCount(plymouthZips, postcodes)\n",
        "plymouth"
      ],
      "metadata": {
        "colab": {
          "base_uri": "https://localhost:8080/"
        },
        "id": "RiPh4cxhPciH",
        "outputId": "3a9b1abb-694d-409a-e98d-e3bbcec51828"
      },
      "execution_count": null,
      "outputs": [
        {
          "output_type": "execute_result",
          "data": {
            "text/plain": [
              "{'mdCodes': ['02302',\n",
              "  '02301',\n",
              "  '02301',\n",
              "  '02301',\n",
              "  '02333',\n",
              "  '02370',\n",
              "  '02324',\n",
              "  '02341',\n",
              "  '02061',\n",
              "  '02339',\n",
              "  '02346',\n",
              "  '02364',\n",
              "  '02050',\n",
              "  '02330',\n",
              "  '02360',\n",
              "  '02360',\n",
              "  '02532',\n",
              "  '02562',\n",
              "  '02532'],\n",
              " 'mdCount': 19}"
            ]
          },
          "metadata": {},
          "execution_count": 256
        }
      ]
    },
    {
      "cell_type": "markdown",
      "source": [
        "Suffolk County"
      ],
      "metadata": {
        "id": "Xofq8_J-P04e"
      }
    },
    {
      "cell_type": "code",
      "source": [
        "suffolkZips = ['02108', '02109', '02110', '02111', '02113', '02114', '02115', '02116', '02118', '02119', '02120', '02121', '02122', '02124', '02125', '02126', '02127', '02128', '02129', '02130', '02131', '02132', '02133', '02134', '02135', '02136', '02150', '02151', '02152', '02163', '02199', '02203', '02210', '02215', '02222', '02467']\n",
        "suffolk = mdCount(suffolkZips, postcodes)\n",
        "suffolk"
      ],
      "metadata": {
        "colab": {
          "base_uri": "https://localhost:8080/"
        },
        "id": "BYXqjSH3P4lq",
        "outputId": "dfa81837-29a4-40d3-c688-a284e1c836bf"
      },
      "execution_count": null,
      "outputs": [
        {
          "output_type": "execute_result",
          "data": {
            "text/plain": [
              "{'mdCodes': ['02136',\n",
              "  '02124',\n",
              "  '02124',\n",
              "  '02131',\n",
              "  '02132',\n",
              "  '02122',\n",
              "  '02119',\n",
              "  '02119',\n",
              "  '02118',\n",
              "  '02115',\n",
              "  '02111',\n",
              "  '02110',\n",
              "  '02215',\n",
              "  '02111',\n",
              "  '02108',\n",
              "  '02134',\n",
              "  '02128',\n",
              "  '02135',\n",
              "  '02135',\n",
              "  '02150',\n",
              "  '02150',\n",
              "  '02150',\n",
              "  '02151'],\n",
              " 'mdCount': 23}"
            ]
          },
          "metadata": {},
          "execution_count": 257
        }
      ]
    },
    {
      "cell_type": "markdown",
      "source": [
        "Worcester County"
      ],
      "metadata": {
        "id": "FsNtY0_YQC5g"
      }
    },
    {
      "cell_type": "code",
      "source": [
        "worcesterZips = ['01508', '01501-2458', '01005', '01031', '01068', '01331', '01366', '01368', '01420', '01430', '01434', '01436', '01440', '01451', '01452', '01453', '01462', '01468', '01473', '01475', '01501', '01503', '01504', '01505', '01506', '01507', '01510', '01515', '01516', '01518', '01519', '01520', '01522', '01523', '01524', '01527', '01529', '01531', '01532', '01534', '01535', '01536', '01537', '01540', '01541', '01542', '01543', '01545', '01550', '01560', '01562', '01564', '01566', '01568', '01569', '01570', '01571', '01581', '01583', '01585', '01588', '01590', '01602', '01603', '01604', '01605', '01606', '01607', '01608', '01609', '01610', '01611', '01612', '01655', '01740', '01745', '01747', '01756', '01757', '01772']\n",
        "worcester = mdCount(worcesterZips, postcodes)\n",
        "worcester"
      ],
      "metadata": {
        "colab": {
          "base_uri": "https://localhost:8080/"
        },
        "id": "Wl-rwIjAQHrM",
        "outputId": "63af31fb-2f8b-4b8c-beae-88da5bc9644f"
      },
      "execution_count": null,
      "outputs": [
        {
          "output_type": "execute_result",
          "data": {
            "text/plain": [
              "{'mdCodes': ['01757',\n",
              "  '01757',\n",
              "  '01569',\n",
              "  '01588',\n",
              "  '01581',\n",
              "  '01581',\n",
              "  '01604',\n",
              "  '01607',\n",
              "  '01608',\n",
              "  '01510',\n",
              "  '01501-2458',\n",
              "  '01606',\n",
              "  '01540',\n",
              "  '01570',\n",
              "  '01603',\n",
              "  '01520',\n",
              "  '01453',\n",
              "  '01453',\n",
              "  '01507',\n",
              "  '01453',\n",
              "  '01507',\n",
              "  '01550',\n",
              "  '01420',\n",
              "  '01420',\n",
              "  '01508',\n",
              "  '01562',\n",
              "  '01566',\n",
              "  '01440',\n",
              "  '01475',\n",
              "  '01331'],\n",
              " 'mdCount': 30}"
            ]
          },
          "metadata": {},
          "execution_count": 258
        }
      ]
    },
    {
      "cell_type": "markdown",
      "source": [
        "Restaurant Total From Zip Code Count"
      ],
      "metadata": {
        "id": "NV9OulcaQWxv"
      }
    },
    {
      "cell_type": "code",
      "source": [
        "countyZips = barnstable['mdCodes'] + berkshire['mdCodes'] + bristol['mdCodes'] + dukes['mdCodes'] + essex['mdCodes'] + franklin['mdCodes'] + hampden['mdCodes'] + hampshire['mdCodes'] + middlesex['mdCodes'] + nantucket['mdCodes'] + norfolk['mdCodes'] + plymouth['mdCodes'] + suffolk['mdCodes'] + worcester['mdCodes']\n",
        "missing = []\n",
        "for zip in allPostCodes:\n",
        "  if zip not in countyZips:\n",
        "    missing.append(zip) \n",
        "# manually cross-referenced the few zipcodes that weren't able to be uniformly sorted by the script\n",
        "# Each county's dictionary is now accurate\n",
        "\n",
        "counties = [barnstable['mdCount'], berkshire['mdCount'], bristol['mdCount'], dukes['mdCount'], essex['mdCount'], franklin['mdCount'], hampden['mdCount'], hampshire['mdCount'], middlesex['mdCount'], nantucket['mdCount'], norfolk['mdCount'], plymouth['mdCount'], suffolk['mdCount'], worcester['mdCount']]\n",
        "sum(counties) # should be 234"
      ],
      "metadata": {
        "colab": {
          "base_uri": "https://localhost:8080/"
        },
        "id": "hQx6Yt10QVuQ",
        "outputId": "216558e7-5631-4389-a6f7-60f8716dcfad"
      },
      "execution_count": null,
      "outputs": [
        {
          "output_type": "execute_result",
          "data": {
            "text/plain": [
              "234"
            ]
          },
          "metadata": {},
          "execution_count": 263
        }
      ]
    },
    {
      "cell_type": "markdown",
      "source": [
        "# Per Capita Income by County - Census Data"
      ],
      "metadata": {
        "id": "dHifM1pgKAOW"
      }
    },
    {
      "cell_type": "code",
      "source": [
        "from google.colab import files\n",
        "uploaded = files.upload()\n",
        "\n",
        "income_df = pd.read_csv('Per_capita_income_in_past_12_months_(in_2020_dollars)_2016-2020.csv')\n",
        "income_df.head(n=14)"
      ],
      "metadata": {
        "id": "GpoPIWVVKEvn",
        "outputId": "86d1b3f7-6ef1-4d7d-d340-35a6d11a68be",
        "colab": {
          "base_uri": "https://localhost:8080/",
          "height": 488
        }
      },
      "execution_count": 266,
      "outputs": [
        {
          "output_type": "execute_result",
          "data": {
            "text/plain": [
              "               County Per Capita Income\n",
              "0    Berkshire County          $37,025 \n",
              "1   Barnstable County          $47,315 \n",
              "2      Bristol County          $36,900 \n",
              "3        Dukes County          $43,994 \n",
              "4        Essex County          $43,948 \n",
              "5     Franklin County          $35,919 \n",
              "6      Hampden County          $31,483 \n",
              "7    Hampshire County          $36,600 \n",
              "8    Middlesex County          $54,433 \n",
              "9    Nantucket County          $57,246 \n",
              "10     Norfolk County          $55,860 \n",
              "11    Plymouth County          $45,378 \n",
              "12     Suffolk County          $44,723 \n",
              "13   Worcester County          $39,113 "
            ],
            "text/html": [
              "\n",
              "  <div id=\"df-35ed419b-3b7d-47ae-a5d3-b37eeb914ab4\">\n",
              "    <div class=\"colab-df-container\">\n",
              "      <div>\n",
              "<style scoped>\n",
              "    .dataframe tbody tr th:only-of-type {\n",
              "        vertical-align: middle;\n",
              "    }\n",
              "\n",
              "    .dataframe tbody tr th {\n",
              "        vertical-align: top;\n",
              "    }\n",
              "\n",
              "    .dataframe thead th {\n",
              "        text-align: right;\n",
              "    }\n",
              "</style>\n",
              "<table border=\"1\" class=\"dataframe\">\n",
              "  <thead>\n",
              "    <tr style=\"text-align: right;\">\n",
              "      <th></th>\n",
              "      <th>County</th>\n",
              "      <th>Per Capita Income</th>\n",
              "    </tr>\n",
              "  </thead>\n",
              "  <tbody>\n",
              "    <tr>\n",
              "      <th>0</th>\n",
              "      <td>Berkshire County</td>\n",
              "      <td>$37,025</td>\n",
              "    </tr>\n",
              "    <tr>\n",
              "      <th>1</th>\n",
              "      <td>Barnstable County</td>\n",
              "      <td>$47,315</td>\n",
              "    </tr>\n",
              "    <tr>\n",
              "      <th>2</th>\n",
              "      <td>Bristol County</td>\n",
              "      <td>$36,900</td>\n",
              "    </tr>\n",
              "    <tr>\n",
              "      <th>3</th>\n",
              "      <td>Dukes County</td>\n",
              "      <td>$43,994</td>\n",
              "    </tr>\n",
              "    <tr>\n",
              "      <th>4</th>\n",
              "      <td>Essex County</td>\n",
              "      <td>$43,948</td>\n",
              "    </tr>\n",
              "    <tr>\n",
              "      <th>5</th>\n",
              "      <td>Franklin County</td>\n",
              "      <td>$35,919</td>\n",
              "    </tr>\n",
              "    <tr>\n",
              "      <th>6</th>\n",
              "      <td>Hampden County</td>\n",
              "      <td>$31,483</td>\n",
              "    </tr>\n",
              "    <tr>\n",
              "      <th>7</th>\n",
              "      <td>Hampshire County</td>\n",
              "      <td>$36,600</td>\n",
              "    </tr>\n",
              "    <tr>\n",
              "      <th>8</th>\n",
              "      <td>Middlesex County</td>\n",
              "      <td>$54,433</td>\n",
              "    </tr>\n",
              "    <tr>\n",
              "      <th>9</th>\n",
              "      <td>Nantucket County</td>\n",
              "      <td>$57,246</td>\n",
              "    </tr>\n",
              "    <tr>\n",
              "      <th>10</th>\n",
              "      <td>Norfolk County</td>\n",
              "      <td>$55,860</td>\n",
              "    </tr>\n",
              "    <tr>\n",
              "      <th>11</th>\n",
              "      <td>Plymouth County</td>\n",
              "      <td>$45,378</td>\n",
              "    </tr>\n",
              "    <tr>\n",
              "      <th>12</th>\n",
              "      <td>Suffolk County</td>\n",
              "      <td>$44,723</td>\n",
              "    </tr>\n",
              "    <tr>\n",
              "      <th>13</th>\n",
              "      <td>Worcester County</td>\n",
              "      <td>$39,113</td>\n",
              "    </tr>\n",
              "  </tbody>\n",
              "</table>\n",
              "</div>\n",
              "      <button class=\"colab-df-convert\" onclick=\"convertToInteractive('df-35ed419b-3b7d-47ae-a5d3-b37eeb914ab4')\"\n",
              "              title=\"Convert this dataframe to an interactive table.\"\n",
              "              style=\"display:none;\">\n",
              "        \n",
              "  <svg xmlns=\"http://www.w3.org/2000/svg\" height=\"24px\"viewBox=\"0 0 24 24\"\n",
              "       width=\"24px\">\n",
              "    <path d=\"M0 0h24v24H0V0z\" fill=\"none\"/>\n",
              "    <path d=\"M18.56 5.44l.94 2.06.94-2.06 2.06-.94-2.06-.94-.94-2.06-.94 2.06-2.06.94zm-11 1L8.5 8.5l.94-2.06 2.06-.94-2.06-.94L8.5 2.5l-.94 2.06-2.06.94zm10 10l.94 2.06.94-2.06 2.06-.94-2.06-.94-.94-2.06-.94 2.06-2.06.94z\"/><path d=\"M17.41 7.96l-1.37-1.37c-.4-.4-.92-.59-1.43-.59-.52 0-1.04.2-1.43.59L10.3 9.45l-7.72 7.72c-.78.78-.78 2.05 0 2.83L4 21.41c.39.39.9.59 1.41.59.51 0 1.02-.2 1.41-.59l7.78-7.78 2.81-2.81c.8-.78.8-2.07 0-2.86zM5.41 20L4 18.59l7.72-7.72 1.47 1.35L5.41 20z\"/>\n",
              "  </svg>\n",
              "      </button>\n",
              "      \n",
              "  <style>\n",
              "    .colab-df-container {\n",
              "      display:flex;\n",
              "      flex-wrap:wrap;\n",
              "      gap: 12px;\n",
              "    }\n",
              "\n",
              "    .colab-df-convert {\n",
              "      background-color: #E8F0FE;\n",
              "      border: none;\n",
              "      border-radius: 50%;\n",
              "      cursor: pointer;\n",
              "      display: none;\n",
              "      fill: #1967D2;\n",
              "      height: 32px;\n",
              "      padding: 0 0 0 0;\n",
              "      width: 32px;\n",
              "    }\n",
              "\n",
              "    .colab-df-convert:hover {\n",
              "      background-color: #E2EBFA;\n",
              "      box-shadow: 0px 1px 2px rgba(60, 64, 67, 0.3), 0px 1px 3px 1px rgba(60, 64, 67, 0.15);\n",
              "      fill: #174EA6;\n",
              "    }\n",
              "\n",
              "    [theme=dark] .colab-df-convert {\n",
              "      background-color: #3B4455;\n",
              "      fill: #D2E3FC;\n",
              "    }\n",
              "\n",
              "    [theme=dark] .colab-df-convert:hover {\n",
              "      background-color: #434B5C;\n",
              "      box-shadow: 0px 1px 3px 1px rgba(0, 0, 0, 0.15);\n",
              "      filter: drop-shadow(0px 1px 2px rgba(0, 0, 0, 0.3));\n",
              "      fill: #FFFFFF;\n",
              "    }\n",
              "  </style>\n",
              "\n",
              "      <script>\n",
              "        const buttonEl =\n",
              "          document.querySelector('#df-35ed419b-3b7d-47ae-a5d3-b37eeb914ab4 button.colab-df-convert');\n",
              "        buttonEl.style.display =\n",
              "          google.colab.kernel.accessAllowed ? 'block' : 'none';\n",
              "\n",
              "        async function convertToInteractive(key) {\n",
              "          const element = document.querySelector('#df-35ed419b-3b7d-47ae-a5d3-b37eeb914ab4');\n",
              "          const dataTable =\n",
              "            await google.colab.kernel.invokeFunction('convertToInteractive',\n",
              "                                                     [key], {});\n",
              "          if (!dataTable) return;\n",
              "\n",
              "          const docLinkHtml = 'Like what you see? Visit the ' +\n",
              "            '<a target=\"_blank\" href=https://colab.research.google.com/notebooks/data_table.ipynb>data table notebook</a>'\n",
              "            + ' to learn more about interactive tables.';\n",
              "          element.innerHTML = '';\n",
              "          dataTable['output_type'] = 'display_data';\n",
              "          await google.colab.output.renderOutput(dataTable, element);\n",
              "          const docLink = document.createElement('div');\n",
              "          docLink.innerHTML = docLinkHtml;\n",
              "          element.appendChild(docLink);\n",
              "        }\n",
              "      </script>\n",
              "    </div>\n",
              "  </div>\n",
              "  "
            ]
          },
          "metadata": {},
          "execution_count": 266
        }
      ]
    }
  ]
}