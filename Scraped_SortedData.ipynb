{
  "nbformat": 4,
  "nbformat_minor": 0,
  "metadata": {
    "colab": {
      "name": "Scraped-SortedData.ipynb",
      "provenance": [],
      "collapsed_sections": [],
      "authorship_tag": "ABX9TyMvpo4pxm4u1YIYNGszdYqX",
      "include_colab_link": true
    },
    "kernelspec": {
      "name": "python3",
      "display_name": "Python 3"
    },
    "language_info": {
      "name": "python"
    }
  },
  "cells": [
    {
      "cell_type": "markdown",
      "metadata": {
        "id": "view-in-github",
        "colab_type": "text"
      },
      "source": [
        "<a href=\"https://colab.research.google.com/github/zenDev-2/McScrape/blob/main/Scraped_SortedData.ipynb\" target=\"_parent\"><img src=\"https://colab.research.google.com/assets/colab-badge.svg\" alt=\"Open In Colab\"/></a>"
      ]
    },
    {
      "cell_type": "code",
      "source": [
        "import requests\n",
        "import csv \n",
        "import json\n",
        "import pandas as pd"
      ],
      "metadata": {
        "id": "i5mUyUyX-h7b"
      },
      "execution_count": 45,
      "outputs": []
    },
    {
      "cell_type": "markdown",
      "source": [
        "Eastern Mass"
      ],
      "metadata": {
        "id": "fTI3m7We8y8V"
      }
    },
    {
      "cell_type": "code",
      "source": [
        "url = \"https://www.mcdonalds.com/googleappsv2/geolocation?latitude=42.0834335&longitude=-71.0183787&radius=80000&maxResults=500&country=us&language=en\"\n",
        "\n",
        "payload={}\n",
        "headers = {\n",
        "  'User-Agent': 'Mozilla/5.0 (Macintosh; Intel Mac OS X 10.15; rv:98.0) Gecko/20100101 Firefox/98.0',\n",
        "  'Accept': '*/*',\n",
        "  'Accept-Language': 'en-US,en;q=0.5',\n",
        "  'Accept-Encoding': 'gzip, deflate, br',\n",
        "  'Referer': 'https://www.mcdonalds.com/us/en-us/restaurant-locator.html',\n",
        "  'Connection': 'keep-alive',\n",
        "  'Cookie': '_abck=8010DD6D2623B97BC30AF849750A25F1~0~YAAQZvzDFwFtGQeAAQAAQI7QCweooECTD5gRUqF7MX1HZnW9gUketOCPJggMZWg5eF2iATIabu9Vi236r4mXachXiRy+nqywF+WgO6eVHmMVRFzj15T4LyKY2NsEvkm7irfyQcNGke207sWutoiXUl4qO1I7eWjPTVGlJVtNbT9nLlmmvdodKroK6lgzFCVzVqGKiFwiY915V9fxoZCSmbVimUZSn1E+ZIsh0l6G/MALG3AqaPstwU4ZYUQo3XXTxr/DtVKCJtZrIRNkjvxhFp8yXmDoQB0hjYeVjM+PNOuOP3GyoA9z++jmshxAFZD2trYyxaSZtzETi1Re0+UbxhL2FYlO8uma1yrQHmhuqwJBJhwyeU+m3K+KZueINPGdOYhu8HejdX2b1IX68RFE0ncQMZWO9Pt4rCo+QQ==~-1~-1~-1; AMCV_786ABB6B55C1DA777F000101%40AdobeOrg=-2121179033%7CMCIDTS%7C19091%7CMCMID%7C31674695377750397280010411148622937438%7CMCAAMLH-1650068863%7C7%7CMCAAMB-1650068863%7C6G1ynYcLPuiQxYZrsz_pkqfLG9yMXBpb2zX5dvJdYQJzPXImdj0y%7CMCOPTOUT-1649471263s%7CNONE%7CMCAID%7CNONE%7CvVersion%7C5.3.0; _gcl_au=1.1.955101660.1648148668; OptanonConsent=isIABGlobal=false&datestamp=Fri+Apr+08+2022+20%3A54%3A20+GMT-0400+(Eastern+Daylight+Time)&version=6.31.0&hosts=&landingPath=NotLandingPage&groups=C0001%3A1%2CC0002%3A1%2CC0003%3A1%2CC0004%3A1&AwaitingReconsent=false&geolocation=%3B; s_ecid=MCMID%7C31674695377750397280010411148622937438; s_lastvisit=1649465708699; _clck=1ls2n6b|1|f0h|0; MCDCountry_code=US; bm_sz=DA82445F2EC6C20216EAC9903640F446~YAAQLDovF3iqGgOAAQAAiSomCw/ttVASDkVEqwkuguD5DAzrEe+mszjAP5MkTGU2eSOEE/kQqTKZG8AWDCx1+AkwfZelxlPJP5cyf8REbE74rl0j0Gz7zI7ORZ43yaizJwg5TqE3z46dPIktXQ7vDHlcSbbH+3qXc6nxGcVNqAYDkRYYyb9tNxnijduMW2Lju0MPw1AsgcSfj9FPx/bGrTYYhBE8qJt8SEpGPg43ldl98+rnk68l7xq6CrfazyHjQUt43nruX9V9e6bLbpWOuWlH5WJBT85W9jYiTxFOmaXLkLoNWIo=~3422259~3228212; PLTGE=%2Cevent93=804%2Cevent94=1119%2Cevent95=2%2Cevent109=2273%2Cevent99=49; prevPageName=restaurant%20locator; AMCVS_786ABB6B55C1DA777F000101%40AdobeOrg=1; s_ppvl=restaurant%2520locator%2C58%2C58%2C1145%2C2560%2C1145%2C2560%2C1440%2C1%2CP; s_ppv=restaurant%2520locator%2C58%2C58%2C1145%2C2560%2C451%2C2560%2C1440%2C1%2CP; s_cc=true; _clsk=1d1hl1s|1649465667610|5|1|www.clarity.ms/eus-c/collect; s_sq=%5B%5BB%5D%5D; affinity=\"ea0cf0d8d1346ed2\"; OptanonAlertBoxClosed=2022-04-08T21:50:22.087Z; s_lastvisit_s=Less%20than%201%20day; ak_bmsc=50725956E371683EC86950811CF049F0~000000000000000000000000000000~YAAQZvzDF3wJGQeAAQAADr+3Cw+d8gUIl04GIApwERXzjSOql/47c3Ui+ucMhNdFpGrgtV5hMfngocCGiptD6B1t/X7h54dxIcAPfYbSAt2E64gDJHrIcDQEoLSiUDmhQeJFwS8234ECTofEZ5xuaquZsEUCGpkqr7kojeS2oelTFqbxUvcL4w69eDfChxkB+EB7pOcyiV9jEiwxmIxBWHafI3TrMFHx4DvTVNfVxHnndUbAl4jGuEK82AD1o6RdDi4zctuMPn7kfpkOh8B5aDYp3j7x/liTVQXmoUEtuNOwHFEkDJHO5SGOLK3ZEWT4OcrfGmBwncFuyw1mIQZivM/0RfrQiLGBxAd6Eyk+UFVpDse3QZ7rt2k3/N4J7jyUxwat2ibtoC22tseoUw==; bm_mi=D191EE539F19FD86375DBB73CD021135~z7XQCp6McudyTX3s/tpE6uZYWfgvOYPm7VEXG2G9+lTrnbU5JTyT068wKuxO558m9EilnW5Wb8u8JBf0SrkHalcnb6yw3j1SguSfPwEcIpBzFLA9WYD/N1xOx8A8FGWA6jyl+waUv7jS3VbMTQ9FsnbAo7k6aiQHAPmGkeJSQ2maSCsM6HKSp4inCe+LR7qYe00FxAPPryJlWQUSNoVNncPk228OuAWOfJY8/Xzg39/2ttshk3Y2HQh8FKJHmf9Bg5QPPP7fZ4TVv1XPkQXDvw==; bm_sv=3CE16D1D65B6620033B9947FA910CA84~egisskdOn5boHsToASz2aH8VVkvcG2OIfBKI/Yplq7L4w7Fd0KyiySOy3Wo+u3rkAg6IpZGdY2UnCodQppBE1h694rJLtdKN8xDHaljNERV3GONi3jRlnjMG9+KZJPNmCvwaTquwPDNYTFu5A0zRAap9n0t4fM8I0yUshJMe3AU=; _uetsid=98e06000b78511ecb06d394eb5901821; _uetvid=3aa5da60aba511ecb0b86bf586023803; _abck=8010DD6D2623B97BC30AF849750A25F1~-1~YAAQzzoiF7qt1gGAAQAAvfLiCwd1lWbnFmAo6EKGBBIPrJAtNngyszwGxWlTflf684yNtpKE6rBb4YLWWuexUDHut/mionyWHrWMXm2nLMAyNcsA63W+ZOQfA/bAC4XmLy7r3L+GtyGYf9p+S3VwJCPjtwfsFjVBetWvXBofctAmBhPmaI4tzlkwoA9s2iMl5af3SMc4243hi/dr3yqwdObbEXzMOl5beqYhx963GaMXBG7n9w8zWrOQqpydqvJyYnpvuRV7fArAQkDYr+ih87jMg7s2Z869mSVp9yhbqVhy3ekYI0+46CG1ue+rHqotS9vpx69O9jzlF/G4QffHnoBQIkb5DdQwQ/VOfD71ZyDugEA/v6KYV4DtGTSnU25w5/35L997RH5mHPjDnSfEoKXrj06YTayCRy/c/w==~0~-1~-1; ak_bmsc=50725956E371683EC86950811CF049F0~000000000000000000000000000000~YAAQ2DoiF6kKPgKAAQAAlrXiCw96ifprxviyuyY1+LaKd72TLH8HT0ZXCH67adG0aknmR5naMofLAUv3gRQCwdebjtWrYlmUMmvDv08r++/mIimcIVxdcPvJLiIZytvctGbD6+dyceFhCfshZYLyYgAZ/FKwFCzohzBgkE9aZ2RVO8yJ4Tr/9EX7rljtAO54C5SysIG073D0i+IxQPQPDnq/ePuqeV0CY8jVHO8UuvYgkyjNwaPzpeU2Srjw4nduzBH8jIg+cpPpDp/9TzoDWG0t5ukDEdCR8u9YXOtZi1SjA08IqZ46qWYlmNbQ/PwaVmoFCItJO2WQOuX1+FTOt1yxwOWA8kuyY0pXxO9Q2ziUoEF28BmhyDCrV/J2TTnQo6aWfTl24B79LEcFgi3cA27/gXPoqjgtKDPLwlLgjyntpOJG+w/+FcosrrA3ZG4oM4IuO/M=; bm_sv=3CE16D1D65B6620033B9947FA910CA84~egisskdOn5boHsToASz2aH8VVkvcG2OIfBKI/Yplq7L4w7Fd0KyiySOy3Wo+u3rkAg6IpZGdY2UnCodQppBE1h694rJLtdKN8xDHaljNERVGrQulSNipxEYrz/hdhf1A/jPoFcVzDSbyfiC7p6oNbgrsxrDcvgZBDdqBo1fIhsQ=; MCDCountry_code=US',\n",
        "  'Sec-Fetch-Dest': 'empty',\n",
        "  'Sec-Fetch-Mode': 'cors',\n",
        "  'Sec-Fetch-Site': 'same-origin'\n",
        "}\n",
        "\n",
        "responseEast = requests.request(\"GET\", url, headers=headers, data=payload)"
      ],
      "metadata": {
        "id": "xjdP3aCO8i87",
        "cellView": "code"
      },
      "execution_count": 46,
      "outputs": []
    },
    {
      "cell_type": "code",
      "source": [
        "storesEast = json.loads(responseEast.text)\n",
        "\n",
        "def collectMDs(stores):\n",
        "  mds = []\n",
        "  features = stores['features']\n",
        "  for i in range(len(features)):\n",
        "    d = features[i]\n",
        "    for key in d:\n",
        "      if key == 'properties':\n",
        "        if d[key]['subDivision'] == 'MA':\n",
        "          mds+= [{\n",
        "              'street': d[key]['addressLine1'],\n",
        "              'city': d[key]['addressLine3'],\n",
        "              'postcode': d[key]['postcode'],\n",
        "              'state': d[key]['subDivision']\n",
        "          }]\n",
        "  return mds\n",
        "\n",
        "mdsE = collectMDs(storesEast)\n",
        "print(f'mdsE count: {len(mdsE)}')"
      ],
      "metadata": {
        "colab": {
          "base_uri": "https://localhost:8080/"
        },
        "id": "vSA2slTLLS2I",
        "outputId": "071e19c4-f384-45e5-dee6-29493a37b3c0"
      },
      "execution_count": 47,
      "outputs": [
        {
          "output_type": "stream",
          "name": "stdout",
          "text": [
            "mdsE length: 191\n"
          ]
        }
      ]
    },
    {
      "cell_type": "markdown",
      "source": [
        "Central Mass"
      ],
      "metadata": {
        "id": "eQ8AHEPg84ww"
      }
    },
    {
      "cell_type": "code",
      "source": [
        "url = \"https://www.mcdonalds.com/googleappsv2/geolocation?latitude=42.3490548&longitude=-72.1986558&radius=80000&maxResults=500&country=us&language=en\"\n",
        "\n",
        "payload={}\n",
        "headers = {\n",
        "  'User-Agent': 'Mozilla/5.0 (Macintosh; Intel Mac OS X 10.15; rv:98.0) Gecko/20100101 Firefox/98.0',\n",
        "  'Accept': '*/*',\n",
        "  'Accept-Language': 'en-US,en;q=0.5',\n",
        "  'Accept-Encoding': 'gzip, deflate, br',\n",
        "  'Referer': 'https://www.mcdonalds.com/us/en-us/restaurant-locator.html',\n",
        "  'Connection': 'keep-alive',\n",
        "  'Cookie': '_abck=8010DD6D2623B97BC30AF849750A25F1~0~YAAQZvzDF9cJGQeAAQAAROO3CwepGuNNlR3HmuU3kdXqr9cPC+m8LM3r57nVUrv8UqSZSq8f+/VS6YoO8xcGUWxSzeMlxy6wkYVnrzQ+nZRUEf6cQK+I6XegIyCnNAqSbTYZoSS57HVwCgPnrI3J7twuEzjtNgVnFL3rc+UpSduv5f5FWT8xvVqTEv/bsZfhv+rinq9PL1n1RNLfv8fPPru0JuXBJHB/BTyM5ig7RWvtz4i9PG270hOEHJKKCm2Q8Uc80UJGoZpvHXJOvqiSOs7ow3389G3AflxLIwO+9r0N94v5Sa1zBqKYTD1EJKr1sPGvkvzgkFZPXMjTGTfzQiBQmFOButq5iylupOQiEbNqec2ySOvUdeuuubQjFJc8bI58RBhydFmWudgWZvrrpiH64fz+hbIh1SSfbA==~-1~||-1||~-1; AMCV_786ABB6B55C1DA777F000101%40AdobeOrg=-2121179033%7CMCIDTS%7C19091%7CMCMID%7C31674695377750397280010411148622937438%7CMCAAMLH-1650068863%7C7%7CMCAAMB-1650068863%7C6G1ynYcLPuiQxYZrsz_pkqfLG9yMXBpb2zX5dvJdYQJzPXImdj0y%7CMCOPTOUT-1649471263s%7CNONE%7CMCAID%7CNONE%7CvVersion%7C5.3.0; _gcl_au=1.1.955101660.1648148668; OptanonConsent=isIABGlobal=false&datestamp=Fri+Apr+08+2022+20%3A27%3A43+GMT-0400+(Eastern+Daylight+Time)&version=6.31.0&hosts=&landingPath=NotLandingPage&groups=C0001%3A1%2CC0002%3A1%2CC0003%3A1%2CC0004%3A1&AwaitingReconsent=false&geolocation=%3B; s_ecid=MCMID%7C31674695377750397280010411148622937438; s_lastvisit=1649464072128; _clck=1ls2n6b|1|f0h|0; MCDCountry_code=US; bm_sz=DA82445F2EC6C20216EAC9903640F446~YAAQLDovF3iqGgOAAQAAiSomCw/ttVASDkVEqwkuguD5DAzrEe+mszjAP5MkTGU2eSOEE/kQqTKZG8AWDCx1+AkwfZelxlPJP5cyf8REbE74rl0j0Gz7zI7ORZ43yaizJwg5TqE3z46dPIktXQ7vDHlcSbbH+3qXc6nxGcVNqAYDkRYYyb9tNxnijduMW2Lju0MPw1AsgcSfj9FPx/bGrTYYhBE8qJt8SEpGPg43ldl98+rnk68l7xq6CrfazyHjQUt43nruX9V9e6bLbpWOuWlH5WJBT85W9jYiTxFOmaXLkLoNWIo=~3422259~3228212; PLTGE=%2Cevent93=921%2Cevent94=1284%2Cevent95=3%2Cevent109=2067%2Cevent99=32; prevPageName=restaurant%20locator; AMCVS_786ABB6B55C1DA777F000101%40AdobeOrg=1; s_ppvl=restaurant%2520locator%2C60%2C60%2C1167%2C2560%2C490%2C2560%2C1440%2C1%2CP; s_ppv=restaurant%2520locator%2C60%2C60%2C1167%2C2560%2C490%2C2560%2C1440%2C1%2CP; s_cc=true; _clsk=1d1hl1s|1649464065805|2|1|www.clarity.ms/eus-c/collect; s_sq=mcdusproduts%3D%2526pid%253Drestaurant%252520locator%2526pidt%253D1%2526oid%253D%25250A%252520%252520%252520%252520%252520%252520%252520%252520%252520%252520%252520%252520%252520%252520%252520%252520%252520%252520%252520%252520%252520%252520%252520%252520%252520%252520%252520%252520%252520%252520%252520%252520%25250A%252520%252520%252520%252520%252520%252520%252520%252520%252520%252520%252520%252520%252520%252520%252520%252520%252520%252520%252520%252520%252520%252520%252520%252520%252520%252520%252520%252520%252520%252520%252520%252520%25250A%252520%252520%252520%252520%252520%252520%252520%252520%252520%252520%252520%252520%252520%252520%252520%252520%252520%252520%252520%252520%252520%252520%252520%252520%252520%252520%252520%252520%2526oidt%253D3%2526ot%253DSUBMIT; affinity=\"ea0cf0d8d1346ed2\"; OptanonAlertBoxClosed=2022-04-08T21:50:22.087Z; s_lastvisit_s=Less%20than%201%20day; ak_bmsc=50725956E371683EC86950811CF049F0~000000000000000000000000000000~YAAQZvzDF3wJGQeAAQAADr+3Cw+d8gUIl04GIApwERXzjSOql/47c3Ui+ucMhNdFpGrgtV5hMfngocCGiptD6B1t/X7h54dxIcAPfYbSAt2E64gDJHrIcDQEoLSiUDmhQeJFwS8234ECTofEZ5xuaquZsEUCGpkqr7kojeS2oelTFqbxUvcL4w69eDfChxkB+EB7pOcyiV9jEiwxmIxBWHafI3TrMFHx4DvTVNfVxHnndUbAl4jGuEK82AD1o6RdDi4zctuMPn7kfpkOh8B5aDYp3j7x/liTVQXmoUEtuNOwHFEkDJHO5SGOLK3ZEWT4OcrfGmBwncFuyw1mIQZivM/0RfrQiLGBxAd6Eyk+UFVpDse3QZ7rt2k3/N4J7jyUxwat2ibtoC22tseoUw==; bm_mi=D191EE539F19FD86375DBB73CD021135~z7XQCp6McudyTX3s/tpE6uZYWfgvOYPm7VEXG2G9+lTrnbU5JTyT068wKuxO558mhNs89s1HTGHQ7hhCPJBnwJxm6TTvfV/tWTS4z+DNBOM7uFqQHRQpm5K5qWm1AGnLT+B9zs4vp+ZUx9pZqghZSTwjB7ItSPwhlAxwb469SPtEwSG91A3OsUTjQb2XE9Bedtq+CyTv00vI4V8QZ3mq03VGVlNwG30Z8bxEi9GGroTBXF+VxCavEMBLyXcoYAJZnWGPjOgoXG4tYDJgjFWk5Q==; bm_sv=3CE16D1D65B6620033B9947FA910CA84~egisskdOn5boHsToASz2aH8VVkvcG2OIfBKI/Yplq7L4w7Fd0KyiySOy3Wo+u3rkAg6IpZGdY2UnCodQppBE1h694rJLtdKN8xDHaljNERXaxkJURQ5qbAdymbtEDBhZkIyLqsMpJJcJ+GQQXCZALTB8DH6yEaUzWRKw7P0rbu0=; _uetsid=98e06000b78511ecb06d394eb5901821; _uetvid=3aa5da60aba511ecb0b86bf586023803; _abck=8010DD6D2623B97BC30AF849750A25F1~-1~YAAQzzoiFxmt1gGAAQAAyt/iCwcSYLmodlvmILGu2GvmYtRYJoLkN12vySUOzW/Tm46kYSQH5KrLZMiGdlQvApRRLoDEOFbh1NSbRjiZvW1LWrBj8TNYiM+9I3swcAZGbnbZzvBFlfkA7r8BsFMMLgTjWr1kbqq9l+l+YKtPwheYugWoTZ610Dn/sK446LF5OmlbPYx5tq5HoVBpjJ6wPZQ2Ggk5mvYxqoavUO/trm+VFg9Wwq/8xKaIvGxeO7ZL1jgaEA4IhHJ5N6W3dzG0zE8NpAUsjcQp8JeJPehhQwlS2oB4CeckkKC/YK12auYjvDio9/GlwLUmsPBEDAuacXfOGsqqlZ/mXRlXsUs26Vh/KLclqmOWQFsR8KrAwcKdUuHqAWMA1yW2vj6apEJAdsucYHJYkSizDKG8Ig==~0~-1~-1; ak_bmsc=50725956E371683EC86950811CF049F0~000000000000000000000000000000~YAAQ2DoiF6kKPgKAAQAAlrXiCw96ifprxviyuyY1+LaKd72TLH8HT0ZXCH67adG0aknmR5naMofLAUv3gRQCwdebjtWrYlmUMmvDv08r++/mIimcIVxdcPvJLiIZytvctGbD6+dyceFhCfshZYLyYgAZ/FKwFCzohzBgkE9aZ2RVO8yJ4Tr/9EX7rljtAO54C5SysIG073D0i+IxQPQPDnq/ePuqeV0CY8jVHO8UuvYgkyjNwaPzpeU2Srjw4nduzBH8jIg+cpPpDp/9TzoDWG0t5ukDEdCR8u9YXOtZi1SjA08IqZ46qWYlmNbQ/PwaVmoFCItJO2WQOuX1+FTOt1yxwOWA8kuyY0pXxO9Q2ziUoEF28BmhyDCrV/J2TTnQo6aWfTl24B79LEcFgi3cA27/gXPoqjgtKDPLwlLgjyntpOJG+w/+FcosrrA3ZG4oM4IuO/M=; bm_sv=3CE16D1D65B6620033B9947FA910CA84~egisskdOn5boHsToASz2aH8VVkvcG2OIfBKI/Yplq7L4w7Fd0KyiySOy3Wo+u3rkAg6IpZGdY2UnCodQppBE1h694rJLtdKN8xDHaljNERVGrQulSNipxEYrz/hdhf1A/jPoFcVzDSbyfiC7p6oNbgrsxrDcvgZBDdqBo1fIhsQ=; MCDCountry_code=US',\n",
        "  'Sec-Fetch-Dest': 'empty',\n",
        "  'Sec-Fetch-Mode': 'cors',\n",
        "  'Sec-Fetch-Site': 'same-origin'\n",
        "}\n",
        "\n",
        "responseCentral = requests.request(\"GET\", url, headers=headers, data=payload)\n",
        "storesCentral = json.loads(responseCentral.text)\n",
        "mdsC = collectMDs(storesCentral)\n",
        "print(f'mdsC count: {len(mdsC)}')"
      ],
      "metadata": {
        "colab": {
          "base_uri": "https://localhost:8080/"
        },
        "id": "fK8MCvFm87G2",
        "outputId": "70b9c657-c3bf-4c6e-a271-6a2eb6c1e1ff"
      },
      "execution_count": 48,
      "outputs": [
        {
          "output_type": "stream",
          "name": "stdout",
          "text": [
            "mdsC length: 156\n"
          ]
        }
      ]
    },
    {
      "cell_type": "markdown",
      "source": [
        "Western Mass"
      ],
      "metadata": {
        "id": "EHxQVcA188KU"
      }
    },
    {
      "cell_type": "code",
      "source": [
        "url = \"https://www.mcdonalds.com/googleappsv2/geolocation?latitude=42.3319904&longitude=-73.0829366&radius=80000&maxResults=500&country=us&language=en\"\n",
        "\n",
        "payload={}\n",
        "headers = {\n",
        "  'User-Agent': 'Mozilla/5.0 (Macintosh; Intel Mac OS X 10.15; rv:98.0) Gecko/20100101 Firefox/98.0',\n",
        "  'Accept': '*/*',\n",
        "  'Accept-Language': 'en-US,en;q=0.5',\n",
        "  'Accept-Encoding': 'gzip, deflate, br',\n",
        "  'Referer': 'https://www.mcdonalds.com/us/en-us/restaurant-locator.html',\n",
        "  'Connection': 'keep-alive',\n",
        "  'Cookie': '_abck=8010DD6D2623B97BC30AF849750A25F1~0~YAAQZvzDF6GjGQeAAQAAbNTdCwdcsApETGTM3+AmrHoSxKKEmNAnjeH21r25ce9mTOUK3fAXm5rD/IF9Ws1QIH3WsaFYV7sYDw1ZX9DTgaaJJl/g6Y+RIp0SU7vzENuKcmBEaUWs0Ut10lyZFkpvrreTWWwaf2RHFaeUnmNOi2BIkFcwm8z6H9QNhirjwKX1ZrKsu5mBFTnzaU1AHLJEYXRbGmcI0/6j5MxBx8DxwHZ6koy129xPoebNZGVuJ9NL8F4dVfMdKFF6A621DyK81hm3dKsB+b2QcetsyXz24Ck6Vo6eZ5XqrdOHYWz0hlZO1/sWL7vMteBKXyeZLuNNdy17YdQT2DGWEl3Qn96z7TGb/3wr58ovNBFxVZzZSJRQqlRFrB8DVX87sNRTuvksncceL5vT4SPBEMJ/gg==~-1~-1~-1; AMCV_786ABB6B55C1DA777F000101%40AdobeOrg=-2121179033%7CMCIDTS%7C19091%7CMCMID%7C31674695377750397280010411148622937438%7CMCAAMLH-1650068863%7C7%7CMCAAMB-1650068863%7C6G1ynYcLPuiQxYZrsz_pkqfLG9yMXBpb2zX5dvJdYQJzPXImdj0y%7CMCOPTOUT-1649471263s%7CNONE%7CMCAID%7CNONE%7CvVersion%7C5.3.0; _gcl_au=1.1.955101660.1648148668; OptanonConsent=isIABGlobal=false&datestamp=Fri+Apr+08+2022+21%3A09%3A07+GMT-0400+(Eastern+Daylight+Time)&version=6.31.0&hosts=&landingPath=NotLandingPage&groups=C0001%3A1%2CC0002%3A1%2CC0003%3A1%2CC0004%3A1&AwaitingReconsent=false&geolocation=%3B; s_ecid=MCMID%7C31674695377750397280010411148622937438; s_lastvisit=1649466548366; _clck=1ls2n6b|1|f0h|0; MCDCountry_code=US; bm_sz=DA82445F2EC6C20216EAC9903640F446~YAAQLDovF3iqGgOAAQAAiSomCw/ttVASDkVEqwkuguD5DAzrEe+mszjAP5MkTGU2eSOEE/kQqTKZG8AWDCx1+AkwfZelxlPJP5cyf8REbE74rl0j0Gz7zI7ORZ43yaizJwg5TqE3z46dPIktXQ7vDHlcSbbH+3qXc6nxGcVNqAYDkRYYyb9tNxnijduMW2Lju0MPw1AsgcSfj9FPx/bGrTYYhBE8qJt8SEpGPg43ldl98+rnk68l7xq6CrfazyHjQUt43nruX9V9e6bLbpWOuWlH5WJBT85W9jYiTxFOmaXLkLoNWIo=~3422259~3228212; PLTGE=%2Cevent93=541%2Cevent94=798%2Cevent95=2%2Cevent109=1498%2Cevent99=28; prevPageName=restaurant%20locator; AMCVS_786ABB6B55C1DA777F000101%40AdobeOrg=1; s_ppvl=restaurant%2520locator%2C57%2C57%2C1118%2C2560%2C984%2C2560%2C1440%2C1%2CP; s_ppv=restaurant%2520locator%2C57%2C57%2C1118%2C2560%2C984%2C2560%2C1440%2C1%2CP; s_cc=true; _clsk=1d1hl1s|1649466547432|7|1|www.clarity.ms/eus-c/collect; s_sq=%5B%5BB%5D%5D; affinity=\"ea0cf0d8d1346ed2\"; OptanonAlertBoxClosed=2022-04-08T21:50:22.087Z; s_lastvisit_s=Less%20than%201%20day; ak_bmsc=50725956E371683EC86950811CF049F0~000000000000000000000000000000~YAAQZvzDF3wJGQeAAQAADr+3Cw+d8gUIl04GIApwERXzjSOql/47c3Ui+ucMhNdFpGrgtV5hMfngocCGiptD6B1t/X7h54dxIcAPfYbSAt2E64gDJHrIcDQEoLSiUDmhQeJFwS8234ECTofEZ5xuaquZsEUCGpkqr7kojeS2oelTFqbxUvcL4w69eDfChxkB+EB7pOcyiV9jEiwxmIxBWHafI3TrMFHx4DvTVNfVxHnndUbAl4jGuEK82AD1o6RdDi4zctuMPn7kfpkOh8B5aDYp3j7x/liTVQXmoUEtuNOwHFEkDJHO5SGOLK3ZEWT4OcrfGmBwncFuyw1mIQZivM/0RfrQiLGBxAd6Eyk+UFVpDse3QZ7rt2k3/N4J7jyUxwat2ibtoC22tseoUw==; bm_mi=D191EE539F19FD86375DBB73CD021135~z7XQCp6McudyTX3s/tpE6uZYWfgvOYPm7VEXG2G9+lTrnbU5JTyT068wKuxO558m9EilnW5Wb8u8JBf0SrkHalcnb6yw3j1SguSfPwEcIpBzFLA9WYD/N1xOx8A8FGWA6jyl+waUv7jS3VbMTQ9FsnbAo7k6aiQHAPmGkeJSQ2maSCsM6HKSp4inCe+LR7qYe00FxAPPryJlWQUSNoVNnR+2OSuX3qlKGmLgD77Jfp1O7NqNu48sgQ28CcZrYjD/cQQHCfPTSs6I20Q+8CQjmQ==; bm_sv=3CE16D1D65B6620033B9947FA910CA84~egisskdOn5boHsToASz2aH8VVkvcG2OIfBKI/Yplq7L4w7Fd0KyiySOy3Wo+u3rkAg6IpZGdY2UnCodQppBE1h694rJLtdKN8xDHaljNERW+Qc5rKqPSwlOXSQivzWV/oTtfnflxSuTh3t3ASnuqjqrWQHIWwgddCCPZ4JZ9NUo=; _uetsid=98e06000b78511ecb06d394eb5901821; _uetvid=3aa5da60aba511ecb0b86bf586023803; _abck=8010DD6D2623B97BC30AF849750A25F1~-1~YAAQzzoiF52r1gGAAQAAw7fiCwfv4/eEEsPXyBE9X6+UhEX/6tlJDuAKKYkY4IymdKEYwq/vcjN3p8wnnzvfgM++go5MqSatf/+dDUtkzKpynb/ayn7VGuYrPZL6YRCkxk02ChawvGhKZ+oIInntRLKwbpVWM6XUFugWRsJN2zQd9jM65Jix9FEeCQA5i42k80Fdo/Uv//0fHGHgFSMw+11ACo8W7lL/iLPQu9VqoLY+ab/Cxs6VCIrIktJCpec341FQUEStt7UzcJGAkM7ekr33Ch+X66wsMRdBykIwIeDsvCaNk2Dhyt8h+wyPZI0/kEe3waA0C4JAAn/IP91Erf0ogD7cDPvPyIjL7HWu9dMckQrdnkhczPB57ui+5Ikopio/BPg8n/V9l+sCAbT6eBNSEgls8KBKjKRvTg==~0~-1~-1; ak_bmsc=50725956E371683EC86950811CF049F0~000000000000000000000000000000~YAAQ2DoiF6kKPgKAAQAAlrXiCw96ifprxviyuyY1+LaKd72TLH8HT0ZXCH67adG0aknmR5naMofLAUv3gRQCwdebjtWrYlmUMmvDv08r++/mIimcIVxdcPvJLiIZytvctGbD6+dyceFhCfshZYLyYgAZ/FKwFCzohzBgkE9aZ2RVO8yJ4Tr/9EX7rljtAO54C5SysIG073D0i+IxQPQPDnq/ePuqeV0CY8jVHO8UuvYgkyjNwaPzpeU2Srjw4nduzBH8jIg+cpPpDp/9TzoDWG0t5ukDEdCR8u9YXOtZi1SjA08IqZ46qWYlmNbQ/PwaVmoFCItJO2WQOuX1+FTOt1yxwOWA8kuyY0pXxO9Q2ziUoEF28BmhyDCrV/J2TTnQo6aWfTl24B79LEcFgi3cA27/gXPoqjgtKDPLwlLgjyntpOJG+w/+FcosrrA3ZG4oM4IuO/M=; bm_sv=3CE16D1D65B6620033B9947FA910CA84~egisskdOn5boHsToASz2aH8VVkvcG2OIfBKI/Yplq7L4w7Fd0KyiySOy3Wo+u3rkAg6IpZGdY2UnCodQppBE1h694rJLtdKN8xDHaljNERUI6keSMTIKdt6z7LreC3BJpi8wtvB2Vlbg/KKVCfhX4zf+f2kru/8HZ9qDE9T6yr4=; MCDCountry_code=US',\n",
        "  'Sec-Fetch-Dest': 'empty',\n",
        "  'Sec-Fetch-Mode': 'cors',\n",
        "  'Sec-Fetch-Site': 'same-origin'\n",
        "}\n",
        "\n",
        "responseWest = requests.request(\"GET\", url, headers=headers, data=payload)\n",
        "storesWest = json.loads(responseWest.text)\n",
        "mdsW = collectMDs(storesWest)\n",
        "print(f'mdsW count: {len(mdsW)}')"
      ],
      "metadata": {
        "colab": {
          "base_uri": "https://localhost:8080/"
        },
        "id": "cjPl6jiy89n5",
        "outputId": "bfd227de-32ae-45a1-94c0-b515d3683d5d"
      },
      "execution_count": 49,
      "outputs": [
        {
          "output_type": "stream",
          "name": "stdout",
          "text": [
            "mdsW length: 72\n"
          ]
        }
      ]
    },
    {
      "cell_type": "code",
      "source": [
        "mdsMerged = mdsE + mdsC + mdsW \n",
        "print(f'initial merge: {len(mdsMerged)}')\n",
        "\n",
        "finalMerge = []\n",
        "check = set()\n",
        "\n",
        "for d in mdsMerged.copy():\n",
        "  j = json.dumps(d)\n",
        "  if j not in check:\n",
        "    check.add(j)\n",
        "    finalMerge += [d]\n",
        "print(f\"final merge (# of all unique McDonald's locations in MA): {len(finalMerge)}\")"
      ],
      "metadata": {
        "colab": {
          "base_uri": "https://localhost:8080/"
        },
        "id": "Gz-q4tfuklEN",
        "outputId": "8bbe16ca-7c95-4230-9ffe-4898c5ccc9b4"
      },
      "execution_count": 58,
      "outputs": [
        {
          "output_type": "stream",
          "name": "stdout",
          "text": [
            "initial merge: 419\n",
            "final merge (# of all unique McDonald's locations in MA): 234\n"
          ]
        }
      ]
    },
    {
      "cell_type": "markdown",
      "source": [
        "McDonald's Locations CSV and DataFrame"
      ],
      "metadata": {
        "id": "4sryYBiGFfA4"
      }
    },
    {
      "cell_type": "code",
      "source": [
        "df = pd.DataFrame.from_dict(finalMerge) \n",
        "df.to_csv (r'McD_MA.csv', index = False, header=True)\n",
        "# df.head(n=50)"
      ],
      "metadata": {
        "id": "uMhWCQPG-rso"
      },
      "execution_count": null,
      "outputs": []
    }
  ]
}