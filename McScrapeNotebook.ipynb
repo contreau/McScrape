{
  "nbformat": 4,
  "nbformat_minor": 0,
  "metadata": {
    "colab": {
      "name": "McScrapeNotebook.ipynb",
      "provenance": [],
      "collapsed_sections": [],
      "include_colab_link": true
    },
    "kernelspec": {
      "name": "python3",
      "display_name": "Python 3"
    },
    "language_info": {
      "name": "python"
    }
  },
  "cells": [
    {
      "cell_type": "markdown",
      "metadata": {
        "id": "view-in-github",
        "colab_type": "text"
      },
      "source": [
        "<a href=\"https://colab.research.google.com/github/zenDev-2/McScrape/blob/main/McScrapeNotebook.ipynb\" target=\"_parent\"><img src=\"https://colab.research.google.com/assets/colab-badge.svg\" alt=\"Open In Colab\"/></a>"
      ]
    },
    {
      "cell_type": "code",
      "source": [
        "import requests\n",
        "import csv \n",
        "import json\n",
        "import pandas as pd\n",
        "import numpy as np\n",
        "import seaborn as sb\n",
        "from matplotlib import pyplot as plt"
      ],
      "metadata": {
        "id": "i5mUyUyX-h7b"
      },
      "execution_count": 1,
      "outputs": []
    },
    {
      "cell_type": "markdown",
      "source": [
        "# Scrape of MA McDonald's Locations"
      ],
      "metadata": {
        "id": "P3dc__pPmiQK"
      }
    },
    {
      "cell_type": "markdown",
      "source": [
        "Eastern Mass"
      ],
      "metadata": {
        "id": "fTI3m7We8y8V"
      }
    },
    {
      "cell_type": "code",
      "source": [
        "url = \"https://www.mcdonalds.com/googleappsv2/geolocation?latitude=42.0834335&longitude=-71.0183787&radius=80000&maxResults=500&country=us&language=en\"\n",
        "\n",
        "# payload + headers variables for each region generated using the Postman API Platform\n",
        "# Postman: https://www.postman.com/\n",
        "payload={}\n",
        "headers = {\n",
        "  'User-Agent': 'Mozilla/5.0 (Macintosh; Intel Mac OS X 10.15; rv:98.0) Gecko/20100101 Firefox/98.0',\n",
        "  'Accept': '*/*',\n",
        "  'Accept-Language': 'en-US,en;q=0.5',\n",
        "  'Accept-Encoding': 'gzip, deflate, br',\n",
        "  'Referer': 'https://www.mcdonalds.com/us/en-us/restaurant-locator.html',\n",
        "  'Connection': 'keep-alive',\n",
        "  'Cookie': '_abck=8010DD6D2623B97BC30AF849750A25F1~0~YAAQZvzDFwFtGQeAAQAAQI7QCweooECTD5gRUqF7MX1HZnW9gUketOCPJggMZWg5eF2iATIabu9Vi236r4mXachXiRy+nqywF+WgO6eVHmMVRFzj15T4LyKY2NsEvkm7irfyQcNGke207sWutoiXUl4qO1I7eWjPTVGlJVtNbT9nLlmmvdodKroK6lgzFCVzVqGKiFwiY915V9fxoZCSmbVimUZSn1E+ZIsh0l6G/MALG3AqaPstwU4ZYUQo3XXTxr/DtVKCJtZrIRNkjvxhFp8yXmDoQB0hjYeVjM+PNOuOP3GyoA9z++jmshxAFZD2trYyxaSZtzETi1Re0+UbxhL2FYlO8uma1yrQHmhuqwJBJhwyeU+m3K+KZueINPGdOYhu8HejdX2b1IX68RFE0ncQMZWO9Pt4rCo+QQ==~-1~-1~-1; AMCV_786ABB6B55C1DA777F000101%40AdobeOrg=-2121179033%7CMCIDTS%7C19091%7CMCMID%7C31674695377750397280010411148622937438%7CMCAAMLH-1650068863%7C7%7CMCAAMB-1650068863%7C6G1ynYcLPuiQxYZrsz_pkqfLG9yMXBpb2zX5dvJdYQJzPXImdj0y%7CMCOPTOUT-1649471263s%7CNONE%7CMCAID%7CNONE%7CvVersion%7C5.3.0; _gcl_au=1.1.955101660.1648148668; OptanonConsent=isIABGlobal=false&datestamp=Fri+Apr+08+2022+20%3A54%3A20+GMT-0400+(Eastern+Daylight+Time)&version=6.31.0&hosts=&landingPath=NotLandingPage&groups=C0001%3A1%2CC0002%3A1%2CC0003%3A1%2CC0004%3A1&AwaitingReconsent=false&geolocation=%3B; s_ecid=MCMID%7C31674695377750397280010411148622937438; s_lastvisit=1649465708699; _clck=1ls2n6b|1|f0h|0; MCDCountry_code=US; bm_sz=DA82445F2EC6C20216EAC9903640F446~YAAQLDovF3iqGgOAAQAAiSomCw/ttVASDkVEqwkuguD5DAzrEe+mszjAP5MkTGU2eSOEE/kQqTKZG8AWDCx1+AkwfZelxlPJP5cyf8REbE74rl0j0Gz7zI7ORZ43yaizJwg5TqE3z46dPIktXQ7vDHlcSbbH+3qXc6nxGcVNqAYDkRYYyb9tNxnijduMW2Lju0MPw1AsgcSfj9FPx/bGrTYYhBE8qJt8SEpGPg43ldl98+rnk68l7xq6CrfazyHjQUt43nruX9V9e6bLbpWOuWlH5WJBT85W9jYiTxFOmaXLkLoNWIo=~3422259~3228212; PLTGE=%2Cevent93=804%2Cevent94=1119%2Cevent95=2%2Cevent109=2273%2Cevent99=49; prevPageName=restaurant%20locator; AMCVS_786ABB6B55C1DA777F000101%40AdobeOrg=1; s_ppvl=restaurant%2520locator%2C58%2C58%2C1145%2C2560%2C1145%2C2560%2C1440%2C1%2CP; s_ppv=restaurant%2520locator%2C58%2C58%2C1145%2C2560%2C451%2C2560%2C1440%2C1%2CP; s_cc=true; _clsk=1d1hl1s|1649465667610|5|1|www.clarity.ms/eus-c/collect; s_sq=%5B%5BB%5D%5D; affinity=\"ea0cf0d8d1346ed2\"; OptanonAlertBoxClosed=2022-04-08T21:50:22.087Z; s_lastvisit_s=Less%20than%201%20day; ak_bmsc=50725956E371683EC86950811CF049F0~000000000000000000000000000000~YAAQZvzDF3wJGQeAAQAADr+3Cw+d8gUIl04GIApwERXzjSOql/47c3Ui+ucMhNdFpGrgtV5hMfngocCGiptD6B1t/X7h54dxIcAPfYbSAt2E64gDJHrIcDQEoLSiUDmhQeJFwS8234ECTofEZ5xuaquZsEUCGpkqr7kojeS2oelTFqbxUvcL4w69eDfChxkB+EB7pOcyiV9jEiwxmIxBWHafI3TrMFHx4DvTVNfVxHnndUbAl4jGuEK82AD1o6RdDi4zctuMPn7kfpkOh8B5aDYp3j7x/liTVQXmoUEtuNOwHFEkDJHO5SGOLK3ZEWT4OcrfGmBwncFuyw1mIQZivM/0RfrQiLGBxAd6Eyk+UFVpDse3QZ7rt2k3/N4J7jyUxwat2ibtoC22tseoUw==; bm_mi=D191EE539F19FD86375DBB73CD021135~z7XQCp6McudyTX3s/tpE6uZYWfgvOYPm7VEXG2G9+lTrnbU5JTyT068wKuxO558m9EilnW5Wb8u8JBf0SrkHalcnb6yw3j1SguSfPwEcIpBzFLA9WYD/N1xOx8A8FGWA6jyl+waUv7jS3VbMTQ9FsnbAo7k6aiQHAPmGkeJSQ2maSCsM6HKSp4inCe+LR7qYe00FxAPPryJlWQUSNoVNncPk228OuAWOfJY8/Xzg39/2ttshk3Y2HQh8FKJHmf9Bg5QPPP7fZ4TVv1XPkQXDvw==; bm_sv=3CE16D1D65B6620033B9947FA910CA84~egisskdOn5boHsToASz2aH8VVkvcG2OIfBKI/Yplq7L4w7Fd0KyiySOy3Wo+u3rkAg6IpZGdY2UnCodQppBE1h694rJLtdKN8xDHaljNERV3GONi3jRlnjMG9+KZJPNmCvwaTquwPDNYTFu5A0zRAap9n0t4fM8I0yUshJMe3AU=; _uetsid=98e06000b78511ecb06d394eb5901821; _uetvid=3aa5da60aba511ecb0b86bf586023803; _abck=8010DD6D2623B97BC30AF849750A25F1~-1~YAAQzzoiF7qt1gGAAQAAvfLiCwd1lWbnFmAo6EKGBBIPrJAtNngyszwGxWlTflf684yNtpKE6rBb4YLWWuexUDHut/mionyWHrWMXm2nLMAyNcsA63W+ZOQfA/bAC4XmLy7r3L+GtyGYf9p+S3VwJCPjtwfsFjVBetWvXBofctAmBhPmaI4tzlkwoA9s2iMl5af3SMc4243hi/dr3yqwdObbEXzMOl5beqYhx963GaMXBG7n9w8zWrOQqpydqvJyYnpvuRV7fArAQkDYr+ih87jMg7s2Z869mSVp9yhbqVhy3ekYI0+46CG1ue+rHqotS9vpx69O9jzlF/G4QffHnoBQIkb5DdQwQ/VOfD71ZyDugEA/v6KYV4DtGTSnU25w5/35L997RH5mHPjDnSfEoKXrj06YTayCRy/c/w==~0~-1~-1; ak_bmsc=50725956E371683EC86950811CF049F0~000000000000000000000000000000~YAAQ2DoiF6kKPgKAAQAAlrXiCw96ifprxviyuyY1+LaKd72TLH8HT0ZXCH67adG0aknmR5naMofLAUv3gRQCwdebjtWrYlmUMmvDv08r++/mIimcIVxdcPvJLiIZytvctGbD6+dyceFhCfshZYLyYgAZ/FKwFCzohzBgkE9aZ2RVO8yJ4Tr/9EX7rljtAO54C5SysIG073D0i+IxQPQPDnq/ePuqeV0CY8jVHO8UuvYgkyjNwaPzpeU2Srjw4nduzBH8jIg+cpPpDp/9TzoDWG0t5ukDEdCR8u9YXOtZi1SjA08IqZ46qWYlmNbQ/PwaVmoFCItJO2WQOuX1+FTOt1yxwOWA8kuyY0pXxO9Q2ziUoEF28BmhyDCrV/J2TTnQo6aWfTl24B79LEcFgi3cA27/gXPoqjgtKDPLwlLgjyntpOJG+w/+FcosrrA3ZG4oM4IuO/M=; bm_sv=3CE16D1D65B6620033B9947FA910CA84~egisskdOn5boHsToASz2aH8VVkvcG2OIfBKI/Yplq7L4w7Fd0KyiySOy3Wo+u3rkAg6IpZGdY2UnCodQppBE1h694rJLtdKN8xDHaljNERVGrQulSNipxEYrz/hdhf1A/jPoFcVzDSbyfiC7p6oNbgrsxrDcvgZBDdqBo1fIhsQ=; MCDCountry_code=US',\n",
        "  'Sec-Fetch-Dest': 'empty',\n",
        "  'Sec-Fetch-Mode': 'cors',\n",
        "  'Sec-Fetch-Site': 'same-origin'\n",
        "}\n",
        "\n",
        "responseEast = requests.request(\"GET\", url, headers=headers, data=payload)"
      ],
      "metadata": {
        "id": "xjdP3aCO8i87",
        "cellView": "code"
      },
      "execution_count": 2,
      "outputs": []
    },
    {
      "cell_type": "code",
      "source": [
        "storesEast = json.loads(responseEast.text)\n",
        "\n",
        "def collectMDs(stores):\n",
        "  mds = []\n",
        "  features = stores['features']\n",
        "  for i in range(len(features)):\n",
        "    d = features[i]\n",
        "    for key in d:\n",
        "      if key == 'properties':\n",
        "        if d[key]['subDivision'] == 'MA':\n",
        "          mds+= [{\n",
        "              'street': d[key]['addressLine1'],\n",
        "              'city': d[key]['addressLine3'],\n",
        "              'postcode': d[key]['postcode'],\n",
        "              'state': d[key]['subDivision']\n",
        "          }]\n",
        "  return mds\n",
        "\n",
        "mdsE = collectMDs(storesEast)\n",
        "print(f'mdsE count: {len(mdsE)}')"
      ],
      "metadata": {
        "colab": {
          "base_uri": "https://localhost:8080/"
        },
        "id": "vSA2slTLLS2I",
        "outputId": "6f94738c-8a64-4c13-c559-e7e52815bd43"
      },
      "execution_count": 3,
      "outputs": [
        {
          "output_type": "stream",
          "name": "stdout",
          "text": [
            "mdsE count: 191\n"
          ]
        }
      ]
    },
    {
      "cell_type": "markdown",
      "source": [
        "Central Mass"
      ],
      "metadata": {
        "id": "eQ8AHEPg84ww"
      }
    },
    {
      "cell_type": "code",
      "source": [
        "url = \"https://www.mcdonalds.com/googleappsv2/geolocation?latitude=42.3490548&longitude=-72.1986558&radius=80000&maxResults=500&country=us&language=en\"\n",
        "\n",
        "payload={}\n",
        "headers = {\n",
        "  'User-Agent': 'Mozilla/5.0 (Macintosh; Intel Mac OS X 10.15; rv:98.0) Gecko/20100101 Firefox/98.0',\n",
        "  'Accept': '*/*',\n",
        "  'Accept-Language': 'en-US,en;q=0.5',\n",
        "  'Accept-Encoding': 'gzip, deflate, br',\n",
        "  'Referer': 'https://www.mcdonalds.com/us/en-us/restaurant-locator.html',\n",
        "  'Connection': 'keep-alive',\n",
        "  'Cookie': '_abck=8010DD6D2623B97BC30AF849750A25F1~0~YAAQZvzDF9cJGQeAAQAAROO3CwepGuNNlR3HmuU3kdXqr9cPC+m8LM3r57nVUrv8UqSZSq8f+/VS6YoO8xcGUWxSzeMlxy6wkYVnrzQ+nZRUEf6cQK+I6XegIyCnNAqSbTYZoSS57HVwCgPnrI3J7twuEzjtNgVnFL3rc+UpSduv5f5FWT8xvVqTEv/bsZfhv+rinq9PL1n1RNLfv8fPPru0JuXBJHB/BTyM5ig7RWvtz4i9PG270hOEHJKKCm2Q8Uc80UJGoZpvHXJOvqiSOs7ow3389G3AflxLIwO+9r0N94v5Sa1zBqKYTD1EJKr1sPGvkvzgkFZPXMjTGTfzQiBQmFOButq5iylupOQiEbNqec2ySOvUdeuuubQjFJc8bI58RBhydFmWudgWZvrrpiH64fz+hbIh1SSfbA==~-1~||-1||~-1; AMCV_786ABB6B55C1DA777F000101%40AdobeOrg=-2121179033%7CMCIDTS%7C19091%7CMCMID%7C31674695377750397280010411148622937438%7CMCAAMLH-1650068863%7C7%7CMCAAMB-1650068863%7C6G1ynYcLPuiQxYZrsz_pkqfLG9yMXBpb2zX5dvJdYQJzPXImdj0y%7CMCOPTOUT-1649471263s%7CNONE%7CMCAID%7CNONE%7CvVersion%7C5.3.0; _gcl_au=1.1.955101660.1648148668; OptanonConsent=isIABGlobal=false&datestamp=Fri+Apr+08+2022+20%3A27%3A43+GMT-0400+(Eastern+Daylight+Time)&version=6.31.0&hosts=&landingPath=NotLandingPage&groups=C0001%3A1%2CC0002%3A1%2CC0003%3A1%2CC0004%3A1&AwaitingReconsent=false&geolocation=%3B; s_ecid=MCMID%7C31674695377750397280010411148622937438; s_lastvisit=1649464072128; _clck=1ls2n6b|1|f0h|0; MCDCountry_code=US; bm_sz=DA82445F2EC6C20216EAC9903640F446~YAAQLDovF3iqGgOAAQAAiSomCw/ttVASDkVEqwkuguD5DAzrEe+mszjAP5MkTGU2eSOEE/kQqTKZG8AWDCx1+AkwfZelxlPJP5cyf8REbE74rl0j0Gz7zI7ORZ43yaizJwg5TqE3z46dPIktXQ7vDHlcSbbH+3qXc6nxGcVNqAYDkRYYyb9tNxnijduMW2Lju0MPw1AsgcSfj9FPx/bGrTYYhBE8qJt8SEpGPg43ldl98+rnk68l7xq6CrfazyHjQUt43nruX9V9e6bLbpWOuWlH5WJBT85W9jYiTxFOmaXLkLoNWIo=~3422259~3228212; PLTGE=%2Cevent93=921%2Cevent94=1284%2Cevent95=3%2Cevent109=2067%2Cevent99=32; prevPageName=restaurant%20locator; AMCVS_786ABB6B55C1DA777F000101%40AdobeOrg=1; s_ppvl=restaurant%2520locator%2C60%2C60%2C1167%2C2560%2C490%2C2560%2C1440%2C1%2CP; s_ppv=restaurant%2520locator%2C60%2C60%2C1167%2C2560%2C490%2C2560%2C1440%2C1%2CP; s_cc=true; _clsk=1d1hl1s|1649464065805|2|1|www.clarity.ms/eus-c/collect; s_sq=mcdusproduts%3D%2526pid%253Drestaurant%252520locator%2526pidt%253D1%2526oid%253D%25250A%252520%252520%252520%252520%252520%252520%252520%252520%252520%252520%252520%252520%252520%252520%252520%252520%252520%252520%252520%252520%252520%252520%252520%252520%252520%252520%252520%252520%252520%252520%252520%252520%25250A%252520%252520%252520%252520%252520%252520%252520%252520%252520%252520%252520%252520%252520%252520%252520%252520%252520%252520%252520%252520%252520%252520%252520%252520%252520%252520%252520%252520%252520%252520%252520%252520%25250A%252520%252520%252520%252520%252520%252520%252520%252520%252520%252520%252520%252520%252520%252520%252520%252520%252520%252520%252520%252520%252520%252520%252520%252520%252520%252520%252520%252520%2526oidt%253D3%2526ot%253DSUBMIT; affinity=\"ea0cf0d8d1346ed2\"; OptanonAlertBoxClosed=2022-04-08T21:50:22.087Z; s_lastvisit_s=Less%20than%201%20day; ak_bmsc=50725956E371683EC86950811CF049F0~000000000000000000000000000000~YAAQZvzDF3wJGQeAAQAADr+3Cw+d8gUIl04GIApwERXzjSOql/47c3Ui+ucMhNdFpGrgtV5hMfngocCGiptD6B1t/X7h54dxIcAPfYbSAt2E64gDJHrIcDQEoLSiUDmhQeJFwS8234ECTofEZ5xuaquZsEUCGpkqr7kojeS2oelTFqbxUvcL4w69eDfChxkB+EB7pOcyiV9jEiwxmIxBWHafI3TrMFHx4DvTVNfVxHnndUbAl4jGuEK82AD1o6RdDi4zctuMPn7kfpkOh8B5aDYp3j7x/liTVQXmoUEtuNOwHFEkDJHO5SGOLK3ZEWT4OcrfGmBwncFuyw1mIQZivM/0RfrQiLGBxAd6Eyk+UFVpDse3QZ7rt2k3/N4J7jyUxwat2ibtoC22tseoUw==; bm_mi=D191EE539F19FD86375DBB73CD021135~z7XQCp6McudyTX3s/tpE6uZYWfgvOYPm7VEXG2G9+lTrnbU5JTyT068wKuxO558mhNs89s1HTGHQ7hhCPJBnwJxm6TTvfV/tWTS4z+DNBOM7uFqQHRQpm5K5qWm1AGnLT+B9zs4vp+ZUx9pZqghZSTwjB7ItSPwhlAxwb469SPtEwSG91A3OsUTjQb2XE9Bedtq+CyTv00vI4V8QZ3mq03VGVlNwG30Z8bxEi9GGroTBXF+VxCavEMBLyXcoYAJZnWGPjOgoXG4tYDJgjFWk5Q==; bm_sv=3CE16D1D65B6620033B9947FA910CA84~egisskdOn5boHsToASz2aH8VVkvcG2OIfBKI/Yplq7L4w7Fd0KyiySOy3Wo+u3rkAg6IpZGdY2UnCodQppBE1h694rJLtdKN8xDHaljNERXaxkJURQ5qbAdymbtEDBhZkIyLqsMpJJcJ+GQQXCZALTB8DH6yEaUzWRKw7P0rbu0=; _uetsid=98e06000b78511ecb06d394eb5901821; _uetvid=3aa5da60aba511ecb0b86bf586023803; _abck=8010DD6D2623B97BC30AF849750A25F1~-1~YAAQzzoiFxmt1gGAAQAAyt/iCwcSYLmodlvmILGu2GvmYtRYJoLkN12vySUOzW/Tm46kYSQH5KrLZMiGdlQvApRRLoDEOFbh1NSbRjiZvW1LWrBj8TNYiM+9I3swcAZGbnbZzvBFlfkA7r8BsFMMLgTjWr1kbqq9l+l+YKtPwheYugWoTZ610Dn/sK446LF5OmlbPYx5tq5HoVBpjJ6wPZQ2Ggk5mvYxqoavUO/trm+VFg9Wwq/8xKaIvGxeO7ZL1jgaEA4IhHJ5N6W3dzG0zE8NpAUsjcQp8JeJPehhQwlS2oB4CeckkKC/YK12auYjvDio9/GlwLUmsPBEDAuacXfOGsqqlZ/mXRlXsUs26Vh/KLclqmOWQFsR8KrAwcKdUuHqAWMA1yW2vj6apEJAdsucYHJYkSizDKG8Ig==~0~-1~-1; ak_bmsc=50725956E371683EC86950811CF049F0~000000000000000000000000000000~YAAQ2DoiF6kKPgKAAQAAlrXiCw96ifprxviyuyY1+LaKd72TLH8HT0ZXCH67adG0aknmR5naMofLAUv3gRQCwdebjtWrYlmUMmvDv08r++/mIimcIVxdcPvJLiIZytvctGbD6+dyceFhCfshZYLyYgAZ/FKwFCzohzBgkE9aZ2RVO8yJ4Tr/9EX7rljtAO54C5SysIG073D0i+IxQPQPDnq/ePuqeV0CY8jVHO8UuvYgkyjNwaPzpeU2Srjw4nduzBH8jIg+cpPpDp/9TzoDWG0t5ukDEdCR8u9YXOtZi1SjA08IqZ46qWYlmNbQ/PwaVmoFCItJO2WQOuX1+FTOt1yxwOWA8kuyY0pXxO9Q2ziUoEF28BmhyDCrV/J2TTnQo6aWfTl24B79LEcFgi3cA27/gXPoqjgtKDPLwlLgjyntpOJG+w/+FcosrrA3ZG4oM4IuO/M=; bm_sv=3CE16D1D65B6620033B9947FA910CA84~egisskdOn5boHsToASz2aH8VVkvcG2OIfBKI/Yplq7L4w7Fd0KyiySOy3Wo+u3rkAg6IpZGdY2UnCodQppBE1h694rJLtdKN8xDHaljNERVGrQulSNipxEYrz/hdhf1A/jPoFcVzDSbyfiC7p6oNbgrsxrDcvgZBDdqBo1fIhsQ=; MCDCountry_code=US',\n",
        "  'Sec-Fetch-Dest': 'empty',\n",
        "  'Sec-Fetch-Mode': 'cors',\n",
        "  'Sec-Fetch-Site': 'same-origin'\n",
        "}\n",
        "\n",
        "responseCentral = requests.request(\"GET\", url, headers=headers, data=payload)\n",
        "storesCentral = json.loads(responseCentral.text)\n",
        "mdsC = collectMDs(storesCentral)\n",
        "print(f'mdsC count: {len(mdsC)}')"
      ],
      "metadata": {
        "colab": {
          "base_uri": "https://localhost:8080/"
        },
        "id": "fK8MCvFm87G2",
        "outputId": "6bc318db-ee64-4521-90ca-48d9c68c2818"
      },
      "execution_count": 4,
      "outputs": [
        {
          "output_type": "stream",
          "name": "stdout",
          "text": [
            "mdsC count: 156\n"
          ]
        }
      ]
    },
    {
      "cell_type": "markdown",
      "source": [
        "Western Mass"
      ],
      "metadata": {
        "id": "EHxQVcA188KU"
      }
    },
    {
      "cell_type": "code",
      "source": [
        "url = \"https://www.mcdonalds.com/googleappsv2/geolocation?latitude=42.3319904&longitude=-73.0829366&radius=80000&maxResults=500&country=us&language=en\"\n",
        "\n",
        "payload={}\n",
        "headers = {\n",
        "  'User-Agent': 'Mozilla/5.0 (Macintosh; Intel Mac OS X 10.15; rv:98.0) Gecko/20100101 Firefox/98.0',\n",
        "  'Accept': '*/*',\n",
        "  'Accept-Language': 'en-US,en;q=0.5',\n",
        "  'Accept-Encoding': 'gzip, deflate, br',\n",
        "  'Referer': 'https://www.mcdonalds.com/us/en-us/restaurant-locator.html',\n",
        "  'Connection': 'keep-alive',\n",
        "  'Cookie': '_abck=8010DD6D2623B97BC30AF849750A25F1~0~YAAQZvzDF6GjGQeAAQAAbNTdCwdcsApETGTM3+AmrHoSxKKEmNAnjeH21r25ce9mTOUK3fAXm5rD/IF9Ws1QIH3WsaFYV7sYDw1ZX9DTgaaJJl/g6Y+RIp0SU7vzENuKcmBEaUWs0Ut10lyZFkpvrreTWWwaf2RHFaeUnmNOi2BIkFcwm8z6H9QNhirjwKX1ZrKsu5mBFTnzaU1AHLJEYXRbGmcI0/6j5MxBx8DxwHZ6koy129xPoebNZGVuJ9NL8F4dVfMdKFF6A621DyK81hm3dKsB+b2QcetsyXz24Ck6Vo6eZ5XqrdOHYWz0hlZO1/sWL7vMteBKXyeZLuNNdy17YdQT2DGWEl3Qn96z7TGb/3wr58ovNBFxVZzZSJRQqlRFrB8DVX87sNRTuvksncceL5vT4SPBEMJ/gg==~-1~-1~-1; AMCV_786ABB6B55C1DA777F000101%40AdobeOrg=-2121179033%7CMCIDTS%7C19091%7CMCMID%7C31674695377750397280010411148622937438%7CMCAAMLH-1650068863%7C7%7CMCAAMB-1650068863%7C6G1ynYcLPuiQxYZrsz_pkqfLG9yMXBpb2zX5dvJdYQJzPXImdj0y%7CMCOPTOUT-1649471263s%7CNONE%7CMCAID%7CNONE%7CvVersion%7C5.3.0; _gcl_au=1.1.955101660.1648148668; OptanonConsent=isIABGlobal=false&datestamp=Fri+Apr+08+2022+21%3A09%3A07+GMT-0400+(Eastern+Daylight+Time)&version=6.31.0&hosts=&landingPath=NotLandingPage&groups=C0001%3A1%2CC0002%3A1%2CC0003%3A1%2CC0004%3A1&AwaitingReconsent=false&geolocation=%3B; s_ecid=MCMID%7C31674695377750397280010411148622937438; s_lastvisit=1649466548366; _clck=1ls2n6b|1|f0h|0; MCDCountry_code=US; bm_sz=DA82445F2EC6C20216EAC9903640F446~YAAQLDovF3iqGgOAAQAAiSomCw/ttVASDkVEqwkuguD5DAzrEe+mszjAP5MkTGU2eSOEE/kQqTKZG8AWDCx1+AkwfZelxlPJP5cyf8REbE74rl0j0Gz7zI7ORZ43yaizJwg5TqE3z46dPIktXQ7vDHlcSbbH+3qXc6nxGcVNqAYDkRYYyb9tNxnijduMW2Lju0MPw1AsgcSfj9FPx/bGrTYYhBE8qJt8SEpGPg43ldl98+rnk68l7xq6CrfazyHjQUt43nruX9V9e6bLbpWOuWlH5WJBT85W9jYiTxFOmaXLkLoNWIo=~3422259~3228212; PLTGE=%2Cevent93=541%2Cevent94=798%2Cevent95=2%2Cevent109=1498%2Cevent99=28; prevPageName=restaurant%20locator; AMCVS_786ABB6B55C1DA777F000101%40AdobeOrg=1; s_ppvl=restaurant%2520locator%2C57%2C57%2C1118%2C2560%2C984%2C2560%2C1440%2C1%2CP; s_ppv=restaurant%2520locator%2C57%2C57%2C1118%2C2560%2C984%2C2560%2C1440%2C1%2CP; s_cc=true; _clsk=1d1hl1s|1649466547432|7|1|www.clarity.ms/eus-c/collect; s_sq=%5B%5BB%5D%5D; affinity=\"ea0cf0d8d1346ed2\"; OptanonAlertBoxClosed=2022-04-08T21:50:22.087Z; s_lastvisit_s=Less%20than%201%20day; ak_bmsc=50725956E371683EC86950811CF049F0~000000000000000000000000000000~YAAQZvzDF3wJGQeAAQAADr+3Cw+d8gUIl04GIApwERXzjSOql/47c3Ui+ucMhNdFpGrgtV5hMfngocCGiptD6B1t/X7h54dxIcAPfYbSAt2E64gDJHrIcDQEoLSiUDmhQeJFwS8234ECTofEZ5xuaquZsEUCGpkqr7kojeS2oelTFqbxUvcL4w69eDfChxkB+EB7pOcyiV9jEiwxmIxBWHafI3TrMFHx4DvTVNfVxHnndUbAl4jGuEK82AD1o6RdDi4zctuMPn7kfpkOh8B5aDYp3j7x/liTVQXmoUEtuNOwHFEkDJHO5SGOLK3ZEWT4OcrfGmBwncFuyw1mIQZivM/0RfrQiLGBxAd6Eyk+UFVpDse3QZ7rt2k3/N4J7jyUxwat2ibtoC22tseoUw==; bm_mi=D191EE539F19FD86375DBB73CD021135~z7XQCp6McudyTX3s/tpE6uZYWfgvOYPm7VEXG2G9+lTrnbU5JTyT068wKuxO558m9EilnW5Wb8u8JBf0SrkHalcnb6yw3j1SguSfPwEcIpBzFLA9WYD/N1xOx8A8FGWA6jyl+waUv7jS3VbMTQ9FsnbAo7k6aiQHAPmGkeJSQ2maSCsM6HKSp4inCe+LR7qYe00FxAPPryJlWQUSNoVNnR+2OSuX3qlKGmLgD77Jfp1O7NqNu48sgQ28CcZrYjD/cQQHCfPTSs6I20Q+8CQjmQ==; bm_sv=3CE16D1D65B6620033B9947FA910CA84~egisskdOn5boHsToASz2aH8VVkvcG2OIfBKI/Yplq7L4w7Fd0KyiySOy3Wo+u3rkAg6IpZGdY2UnCodQppBE1h694rJLtdKN8xDHaljNERW+Qc5rKqPSwlOXSQivzWV/oTtfnflxSuTh3t3ASnuqjqrWQHIWwgddCCPZ4JZ9NUo=; _uetsid=98e06000b78511ecb06d394eb5901821; _uetvid=3aa5da60aba511ecb0b86bf586023803; _abck=8010DD6D2623B97BC30AF849750A25F1~-1~YAAQzzoiF52r1gGAAQAAw7fiCwfv4/eEEsPXyBE9X6+UhEX/6tlJDuAKKYkY4IymdKEYwq/vcjN3p8wnnzvfgM++go5MqSatf/+dDUtkzKpynb/ayn7VGuYrPZL6YRCkxk02ChawvGhKZ+oIInntRLKwbpVWM6XUFugWRsJN2zQd9jM65Jix9FEeCQA5i42k80Fdo/Uv//0fHGHgFSMw+11ACo8W7lL/iLPQu9VqoLY+ab/Cxs6VCIrIktJCpec341FQUEStt7UzcJGAkM7ekr33Ch+X66wsMRdBykIwIeDsvCaNk2Dhyt8h+wyPZI0/kEe3waA0C4JAAn/IP91Erf0ogD7cDPvPyIjL7HWu9dMckQrdnkhczPB57ui+5Ikopio/BPg8n/V9l+sCAbT6eBNSEgls8KBKjKRvTg==~0~-1~-1; ak_bmsc=50725956E371683EC86950811CF049F0~000000000000000000000000000000~YAAQ2DoiF6kKPgKAAQAAlrXiCw96ifprxviyuyY1+LaKd72TLH8HT0ZXCH67adG0aknmR5naMofLAUv3gRQCwdebjtWrYlmUMmvDv08r++/mIimcIVxdcPvJLiIZytvctGbD6+dyceFhCfshZYLyYgAZ/FKwFCzohzBgkE9aZ2RVO8yJ4Tr/9EX7rljtAO54C5SysIG073D0i+IxQPQPDnq/ePuqeV0CY8jVHO8UuvYgkyjNwaPzpeU2Srjw4nduzBH8jIg+cpPpDp/9TzoDWG0t5ukDEdCR8u9YXOtZi1SjA08IqZ46qWYlmNbQ/PwaVmoFCItJO2WQOuX1+FTOt1yxwOWA8kuyY0pXxO9Q2ziUoEF28BmhyDCrV/J2TTnQo6aWfTl24B79LEcFgi3cA27/gXPoqjgtKDPLwlLgjyntpOJG+w/+FcosrrA3ZG4oM4IuO/M=; bm_sv=3CE16D1D65B6620033B9947FA910CA84~egisskdOn5boHsToASz2aH8VVkvcG2OIfBKI/Yplq7L4w7Fd0KyiySOy3Wo+u3rkAg6IpZGdY2UnCodQppBE1h694rJLtdKN8xDHaljNERUI6keSMTIKdt6z7LreC3BJpi8wtvB2Vlbg/KKVCfhX4zf+f2kru/8HZ9qDE9T6yr4=; MCDCountry_code=US',\n",
        "  'Sec-Fetch-Dest': 'empty',\n",
        "  'Sec-Fetch-Mode': 'cors',\n",
        "  'Sec-Fetch-Site': 'same-origin'\n",
        "}\n",
        "\n",
        "responseWest = requests.request(\"GET\", url, headers=headers, data=payload)\n",
        "storesWest = json.loads(responseWest.text)\n",
        "mdsW = collectMDs(storesWest)\n",
        "print(f'mdsW count: {len(mdsW)}')"
      ],
      "metadata": {
        "colab": {
          "base_uri": "https://localhost:8080/"
        },
        "id": "cjPl6jiy89n5",
        "outputId": "529e1336-4eb2-400b-93bb-8cf814e2fb78"
      },
      "execution_count": 5,
      "outputs": [
        {
          "output_type": "stream",
          "name": "stdout",
          "text": [
            "mdsW count: 72\n"
          ]
        }
      ]
    },
    {
      "cell_type": "code",
      "source": [
        "mdsMerged = mdsE + mdsC + mdsW \n",
        "print(f'initial merge: {len(mdsMerged)}')\n",
        "\n",
        "finalMerge = []\n",
        "check = set()\n",
        "\n",
        "for d in mdsMerged.copy():\n",
        "  j = json.dumps(d)\n",
        "  if j not in check:\n",
        "    check.add(j)\n",
        "    finalMerge += [d]\n",
        "print(f\"final merge (# of all unique McDonald's locations in MA): {len(finalMerge)}\")\n",
        "\n",
        "allPostCodes = []\n",
        "for md in finalMerge:\n",
        "  allPostCodes.append(md['postcode'])"
      ],
      "metadata": {
        "colab": {
          "base_uri": "https://localhost:8080/"
        },
        "id": "Gz-q4tfuklEN",
        "outputId": "53b8bf76-d7d8-4ffc-f345-9ccfbb26106f"
      },
      "execution_count": 6,
      "outputs": [
        {
          "output_type": "stream",
          "name": "stdout",
          "text": [
            "initial merge: 419\n",
            "final merge (# of all unique McDonald's locations in MA): 234\n"
          ]
        }
      ]
    },
    {
      "cell_type": "markdown",
      "source": [
        "McDonald's Locations CSV and DataFrame"
      ],
      "metadata": {
        "id": "4sryYBiGFfA4"
      }
    },
    {
      "cell_type": "code",
      "source": [
        "df = pd.DataFrame.from_dict(finalMerge) \n",
        "df.to_csv (r'McD_MA.csv', index = False, header=True)\n",
        "df.head(n=234)"
      ],
      "metadata": {
        "id": "uMhWCQPG-rso",
        "colab": {
          "base_uri": "https://localhost:8080/",
          "height": 424
        },
        "outputId": "ef99ec20-2817-4009-9a6f-4df0ff3ff3e4"
      },
      "execution_count": 7,
      "outputs": [
        {
          "output_type": "execute_result",
          "data": {
            "text/plain": [
              "                        street              city postcode state\n",
              "0     664 Crescent St Route 27          Brockton    02302    MA\n",
              "1            908 N Montello St          Brockton    02301    MA\n",
              "2               715 Belmont St          Brockton    02301    MA\n",
              "3               334 N Pearl St          Brockton    02301    MA\n",
              "4           323 Bedford Street           Whitman    02333    MA\n",
              "..                         ...               ...      ...   ...\n",
              "229          245 Housatonic St               Lee    01238    MA\n",
              "230              240 West Road               Lee    01238    MA\n",
              "231  370 West Stockbridge Road               Lee    01238    MA\n",
              "232        445 W Housatonic St        Pittsfield    01201    MA\n",
              "233         302 Stockbridge Rd  Great Barrington    01230    MA\n",
              "\n",
              "[234 rows x 4 columns]"
            ],
            "text/html": [
              "\n",
              "  <div id=\"df-e538120f-f0ff-4c8b-86b3-0282ef7a922d\">\n",
              "    <div class=\"colab-df-container\">\n",
              "      <div>\n",
              "<style scoped>\n",
              "    .dataframe tbody tr th:only-of-type {\n",
              "        vertical-align: middle;\n",
              "    }\n",
              "\n",
              "    .dataframe tbody tr th {\n",
              "        vertical-align: top;\n",
              "    }\n",
              "\n",
              "    .dataframe thead th {\n",
              "        text-align: right;\n",
              "    }\n",
              "</style>\n",
              "<table border=\"1\" class=\"dataframe\">\n",
              "  <thead>\n",
              "    <tr style=\"text-align: right;\">\n",
              "      <th></th>\n",
              "      <th>street</th>\n",
              "      <th>city</th>\n",
              "      <th>postcode</th>\n",
              "      <th>state</th>\n",
              "    </tr>\n",
              "  </thead>\n",
              "  <tbody>\n",
              "    <tr>\n",
              "      <th>0</th>\n",
              "      <td>664 Crescent St Route 27</td>\n",
              "      <td>Brockton</td>\n",
              "      <td>02302</td>\n",
              "      <td>MA</td>\n",
              "    </tr>\n",
              "    <tr>\n",
              "      <th>1</th>\n",
              "      <td>908 N Montello St</td>\n",
              "      <td>Brockton</td>\n",
              "      <td>02301</td>\n",
              "      <td>MA</td>\n",
              "    </tr>\n",
              "    <tr>\n",
              "      <th>2</th>\n",
              "      <td>715 Belmont St</td>\n",
              "      <td>Brockton</td>\n",
              "      <td>02301</td>\n",
              "      <td>MA</td>\n",
              "    </tr>\n",
              "    <tr>\n",
              "      <th>3</th>\n",
              "      <td>334 N Pearl St</td>\n",
              "      <td>Brockton</td>\n",
              "      <td>02301</td>\n",
              "      <td>MA</td>\n",
              "    </tr>\n",
              "    <tr>\n",
              "      <th>4</th>\n",
              "      <td>323 Bedford Street</td>\n",
              "      <td>Whitman</td>\n",
              "      <td>02333</td>\n",
              "      <td>MA</td>\n",
              "    </tr>\n",
              "    <tr>\n",
              "      <th>...</th>\n",
              "      <td>...</td>\n",
              "      <td>...</td>\n",
              "      <td>...</td>\n",
              "      <td>...</td>\n",
              "    </tr>\n",
              "    <tr>\n",
              "      <th>229</th>\n",
              "      <td>245 Housatonic St</td>\n",
              "      <td>Lee</td>\n",
              "      <td>01238</td>\n",
              "      <td>MA</td>\n",
              "    </tr>\n",
              "    <tr>\n",
              "      <th>230</th>\n",
              "      <td>240 West Road</td>\n",
              "      <td>Lee</td>\n",
              "      <td>01238</td>\n",
              "      <td>MA</td>\n",
              "    </tr>\n",
              "    <tr>\n",
              "      <th>231</th>\n",
              "      <td>370 West Stockbridge Road</td>\n",
              "      <td>Lee</td>\n",
              "      <td>01238</td>\n",
              "      <td>MA</td>\n",
              "    </tr>\n",
              "    <tr>\n",
              "      <th>232</th>\n",
              "      <td>445 W Housatonic St</td>\n",
              "      <td>Pittsfield</td>\n",
              "      <td>01201</td>\n",
              "      <td>MA</td>\n",
              "    </tr>\n",
              "    <tr>\n",
              "      <th>233</th>\n",
              "      <td>302 Stockbridge Rd</td>\n",
              "      <td>Great Barrington</td>\n",
              "      <td>01230</td>\n",
              "      <td>MA</td>\n",
              "    </tr>\n",
              "  </tbody>\n",
              "</table>\n",
              "<p>234 rows × 4 columns</p>\n",
              "</div>\n",
              "      <button class=\"colab-df-convert\" onclick=\"convertToInteractive('df-e538120f-f0ff-4c8b-86b3-0282ef7a922d')\"\n",
              "              title=\"Convert this dataframe to an interactive table.\"\n",
              "              style=\"display:none;\">\n",
              "        \n",
              "  <svg xmlns=\"http://www.w3.org/2000/svg\" height=\"24px\"viewBox=\"0 0 24 24\"\n",
              "       width=\"24px\">\n",
              "    <path d=\"M0 0h24v24H0V0z\" fill=\"none\"/>\n",
              "    <path d=\"M18.56 5.44l.94 2.06.94-2.06 2.06-.94-2.06-.94-.94-2.06-.94 2.06-2.06.94zm-11 1L8.5 8.5l.94-2.06 2.06-.94-2.06-.94L8.5 2.5l-.94 2.06-2.06.94zm10 10l.94 2.06.94-2.06 2.06-.94-2.06-.94-.94-2.06-.94 2.06-2.06.94z\"/><path d=\"M17.41 7.96l-1.37-1.37c-.4-.4-.92-.59-1.43-.59-.52 0-1.04.2-1.43.59L10.3 9.45l-7.72 7.72c-.78.78-.78 2.05 0 2.83L4 21.41c.39.39.9.59 1.41.59.51 0 1.02-.2 1.41-.59l7.78-7.78 2.81-2.81c.8-.78.8-2.07 0-2.86zM5.41 20L4 18.59l7.72-7.72 1.47 1.35L5.41 20z\"/>\n",
              "  </svg>\n",
              "      </button>\n",
              "      \n",
              "  <style>\n",
              "    .colab-df-container {\n",
              "      display:flex;\n",
              "      flex-wrap:wrap;\n",
              "      gap: 12px;\n",
              "    }\n",
              "\n",
              "    .colab-df-convert {\n",
              "      background-color: #E8F0FE;\n",
              "      border: none;\n",
              "      border-radius: 50%;\n",
              "      cursor: pointer;\n",
              "      display: none;\n",
              "      fill: #1967D2;\n",
              "      height: 32px;\n",
              "      padding: 0 0 0 0;\n",
              "      width: 32px;\n",
              "    }\n",
              "\n",
              "    .colab-df-convert:hover {\n",
              "      background-color: #E2EBFA;\n",
              "      box-shadow: 0px 1px 2px rgba(60, 64, 67, 0.3), 0px 1px 3px 1px rgba(60, 64, 67, 0.15);\n",
              "      fill: #174EA6;\n",
              "    }\n",
              "\n",
              "    [theme=dark] .colab-df-convert {\n",
              "      background-color: #3B4455;\n",
              "      fill: #D2E3FC;\n",
              "    }\n",
              "\n",
              "    [theme=dark] .colab-df-convert:hover {\n",
              "      background-color: #434B5C;\n",
              "      box-shadow: 0px 1px 3px 1px rgba(0, 0, 0, 0.15);\n",
              "      filter: drop-shadow(0px 1px 2px rgba(0, 0, 0, 0.3));\n",
              "      fill: #FFFFFF;\n",
              "    }\n",
              "  </style>\n",
              "\n",
              "      <script>\n",
              "        const buttonEl =\n",
              "          document.querySelector('#df-e538120f-f0ff-4c8b-86b3-0282ef7a922d button.colab-df-convert');\n",
              "        buttonEl.style.display =\n",
              "          google.colab.kernel.accessAllowed ? 'block' : 'none';\n",
              "\n",
              "        async function convertToInteractive(key) {\n",
              "          const element = document.querySelector('#df-e538120f-f0ff-4c8b-86b3-0282ef7a922d');\n",
              "          const dataTable =\n",
              "            await google.colab.kernel.invokeFunction('convertToInteractive',\n",
              "                                                     [key], {});\n",
              "          if (!dataTable) return;\n",
              "\n",
              "          const docLinkHtml = 'Like what you see? Visit the ' +\n",
              "            '<a target=\"_blank\" href=https://colab.research.google.com/notebooks/data_table.ipynb>data table notebook</a>'\n",
              "            + ' to learn more about interactive tables.';\n",
              "          element.innerHTML = '';\n",
              "          dataTable['output_type'] = 'display_data';\n",
              "          await google.colab.output.renderOutput(dataTable, element);\n",
              "          const docLink = document.createElement('div');\n",
              "          docLink.innerHTML = docLinkHtml;\n",
              "          element.appendChild(docLink);\n",
              "        }\n",
              "      </script>\n",
              "    </div>\n",
              "  </div>\n",
              "  "
            ]
          },
          "metadata": {},
          "execution_count": 7
        }
      ]
    },
    {
      "cell_type": "markdown",
      "source": [
        "# Restaurant Count by County"
      ],
      "metadata": {
        "id": "OU38T-ehIGrW"
      }
    },
    {
      "cell_type": "code",
      "source": [
        "def mdCount(countyCodes, allCodes):\n",
        "  isolated = []\n",
        "  for code in allCodes:\n",
        "    if code in countyCodes:\n",
        "      isolated.append(code)\n",
        "  return {\n",
        "      'mdCodes': isolated,\n",
        "      'mdCount': len(isolated)\n",
        "  }"
      ],
      "metadata": {
        "id": "QpgX-hZgJ0jf"
      },
      "execution_count": 8,
      "outputs": []
    },
    {
      "cell_type": "markdown",
      "source": [
        "Barnstable County"
      ],
      "metadata": {
        "id": "iSBNvWXfH-Pp"
      }
    },
    {
      "cell_type": "code",
      "source": [
        "postcodes = df.loc[:, 'postcode']\n",
        "barnstableZips = ['02532', '02536', '02537', '02540', '02542', '02543', '02556', '02559', '02562', '02563', '02601', '02630', '02631', '02632', '02633', '02635', '02638', '02639', '02642', '02644', '02645', '02646', '02648', '02649', '02650', '02653', '02655', '02657', '02659', '02660', '02664', '02667', '02668', '02670', '02671', '02673', '02675']\n",
        "barnstable = mdCount(barnstableZips, postcodes)\n",
        "barnstable"
      ],
      "metadata": {
        "colab": {
          "base_uri": "https://localhost:8080/"
        },
        "id": "4Rfvu1Hr7Am9",
        "outputId": "fd50019b-e6d6-470f-d8e3-6f65571f967a"
      },
      "execution_count": 9,
      "outputs": [
        {
          "output_type": "execute_result",
          "data": {
            "text/plain": [
              "{'mdCodes': ['02532', '02562', '02532', '02536', '02601', '02601', '02664'],\n",
              " 'mdCount': 7}"
            ]
          },
          "metadata": {},
          "execution_count": 9
        }
      ]
    },
    {
      "cell_type": "markdown",
      "source": [
        "Berkshire County"
      ],
      "metadata": {
        "id": "PieL9NVRJRNP"
      }
    },
    {
      "cell_type": "code",
      "source": [
        "berkshireZips = ['01201', '01220', '01222', '01223', '01224', '01225', '01226', '01230', '01235', '01236', '01237', '01238', '01240', '01245', '01247', '01252', '01253', '01254', '01255', '01256', '01257', '01259', '01266', '01267', '01270', '01343']\n",
        "berkshire = mdCount(berkshireZips, postcodes)\n",
        "berkshire"
      ],
      "metadata": {
        "colab": {
          "base_uri": "https://localhost:8080/"
        },
        "id": "aj9e-C3ZKTGN",
        "outputId": "1ce3f0e1-d9e7-48ff-c29a-12cd2626583f"
      },
      "execution_count": 10,
      "outputs": [
        {
          "output_type": "execute_result",
          "data": {
            "text/plain": [
              "{'mdCodes': ['01220',\n",
              "  '01201',\n",
              "  '01247',\n",
              "  '01238',\n",
              "  '01238',\n",
              "  '01238',\n",
              "  '01201',\n",
              "  '01230'],\n",
              " 'mdCount': 8}"
            ]
          },
          "metadata": {},
          "execution_count": 10
        }
      ]
    },
    {
      "cell_type": "markdown",
      "source": [
        "Bristol County"
      ],
      "metadata": {
        "id": "juUp7pArKsmn"
      }
    },
    {
      "cell_type": "code",
      "source": [
        "bristolZips = ['02714', '02048' , '02356' , '02375' , '02702' , '02703' , '02715' , '02717' , '02718' , '02719' , '02720' , '02721' , '02723' , '02724' , '02725' , '02726' , '02740' , '02743' , '02744' , '02745' , '02746' , '02747' , '02748' , '02760' , '02762' , '02763' , '02764' , '02766' , '02767' , '02769' , '02771' , '02777' , '02779' , '02780' , '02790']\n",
        "bristol = mdCount(bristolZips, postcodes)\n",
        "bristol"
      ],
      "metadata": {
        "colab": {
          "base_uri": "https://localhost:8080/"
        },
        "id": "CuGsIsuwK_Pv",
        "outputId": "574d3938-312d-4f30-d9cd-b3039b27a4ac"
      },
      "execution_count": 11,
      "outputs": [
        {
          "output_type": "execute_result",
          "data": {
            "text/plain": [
              "{'mdCodes': ['02767',\n",
              "  '02766',\n",
              "  '02767',\n",
              "  '02780',\n",
              "  '02762',\n",
              "  '02703',\n",
              "  '02760',\n",
              "  '02703',\n",
              "  '02703',\n",
              "  '02777',\n",
              "  '02777',\n",
              "  '02771',\n",
              "  '02720',\n",
              "  '02721',\n",
              "  '02745',\n",
              "  '02721',\n",
              "  '02724',\n",
              "  '02721',\n",
              "  '02746',\n",
              "  '02747',\n",
              "  '02746',\n",
              "  '02740',\n",
              "  '02719',\n",
              "  '02714'],\n",
              " 'mdCount': 24}"
            ]
          },
          "metadata": {},
          "execution_count": 11
        }
      ]
    },
    {
      "cell_type": "markdown",
      "source": [
        "Dukes County"
      ],
      "metadata": {
        "id": "5GStAAbILn4U"
      }
    },
    {
      "cell_type": "code",
      "source": [
        "dukesZips = ['02535', '02539', '02568']\n",
        "dukes = mdCount(dukesZips, postcodes)\n",
        "dukes"
      ],
      "metadata": {
        "colab": {
          "base_uri": "https://localhost:8080/"
        },
        "id": "KbkYmQPELpGd",
        "outputId": "af30f736-1be9-4191-fc1a-229086f11149"
      },
      "execution_count": 12,
      "outputs": [
        {
          "output_type": "execute_result",
          "data": {
            "text/plain": [
              "{'mdCodes': [], 'mdCount': 0}"
            ]
          },
          "metadata": {},
          "execution_count": 12
        }
      ]
    },
    {
      "cell_type": "markdown",
      "source": [
        "Essex County"
      ],
      "metadata": {
        "id": "RRrmTkHgMEQd"
      }
    },
    {
      "cell_type": "code",
      "source": [
        "essexZips = ['01845-1903', '01949-2444', '01810', '01830', '01832', '01833', '01834', '01835', '01840', '01841', '01843', '01844', '01845', '01860', '01901', '01902', '01904', '01905', '01906', '01907', '01908', '01913', '01915', '01921', '01922', '01923', '01929', '01930', '01938', '01940', '01944', '01945', '01949', '01950', '01951', '01952', '01960', '01966', '01969', '01970', '01982', '01983', '01984', '01985']\n",
        "essex = mdCount(essexZips, postcodes)\n",
        "essex"
      ],
      "metadata": {
        "colab": {
          "base_uri": "https://localhost:8080/"
        },
        "id": "GoDXcnIbMF2b",
        "outputId": "8b4b3efb-b1f0-4836-9a72-99a606dddcda"
      },
      "execution_count": 13,
      "outputs": [
        {
          "output_type": "execute_result",
          "data": {
            "text/plain": [
              "{'mdCodes': ['01905',\n",
              "  '01905',\n",
              "  '01906',\n",
              "  '01904',\n",
              "  '01906',\n",
              "  '01970',\n",
              "  '01970',\n",
              "  '01960',\n",
              "  '01960',\n",
              "  '01923',\n",
              "  '01923',\n",
              "  '01915',\n",
              "  '01949-2444',\n",
              "  '01915',\n",
              "  '01810',\n",
              "  '01930',\n",
              "  '01840',\n",
              "  '01845-1903',\n",
              "  '01969',\n",
              "  '01840',\n",
              "  '01844',\n",
              "  '01844',\n",
              "  '01844',\n",
              "  '01844',\n",
              "  '01835',\n",
              "  '01832',\n",
              "  '01830',\n",
              "  '01950',\n",
              "  '01913'],\n",
              " 'mdCount': 29}"
            ]
          },
          "metadata": {},
          "execution_count": 13
        }
      ]
    },
    {
      "cell_type": "markdown",
      "source": [
        "Franklin County"
      ],
      "metadata": {
        "id": "V6naxOnAMSDX"
      }
    },
    {
      "cell_type": "code",
      "source": [
        "franklinZips = ['01054', '01072', '01301', '01330', '01337', '01338', '01339', '01340', '01341', '01342', '01344', '01346', '01349', '01351', '01354', '01355', '01360', '01364', '01366', '01367', '01370', '01373', '01375', '01376', '01378', '01379', '01380']\n",
        "franklin = mdCount(franklinZips, postcodes)\n",
        "franklin"
      ],
      "metadata": {
        "colab": {
          "base_uri": "https://localhost:8080/"
        },
        "id": "nvLOItmvMWFH",
        "outputId": "0b253903-6d2a-464c-b3d5-c628a528acd5"
      },
      "execution_count": 14,
      "outputs": [
        {
          "output_type": "execute_result",
          "data": {
            "text/plain": [
              "{'mdCodes': ['01301', '01301'], 'mdCount': 2}"
            ]
          },
          "metadata": {},
          "execution_count": 14
        }
      ]
    },
    {
      "cell_type": "markdown",
      "source": [
        "Hampden County"
      ],
      "metadata": {
        "id": "6lTdTiYfNmOI"
      }
    },
    {
      "cell_type": "code",
      "source": [
        "hampdenZips = ['01107-1906', '01118-1806', '01104-3036', '01001', '01008', '01010', '01011', '01013', '01020', '01022', '01028', '01030', '01034', '01036', '01040', '01056', '01057', '01069', '01071', '01075', '01077', '01080', '01081', '01085', '01089', '01095', '01103', '01104', '01105', '01106', '01107', '01108', '01109', '01118', '01119', '01128', '01129', '01144', '01151', '01152', '01223', '01521',]\n",
        "hampden = mdCount(hampdenZips, postcodes)\n",
        "hampden"
      ],
      "metadata": {
        "colab": {
          "base_uri": "https://localhost:8080/"
        },
        "id": "m8_xjGYVNrLB",
        "outputId": "3c3e5a13-b638-4eb7-f061-6943665dd255"
      },
      "execution_count": 15,
      "outputs": [
        {
          "output_type": "execute_result",
          "data": {
            "text/plain": [
              "{'mdCodes': ['01069',\n",
              "  '01056',\n",
              "  '01056',\n",
              "  '01119',\n",
              "  '01020',\n",
              "  '01109',\n",
              "  '01020',\n",
              "  '01104-3036',\n",
              "  '01040',\n",
              "  '01118-1806',\n",
              "  '01040',\n",
              "  '01013',\n",
              "  '01105',\n",
              "  '01103',\n",
              "  '01040',\n",
              "  '01040',\n",
              "  '01105',\n",
              "  '01107-1906',\n",
              "  '01089',\n",
              "  '01089',\n",
              "  '01001',\n",
              "  '01085',\n",
              "  '01085',\n",
              "  '01077',\n",
              "  '01008',\n",
              "  '01008'],\n",
              " 'mdCount': 26}"
            ]
          },
          "metadata": {},
          "execution_count": 15
        }
      ]
    },
    {
      "cell_type": "markdown",
      "source": [
        "Hampshire County"
      ],
      "metadata": {
        "id": "khDUXhBEN45y"
      }
    },
    {
      "cell_type": "code",
      "source": [
        "hampshireZips = ['01002', '01003', '01007', '01011', '01012', '01026', '01027', '01032', '01033', '01035', '01038', '01039', '01050', '01053', '01054', '01060', '01062', '01070', '01073', '01075', '01082', '01084', '01088', '01096', '01098']\n",
        "hampshire = mdCount(hampshireZips, postcodes)\n",
        "hampshire"
      ],
      "metadata": {
        "colab": {
          "base_uri": "https://localhost:8080/"
        },
        "id": "9pJ0KVxKOJAN",
        "outputId": "8f973c58-a615-4061-b17f-8a63aaf895d7"
      },
      "execution_count": 16,
      "outputs": [
        {
          "output_type": "execute_result",
          "data": {
            "text/plain": [
              "{'mdCodes': ['01082', '01007', '01035', '01060', '01027'], 'mdCount': 5}"
            ]
          },
          "metadata": {},
          "execution_count": 16
        }
      ]
    },
    {
      "cell_type": "markdown",
      "source": [
        "Middlesex County"
      ],
      "metadata": {
        "id": "DqwsK_W8OUv1"
      }
    },
    {
      "cell_type": "code",
      "source": [
        "middlesexZips = ['01866', '02158', '01431', '01432', '01434', '01450', '01460', '01463', '01464', '01469', '01474', '01701', '01702', '01718', '01719', '01720', '01721', '01730', '01731', '01741', '01742', '01746', '01748', '01749', '01752', '01754', '01760', '01770', '01773', '01775', '01776', '01778', '01801', '01803', '01821', '01824', '01826', '01827', '01850', '01851', '01852', '01854', '01862', '01863', '01864', '01867', '01876', '01879', '01880', '01886', '01887', '01890', '02138', '02139', '02140', '02141', '02142', '02143', '02144', '02145', '02148', '02149', '02155', '02176', '02180', '02420', '02421', '02451', '02452', '02453', '02458', '02459', '02460', '02461', '02462', '02464', '02465', '02466', '02467', '02468', '02472', '02474', '02476', '02478', '02493']\n",
        "middlesex = mdCount(middlesexZips, postcodes)\n",
        "middlesex"
      ],
      "metadata": {
        "colab": {
          "base_uri": "https://localhost:8080/"
        },
        "id": "5v7gJCd5OZ9M",
        "outputId": "b988aa40-89f1-4848-e4cc-6c9f049a2805"
      },
      "execution_count": 17,
      "outputs": [
        {
          "output_type": "execute_result",
          "data": {
            "text/plain": [
              "{'mdCodes': ['02158',\n",
              "  '02139',\n",
              "  '02143',\n",
              "  '02462',\n",
              "  '02458',\n",
              "  '02149',\n",
              "  '02138',\n",
              "  '01760',\n",
              "  '02453',\n",
              "  '01760',\n",
              "  '02148',\n",
              "  '01721',\n",
              "  '01701',\n",
              "  '01701',\n",
              "  '01701',\n",
              "  '02421',\n",
              "  '01801',\n",
              "  '01801',\n",
              "  '01803',\n",
              "  '01880',\n",
              "  '01730',\n",
              "  '01867',\n",
              "  '01752',\n",
              "  '01754',\n",
              "  '01821',\n",
              "  '01720',\n",
              "  '01887',\n",
              "  '01864',\n",
              "  '01752',\n",
              "  '01749',\n",
              "  '01876',\n",
              "  '01821',\n",
              "  '01866',\n",
              "  '01852',\n",
              "  '01876',\n",
              "  '01851',\n",
              "  '01824',\n",
              "  '01854',\n",
              "  '01826',\n",
              "  '01432',\n",
              "  '01469'],\n",
              " 'mdCount': 41}"
            ]
          },
          "metadata": {},
          "execution_count": 17
        }
      ]
    },
    {
      "cell_type": "markdown",
      "source": [
        "Nantucket County"
      ],
      "metadata": {
        "id": "df_lylJkOrno"
      }
    },
    {
      "cell_type": "code",
      "source": [
        "nantucketZips = ['02554']\n",
        "nantucket = mdCount(nantucketZips, postcodes)\n",
        "nantucket"
      ],
      "metadata": {
        "colab": {
          "base_uri": "https://localhost:8080/"
        },
        "id": "lRT6XdCGOv1u",
        "outputId": "afa00f38-fd75-4652-ccc6-40c26b8c2dc8"
      },
      "execution_count": 18,
      "outputs": [
        {
          "output_type": "execute_result",
          "data": {
            "text/plain": [
              "{'mdCodes': [], 'mdCount': 0}"
            ]
          },
          "metadata": {},
          "execution_count": 18
        }
      ]
    },
    {
      "cell_type": "markdown",
      "source": [
        "Norfolk County"
      ],
      "metadata": {
        "id": "gHlRSApYO8ko"
      }
    },
    {
      "cell_type": "code",
      "source": [
        "norfolkZips = ['02019', '02021', '02025', '02026', '02030', '02032', '02035', '02038', '02052', '02053', '02054', '02056', '02062', '02067', '02071', '02072', '02081', '02090', '02093', '02169', '02170', '02171', '02184', '02186', '02188', '02189', '02190', '02191', '02322', '02324', '02339', '02343', '02368', '02445', '02446', '02467', '02481', '02482', '02492', '02494', '02762']\n",
        "norfolk = mdCount(norfolkZips, postcodes)\n",
        "norfolk"
      ],
      "metadata": {
        "colab": {
          "base_uri": "https://localhost:8080/"
        },
        "id": "v3uzjE1lPIaI",
        "outputId": "4940d20b-4fd5-425f-86cc-2bfec203f8a9"
      },
      "execution_count": 19,
      "outputs": [
        {
          "output_type": "execute_result",
          "data": {
            "text/plain": [
              "{'mdCodes': ['02072',\n",
              "  '02368',\n",
              "  '02324',\n",
              "  '02021',\n",
              "  '02184',\n",
              "  '02188',\n",
              "  '02339',\n",
              "  '02062',\n",
              "  '02169',\n",
              "  '02191',\n",
              "  '02062',\n",
              "  '02062',\n",
              "  '02035',\n",
              "  '02081',\n",
              "  '02171',\n",
              "  '02762',\n",
              "  '02492',\n",
              "  '02054',\n",
              "  '02038',\n",
              "  '02019'],\n",
              " 'mdCount': 20}"
            ]
          },
          "metadata": {},
          "execution_count": 19
        }
      ]
    },
    {
      "cell_type": "markdown",
      "source": [
        "Plymouth County"
      ],
      "metadata": {
        "id": "cDBPNVS_PVjH"
      }
    },
    {
      "cell_type": "code",
      "source": [
        "plymouthZips = ['02043', '02045', '02050', '02061', '02066', '02301', '02302', '02324', '02330', '02332', '02333', '02338', '02339', '02341', '02346', '02347', '02351', '02359', '02360', '02364', '02367', '02370', '02379', '02382', '02532', '02538', '02554', '02562', '02571', '02576', '02718', '02738', '02739', '02770']\n",
        "plymouth = mdCount(plymouthZips, postcodes)\n",
        "plymouth"
      ],
      "metadata": {
        "colab": {
          "base_uri": "https://localhost:8080/"
        },
        "id": "RiPh4cxhPciH",
        "outputId": "db192853-3c1c-434c-fdb5-5c5b9c36e765"
      },
      "execution_count": 20,
      "outputs": [
        {
          "output_type": "execute_result",
          "data": {
            "text/plain": [
              "{'mdCodes': ['02302',\n",
              "  '02301',\n",
              "  '02301',\n",
              "  '02301',\n",
              "  '02333',\n",
              "  '02370',\n",
              "  '02324',\n",
              "  '02341',\n",
              "  '02061',\n",
              "  '02339',\n",
              "  '02346',\n",
              "  '02364',\n",
              "  '02050',\n",
              "  '02330',\n",
              "  '02360',\n",
              "  '02360',\n",
              "  '02532',\n",
              "  '02562',\n",
              "  '02532'],\n",
              " 'mdCount': 19}"
            ]
          },
          "metadata": {},
          "execution_count": 20
        }
      ]
    },
    {
      "cell_type": "markdown",
      "source": [
        "Suffolk County"
      ],
      "metadata": {
        "id": "Xofq8_J-P04e"
      }
    },
    {
      "cell_type": "code",
      "source": [
        "suffolkZips = ['02108', '02109', '02110', '02111', '02113', '02114', '02115', '02116', '02118', '02119', '02120', '02121', '02122', '02124', '02125', '02126', '02127', '02128', '02129', '02130', '02131', '02132', '02133', '02134', '02135', '02136', '02150', '02151', '02152', '02163', '02199', '02203', '02210', '02215', '02222', '02467']\n",
        "suffolk = mdCount(suffolkZips, postcodes)\n",
        "suffolk"
      ],
      "metadata": {
        "colab": {
          "base_uri": "https://localhost:8080/"
        },
        "id": "BYXqjSH3P4lq",
        "outputId": "56df1695-5645-4dd5-8499-33194566c73b"
      },
      "execution_count": 21,
      "outputs": [
        {
          "output_type": "execute_result",
          "data": {
            "text/plain": [
              "{'mdCodes': ['02136',\n",
              "  '02124',\n",
              "  '02124',\n",
              "  '02131',\n",
              "  '02132',\n",
              "  '02122',\n",
              "  '02119',\n",
              "  '02119',\n",
              "  '02118',\n",
              "  '02115',\n",
              "  '02111',\n",
              "  '02110',\n",
              "  '02215',\n",
              "  '02111',\n",
              "  '02108',\n",
              "  '02134',\n",
              "  '02128',\n",
              "  '02135',\n",
              "  '02135',\n",
              "  '02150',\n",
              "  '02150',\n",
              "  '02150',\n",
              "  '02151'],\n",
              " 'mdCount': 23}"
            ]
          },
          "metadata": {},
          "execution_count": 21
        }
      ]
    },
    {
      "cell_type": "markdown",
      "source": [
        "Worcester County"
      ],
      "metadata": {
        "id": "FsNtY0_YQC5g"
      }
    },
    {
      "cell_type": "code",
      "source": [
        "worcesterZips = ['01508', '01501-2458', '01005', '01031', '01068', '01331', '01366', '01368', '01420', '01430', '01434', '01436', '01440', '01451', '01452', '01453', '01462', '01468', '01473', '01475', '01501', '01503', '01504', '01505', '01506', '01507', '01510', '01515', '01516', '01518', '01519', '01520', '01522', '01523', '01524', '01527', '01529', '01531', '01532', '01534', '01535', '01536', '01537', '01540', '01541', '01542', '01543', '01545', '01550', '01560', '01562', '01564', '01566', '01568', '01569', '01570', '01571', '01581', '01583', '01585', '01588', '01590', '01602', '01603', '01604', '01605', '01606', '01607', '01608', '01609', '01610', '01611', '01612', '01655', '01740', '01745', '01747', '01756', '01757', '01772']\n",
        "worcester = mdCount(worcesterZips, postcodes)\n",
        "worcester"
      ],
      "metadata": {
        "colab": {
          "base_uri": "https://localhost:8080/"
        },
        "id": "Wl-rwIjAQHrM",
        "outputId": "9fb16ba8-5c32-4acf-b207-96165f3ef7dd"
      },
      "execution_count": 22,
      "outputs": [
        {
          "output_type": "execute_result",
          "data": {
            "text/plain": [
              "{'mdCodes': ['01757',\n",
              "  '01757',\n",
              "  '01569',\n",
              "  '01588',\n",
              "  '01581',\n",
              "  '01581',\n",
              "  '01604',\n",
              "  '01607',\n",
              "  '01608',\n",
              "  '01510',\n",
              "  '01501-2458',\n",
              "  '01606',\n",
              "  '01540',\n",
              "  '01570',\n",
              "  '01603',\n",
              "  '01520',\n",
              "  '01453',\n",
              "  '01453',\n",
              "  '01507',\n",
              "  '01453',\n",
              "  '01507',\n",
              "  '01550',\n",
              "  '01420',\n",
              "  '01420',\n",
              "  '01508',\n",
              "  '01562',\n",
              "  '01566',\n",
              "  '01440',\n",
              "  '01475',\n",
              "  '01331'],\n",
              " 'mdCount': 30}"
            ]
          },
          "metadata": {},
          "execution_count": 22
        }
      ]
    },
    {
      "cell_type": "markdown",
      "source": [
        "Restaurant Total From Zip Code Count"
      ],
      "metadata": {
        "id": "NV9OulcaQWxv"
      }
    },
    {
      "cell_type": "code",
      "source": [
        "countyZips = barnstable['mdCodes'] + berkshire['mdCodes'] + bristol['mdCodes'] + dukes['mdCodes'] + essex['mdCodes'] + franklin['mdCodes'] + hampden['mdCodes'] + hampshire['mdCodes'] + middlesex['mdCodes'] + nantucket['mdCodes'] + norfolk['mdCodes'] + plymouth['mdCodes'] + suffolk['mdCodes'] + worcester['mdCodes']\n",
        "missing = []\n",
        "for zip in allPostCodes:\n",
        "  if zip not in countyZips:\n",
        "    missing.append(zip) \n",
        "# manually cross-referenced the few zipcodes that weren't able to be uniformly sorted by the script\n",
        "# Each county's dictionary is now accurate\n",
        "\n",
        "counties = ['Barnstable', 'Berkshire', 'Bristol', 'Dukes', 'Essex', 'Franklin', 'Hampden', 'Hampshire', 'Middlesex', 'Nantucket', 'Norfolk', 'Plymouth', 'Suffolk', 'Worcester']\n",
        "county_mds = [barnstable['mdCount'], berkshire['mdCount'], bristol['mdCount'], dukes['mdCount'], essex['mdCount'], franklin['mdCount'], hampden['mdCount'], hampshire['mdCount'], middlesex['mdCount'], nantucket['mdCount'], norfolk['mdCount'], plymouth['mdCount'], suffolk['mdCount'], worcester['mdCount']]\n",
        "sum(county_mds) # should be 234 - matching the amount we got after cleaning the scraped restaurant data"
      ],
      "metadata": {
        "colab": {
          "base_uri": "https://localhost:8080/"
        },
        "id": "hQx6Yt10QVuQ",
        "outputId": "065437be-3788-4cd8-a3bf-578763985925"
      },
      "execution_count": 23,
      "outputs": [
        {
          "output_type": "execute_result",
          "data": {
            "text/plain": [
              "234"
            ]
          },
          "metadata": {},
          "execution_count": 23
        }
      ]
    },
    {
      "cell_type": "code",
      "source": [
        "MDs_by_county = pd.DataFrame({\n",
        "    \"# of McDonald's\": county_mds\n",
        "}, index=counties)\n",
        "MDs_by_county"
      ],
      "metadata": {
        "colab": {
          "base_uri": "https://localhost:8080/",
          "height": 488
        },
        "id": "INzMdU-jFdKR",
        "outputId": "b5bf9328-e01d-4e52-ffb8-6a84e5c7400b"
      },
      "execution_count": 24,
      "outputs": [
        {
          "output_type": "execute_result",
          "data": {
            "text/plain": [
              "            # of McDonald's\n",
              "Barnstable                7\n",
              "Berkshire                 8\n",
              "Bristol                  24\n",
              "Dukes                     0\n",
              "Essex                    29\n",
              "Franklin                  2\n",
              "Hampden                  26\n",
              "Hampshire                 5\n",
              "Middlesex                41\n",
              "Nantucket                 0\n",
              "Norfolk                  20\n",
              "Plymouth                 19\n",
              "Suffolk                  23\n",
              "Worcester                30"
            ],
            "text/html": [
              "\n",
              "  <div id=\"df-51a2ae88-7b28-4915-ab1d-0736490f6c34\">\n",
              "    <div class=\"colab-df-container\">\n",
              "      <div>\n",
              "<style scoped>\n",
              "    .dataframe tbody tr th:only-of-type {\n",
              "        vertical-align: middle;\n",
              "    }\n",
              "\n",
              "    .dataframe tbody tr th {\n",
              "        vertical-align: top;\n",
              "    }\n",
              "\n",
              "    .dataframe thead th {\n",
              "        text-align: right;\n",
              "    }\n",
              "</style>\n",
              "<table border=\"1\" class=\"dataframe\">\n",
              "  <thead>\n",
              "    <tr style=\"text-align: right;\">\n",
              "      <th></th>\n",
              "      <th># of McDonald's</th>\n",
              "    </tr>\n",
              "  </thead>\n",
              "  <tbody>\n",
              "    <tr>\n",
              "      <th>Barnstable</th>\n",
              "      <td>7</td>\n",
              "    </tr>\n",
              "    <tr>\n",
              "      <th>Berkshire</th>\n",
              "      <td>8</td>\n",
              "    </tr>\n",
              "    <tr>\n",
              "      <th>Bristol</th>\n",
              "      <td>24</td>\n",
              "    </tr>\n",
              "    <tr>\n",
              "      <th>Dukes</th>\n",
              "      <td>0</td>\n",
              "    </tr>\n",
              "    <tr>\n",
              "      <th>Essex</th>\n",
              "      <td>29</td>\n",
              "    </tr>\n",
              "    <tr>\n",
              "      <th>Franklin</th>\n",
              "      <td>2</td>\n",
              "    </tr>\n",
              "    <tr>\n",
              "      <th>Hampden</th>\n",
              "      <td>26</td>\n",
              "    </tr>\n",
              "    <tr>\n",
              "      <th>Hampshire</th>\n",
              "      <td>5</td>\n",
              "    </tr>\n",
              "    <tr>\n",
              "      <th>Middlesex</th>\n",
              "      <td>41</td>\n",
              "    </tr>\n",
              "    <tr>\n",
              "      <th>Nantucket</th>\n",
              "      <td>0</td>\n",
              "    </tr>\n",
              "    <tr>\n",
              "      <th>Norfolk</th>\n",
              "      <td>20</td>\n",
              "    </tr>\n",
              "    <tr>\n",
              "      <th>Plymouth</th>\n",
              "      <td>19</td>\n",
              "    </tr>\n",
              "    <tr>\n",
              "      <th>Suffolk</th>\n",
              "      <td>23</td>\n",
              "    </tr>\n",
              "    <tr>\n",
              "      <th>Worcester</th>\n",
              "      <td>30</td>\n",
              "    </tr>\n",
              "  </tbody>\n",
              "</table>\n",
              "</div>\n",
              "      <button class=\"colab-df-convert\" onclick=\"convertToInteractive('df-51a2ae88-7b28-4915-ab1d-0736490f6c34')\"\n",
              "              title=\"Convert this dataframe to an interactive table.\"\n",
              "              style=\"display:none;\">\n",
              "        \n",
              "  <svg xmlns=\"http://www.w3.org/2000/svg\" height=\"24px\"viewBox=\"0 0 24 24\"\n",
              "       width=\"24px\">\n",
              "    <path d=\"M0 0h24v24H0V0z\" fill=\"none\"/>\n",
              "    <path d=\"M18.56 5.44l.94 2.06.94-2.06 2.06-.94-2.06-.94-.94-2.06-.94 2.06-2.06.94zm-11 1L8.5 8.5l.94-2.06 2.06-.94-2.06-.94L8.5 2.5l-.94 2.06-2.06.94zm10 10l.94 2.06.94-2.06 2.06-.94-2.06-.94-.94-2.06-.94 2.06-2.06.94z\"/><path d=\"M17.41 7.96l-1.37-1.37c-.4-.4-.92-.59-1.43-.59-.52 0-1.04.2-1.43.59L10.3 9.45l-7.72 7.72c-.78.78-.78 2.05 0 2.83L4 21.41c.39.39.9.59 1.41.59.51 0 1.02-.2 1.41-.59l7.78-7.78 2.81-2.81c.8-.78.8-2.07 0-2.86zM5.41 20L4 18.59l7.72-7.72 1.47 1.35L5.41 20z\"/>\n",
              "  </svg>\n",
              "      </button>\n",
              "      \n",
              "  <style>\n",
              "    .colab-df-container {\n",
              "      display:flex;\n",
              "      flex-wrap:wrap;\n",
              "      gap: 12px;\n",
              "    }\n",
              "\n",
              "    .colab-df-convert {\n",
              "      background-color: #E8F0FE;\n",
              "      border: none;\n",
              "      border-radius: 50%;\n",
              "      cursor: pointer;\n",
              "      display: none;\n",
              "      fill: #1967D2;\n",
              "      height: 32px;\n",
              "      padding: 0 0 0 0;\n",
              "      width: 32px;\n",
              "    }\n",
              "\n",
              "    .colab-df-convert:hover {\n",
              "      background-color: #E2EBFA;\n",
              "      box-shadow: 0px 1px 2px rgba(60, 64, 67, 0.3), 0px 1px 3px 1px rgba(60, 64, 67, 0.15);\n",
              "      fill: #174EA6;\n",
              "    }\n",
              "\n",
              "    [theme=dark] .colab-df-convert {\n",
              "      background-color: #3B4455;\n",
              "      fill: #D2E3FC;\n",
              "    }\n",
              "\n",
              "    [theme=dark] .colab-df-convert:hover {\n",
              "      background-color: #434B5C;\n",
              "      box-shadow: 0px 1px 3px 1px rgba(0, 0, 0, 0.15);\n",
              "      filter: drop-shadow(0px 1px 2px rgba(0, 0, 0, 0.3));\n",
              "      fill: #FFFFFF;\n",
              "    }\n",
              "  </style>\n",
              "\n",
              "      <script>\n",
              "        const buttonEl =\n",
              "          document.querySelector('#df-51a2ae88-7b28-4915-ab1d-0736490f6c34 button.colab-df-convert');\n",
              "        buttonEl.style.display =\n",
              "          google.colab.kernel.accessAllowed ? 'block' : 'none';\n",
              "\n",
              "        async function convertToInteractive(key) {\n",
              "          const element = document.querySelector('#df-51a2ae88-7b28-4915-ab1d-0736490f6c34');\n",
              "          const dataTable =\n",
              "            await google.colab.kernel.invokeFunction('convertToInteractive',\n",
              "                                                     [key], {});\n",
              "          if (!dataTable) return;\n",
              "\n",
              "          const docLinkHtml = 'Like what you see? Visit the ' +\n",
              "            '<a target=\"_blank\" href=https://colab.research.google.com/notebooks/data_table.ipynb>data table notebook</a>'\n",
              "            + ' to learn more about interactive tables.';\n",
              "          element.innerHTML = '';\n",
              "          dataTable['output_type'] = 'display_data';\n",
              "          await google.colab.output.renderOutput(dataTable, element);\n",
              "          const docLink = document.createElement('div');\n",
              "          docLink.innerHTML = docLinkHtml;\n",
              "          element.appendChild(docLink);\n",
              "        }\n",
              "      </script>\n",
              "    </div>\n",
              "  </div>\n",
              "  "
            ]
          },
          "metadata": {},
          "execution_count": 24
        }
      ]
    },
    {
      "cell_type": "markdown",
      "source": [
        "# Per Capita Income by County - Census Data"
      ],
      "metadata": {
        "id": "dHifM1pgKAOW"
      }
    },
    {
      "cell_type": "code",
      "source": [
        "# data derived from the page's bottom-right table: (https://www.census.gov/quickfacts/fact/dashboard/berkshirecountymassachusetts,MA/INC910220)\n",
        "from google.colab import files\n",
        "uploaded = files.upload()\n",
        "\n",
        "income_df = pd.read_csv('MA_perCapitaIncome_CensusData.csv')\n",
        "income_df.head(n=14)"
      ],
      "metadata": {
        "id": "GpoPIWVVKEvn",
        "outputId": "03d009f4-5ad1-4ad5-e8f6-f89e3a31b81b",
        "colab": {
          "base_uri": "https://localhost:8080/",
          "height": 547,
          "resources": {
            "http://localhost:8080/nbextensions/google.colab/files.js": {
              "data": "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",
              "ok": true,
              "headers": [
                [
                  "content-type",
                  "application/javascript"
                ]
              ],
              "status": 200,
              "status_text": "OK"
            }
          }
        }
      },
      "execution_count": 33,
      "outputs": [
        {
          "output_type": "display_data",
          "data": {
            "text/plain": [
              "<IPython.core.display.HTML object>"
            ],
            "text/html": [
              "\n",
              "     <input type=\"file\" id=\"files-fc6bb409-b913-4b67-9571-6e9a6b051809\" name=\"files[]\" multiple disabled\n",
              "        style=\"border:none\" />\n",
              "     <output id=\"result-fc6bb409-b913-4b67-9571-6e9a6b051809\">\n",
              "      Upload widget is only available when the cell has been executed in the\n",
              "      current browser session. Please rerun this cell to enable.\n",
              "      </output>\n",
              "      <script src=\"/nbextensions/google.colab/files.js\"></script> "
            ]
          },
          "metadata": {}
        },
        {
          "output_type": "stream",
          "name": "stdout",
          "text": [
            "Saving MA_perCapitaIncome_CensusData.csv to MA_perCapitaIncome_CensusData.csv\n"
          ]
        },
        {
          "output_type": "execute_result",
          "data": {
            "text/plain": [
              "               County Per Capita Income\n",
              "0    Berkshire County          $37,025 \n",
              "1   Barnstable County          $47,315 \n",
              "2      Bristol County          $36,900 \n",
              "3        Dukes County          $43,994 \n",
              "4        Essex County          $43,948 \n",
              "5     Franklin County          $35,919 \n",
              "6      Hampden County          $31,483 \n",
              "7    Hampshire County          $36,600 \n",
              "8    Middlesex County          $54,433 \n",
              "9    Nantucket County          $57,246 \n",
              "10     Norfolk County          $55,860 \n",
              "11    Plymouth County          $45,378 \n",
              "12     Suffolk County          $44,723 \n",
              "13   Worcester County          $39,113 "
            ],
            "text/html": [
              "\n",
              "  <div id=\"df-4d2b3d95-9a67-426d-b99a-e1127c313620\">\n",
              "    <div class=\"colab-df-container\">\n",
              "      <div>\n",
              "<style scoped>\n",
              "    .dataframe tbody tr th:only-of-type {\n",
              "        vertical-align: middle;\n",
              "    }\n",
              "\n",
              "    .dataframe tbody tr th {\n",
              "        vertical-align: top;\n",
              "    }\n",
              "\n",
              "    .dataframe thead th {\n",
              "        text-align: right;\n",
              "    }\n",
              "</style>\n",
              "<table border=\"1\" class=\"dataframe\">\n",
              "  <thead>\n",
              "    <tr style=\"text-align: right;\">\n",
              "      <th></th>\n",
              "      <th>County</th>\n",
              "      <th>Per Capita Income</th>\n",
              "    </tr>\n",
              "  </thead>\n",
              "  <tbody>\n",
              "    <tr>\n",
              "      <th>0</th>\n",
              "      <td>Berkshire County</td>\n",
              "      <td>$37,025</td>\n",
              "    </tr>\n",
              "    <tr>\n",
              "      <th>1</th>\n",
              "      <td>Barnstable County</td>\n",
              "      <td>$47,315</td>\n",
              "    </tr>\n",
              "    <tr>\n",
              "      <th>2</th>\n",
              "      <td>Bristol County</td>\n",
              "      <td>$36,900</td>\n",
              "    </tr>\n",
              "    <tr>\n",
              "      <th>3</th>\n",
              "      <td>Dukes County</td>\n",
              "      <td>$43,994</td>\n",
              "    </tr>\n",
              "    <tr>\n",
              "      <th>4</th>\n",
              "      <td>Essex County</td>\n",
              "      <td>$43,948</td>\n",
              "    </tr>\n",
              "    <tr>\n",
              "      <th>5</th>\n",
              "      <td>Franklin County</td>\n",
              "      <td>$35,919</td>\n",
              "    </tr>\n",
              "    <tr>\n",
              "      <th>6</th>\n",
              "      <td>Hampden County</td>\n",
              "      <td>$31,483</td>\n",
              "    </tr>\n",
              "    <tr>\n",
              "      <th>7</th>\n",
              "      <td>Hampshire County</td>\n",
              "      <td>$36,600</td>\n",
              "    </tr>\n",
              "    <tr>\n",
              "      <th>8</th>\n",
              "      <td>Middlesex County</td>\n",
              "      <td>$54,433</td>\n",
              "    </tr>\n",
              "    <tr>\n",
              "      <th>9</th>\n",
              "      <td>Nantucket County</td>\n",
              "      <td>$57,246</td>\n",
              "    </tr>\n",
              "    <tr>\n",
              "      <th>10</th>\n",
              "      <td>Norfolk County</td>\n",
              "      <td>$55,860</td>\n",
              "    </tr>\n",
              "    <tr>\n",
              "      <th>11</th>\n",
              "      <td>Plymouth County</td>\n",
              "      <td>$45,378</td>\n",
              "    </tr>\n",
              "    <tr>\n",
              "      <th>12</th>\n",
              "      <td>Suffolk County</td>\n",
              "      <td>$44,723</td>\n",
              "    </tr>\n",
              "    <tr>\n",
              "      <th>13</th>\n",
              "      <td>Worcester County</td>\n",
              "      <td>$39,113</td>\n",
              "    </tr>\n",
              "  </tbody>\n",
              "</table>\n",
              "</div>\n",
              "      <button class=\"colab-df-convert\" onclick=\"convertToInteractive('df-4d2b3d95-9a67-426d-b99a-e1127c313620')\"\n",
              "              title=\"Convert this dataframe to an interactive table.\"\n",
              "              style=\"display:none;\">\n",
              "        \n",
              "  <svg xmlns=\"http://www.w3.org/2000/svg\" height=\"24px\"viewBox=\"0 0 24 24\"\n",
              "       width=\"24px\">\n",
              "    <path d=\"M0 0h24v24H0V0z\" fill=\"none\"/>\n",
              "    <path d=\"M18.56 5.44l.94 2.06.94-2.06 2.06-.94-2.06-.94-.94-2.06-.94 2.06-2.06.94zm-11 1L8.5 8.5l.94-2.06 2.06-.94-2.06-.94L8.5 2.5l-.94 2.06-2.06.94zm10 10l.94 2.06.94-2.06 2.06-.94-2.06-.94-.94-2.06-.94 2.06-2.06.94z\"/><path d=\"M17.41 7.96l-1.37-1.37c-.4-.4-.92-.59-1.43-.59-.52 0-1.04.2-1.43.59L10.3 9.45l-7.72 7.72c-.78.78-.78 2.05 0 2.83L4 21.41c.39.39.9.59 1.41.59.51 0 1.02-.2 1.41-.59l7.78-7.78 2.81-2.81c.8-.78.8-2.07 0-2.86zM5.41 20L4 18.59l7.72-7.72 1.47 1.35L5.41 20z\"/>\n",
              "  </svg>\n",
              "      </button>\n",
              "      \n",
              "  <style>\n",
              "    .colab-df-container {\n",
              "      display:flex;\n",
              "      flex-wrap:wrap;\n",
              "      gap: 12px;\n",
              "    }\n",
              "\n",
              "    .colab-df-convert {\n",
              "      background-color: #E8F0FE;\n",
              "      border: none;\n",
              "      border-radius: 50%;\n",
              "      cursor: pointer;\n",
              "      display: none;\n",
              "      fill: #1967D2;\n",
              "      height: 32px;\n",
              "      padding: 0 0 0 0;\n",
              "      width: 32px;\n",
              "    }\n",
              "\n",
              "    .colab-df-convert:hover {\n",
              "      background-color: #E2EBFA;\n",
              "      box-shadow: 0px 1px 2px rgba(60, 64, 67, 0.3), 0px 1px 3px 1px rgba(60, 64, 67, 0.15);\n",
              "      fill: #174EA6;\n",
              "    }\n",
              "\n",
              "    [theme=dark] .colab-df-convert {\n",
              "      background-color: #3B4455;\n",
              "      fill: #D2E3FC;\n",
              "    }\n",
              "\n",
              "    [theme=dark] .colab-df-convert:hover {\n",
              "      background-color: #434B5C;\n",
              "      box-shadow: 0px 1px 3px 1px rgba(0, 0, 0, 0.15);\n",
              "      filter: drop-shadow(0px 1px 2px rgba(0, 0, 0, 0.3));\n",
              "      fill: #FFFFFF;\n",
              "    }\n",
              "  </style>\n",
              "\n",
              "      <script>\n",
              "        const buttonEl =\n",
              "          document.querySelector('#df-4d2b3d95-9a67-426d-b99a-e1127c313620 button.colab-df-convert');\n",
              "        buttonEl.style.display =\n",
              "          google.colab.kernel.accessAllowed ? 'block' : 'none';\n",
              "\n",
              "        async function convertToInteractive(key) {\n",
              "          const element = document.querySelector('#df-4d2b3d95-9a67-426d-b99a-e1127c313620');\n",
              "          const dataTable =\n",
              "            await google.colab.kernel.invokeFunction('convertToInteractive',\n",
              "                                                     [key], {});\n",
              "          if (!dataTable) return;\n",
              "\n",
              "          const docLinkHtml = 'Like what you see? Visit the ' +\n",
              "            '<a target=\"_blank\" href=https://colab.research.google.com/notebooks/data_table.ipynb>data table notebook</a>'\n",
              "            + ' to learn more about interactive tables.';\n",
              "          element.innerHTML = '';\n",
              "          dataTable['output_type'] = 'display_data';\n",
              "          await google.colab.output.renderOutput(dataTable, element);\n",
              "          const docLink = document.createElement('div');\n",
              "          docLink.innerHTML = docLinkHtml;\n",
              "          element.appendChild(docLink);\n",
              "        }\n",
              "      </script>\n",
              "    </div>\n",
              "  </div>\n",
              "  "
            ]
          },
          "metadata": {},
          "execution_count": 33
        }
      ]
    },
    {
      "cell_type": "code",
      "source": [
        "income = income_df.loc[:, \"Per Capita Income\"]\n",
        "pci = []\n",
        "for i in income:\n",
        "  modded = ''\n",
        "  for c in i:\n",
        "    if c not in '$,':\n",
        "      modded += c\n",
        "  pci.append(int(modded))\n",
        "pci_by_county = pd.DataFrame({\n",
        "    \"Per Capita Income\": pci\n",
        "}, index=counties)\n",
        "complete_df = MDs_by_county.join(pci_by_county)\n",
        "complete_df.to_csv(r'MA_McDs_ByCountyAndIncome.csv', index = False, header=True)"
      ],
      "metadata": {
        "id": "4nZrluzrLzuL"
      },
      "execution_count": 34,
      "outputs": []
    },
    {
      "cell_type": "markdown",
      "source": [
        "Complete DataFrame sorted by # of McDonald's"
      ],
      "metadata": {
        "id": "w-qW5Y1FYYe4"
      }
    },
    {
      "cell_type": "code",
      "source": [
        "complete_df.sort_values(\"# of McDonald's\")"
      ],
      "metadata": {
        "colab": {
          "base_uri": "https://localhost:8080/",
          "height": 488
        },
        "id": "fHvD3FtoYWHF",
        "outputId": "a054d54e-e85b-4683-976f-903d752ade4d"
      },
      "execution_count": 35,
      "outputs": [
        {
          "output_type": "execute_result",
          "data": {
            "text/plain": [
              "            # of McDonald's  Per Capita Income\n",
              "Dukes                     0              43994\n",
              "Nantucket                 0              57246\n",
              "Franklin                  2              35919\n",
              "Hampshire                 5              36600\n",
              "Barnstable                7              37025\n",
              "Berkshire                 8              47315\n",
              "Plymouth                 19              45378\n",
              "Norfolk                  20              55860\n",
              "Suffolk                  23              44723\n",
              "Bristol                  24              36900\n",
              "Hampden                  26              31483\n",
              "Essex                    29              43948\n",
              "Worcester                30              39113\n",
              "Middlesex                41              54433"
            ],
            "text/html": [
              "\n",
              "  <div id=\"df-c751b83c-b09d-4bb1-b1c3-c2995cc5daea\">\n",
              "    <div class=\"colab-df-container\">\n",
              "      <div>\n",
              "<style scoped>\n",
              "    .dataframe tbody tr th:only-of-type {\n",
              "        vertical-align: middle;\n",
              "    }\n",
              "\n",
              "    .dataframe tbody tr th {\n",
              "        vertical-align: top;\n",
              "    }\n",
              "\n",
              "    .dataframe thead th {\n",
              "        text-align: right;\n",
              "    }\n",
              "</style>\n",
              "<table border=\"1\" class=\"dataframe\">\n",
              "  <thead>\n",
              "    <tr style=\"text-align: right;\">\n",
              "      <th></th>\n",
              "      <th># of McDonald's</th>\n",
              "      <th>Per Capita Income</th>\n",
              "    </tr>\n",
              "  </thead>\n",
              "  <tbody>\n",
              "    <tr>\n",
              "      <th>Dukes</th>\n",
              "      <td>0</td>\n",
              "      <td>43994</td>\n",
              "    </tr>\n",
              "    <tr>\n",
              "      <th>Nantucket</th>\n",
              "      <td>0</td>\n",
              "      <td>57246</td>\n",
              "    </tr>\n",
              "    <tr>\n",
              "      <th>Franklin</th>\n",
              "      <td>2</td>\n",
              "      <td>35919</td>\n",
              "    </tr>\n",
              "    <tr>\n",
              "      <th>Hampshire</th>\n",
              "      <td>5</td>\n",
              "      <td>36600</td>\n",
              "    </tr>\n",
              "    <tr>\n",
              "      <th>Barnstable</th>\n",
              "      <td>7</td>\n",
              "      <td>37025</td>\n",
              "    </tr>\n",
              "    <tr>\n",
              "      <th>Berkshire</th>\n",
              "      <td>8</td>\n",
              "      <td>47315</td>\n",
              "    </tr>\n",
              "    <tr>\n",
              "      <th>Plymouth</th>\n",
              "      <td>19</td>\n",
              "      <td>45378</td>\n",
              "    </tr>\n",
              "    <tr>\n",
              "      <th>Norfolk</th>\n",
              "      <td>20</td>\n",
              "      <td>55860</td>\n",
              "    </tr>\n",
              "    <tr>\n",
              "      <th>Suffolk</th>\n",
              "      <td>23</td>\n",
              "      <td>44723</td>\n",
              "    </tr>\n",
              "    <tr>\n",
              "      <th>Bristol</th>\n",
              "      <td>24</td>\n",
              "      <td>36900</td>\n",
              "    </tr>\n",
              "    <tr>\n",
              "      <th>Hampden</th>\n",
              "      <td>26</td>\n",
              "      <td>31483</td>\n",
              "    </tr>\n",
              "    <tr>\n",
              "      <th>Essex</th>\n",
              "      <td>29</td>\n",
              "      <td>43948</td>\n",
              "    </tr>\n",
              "    <tr>\n",
              "      <th>Worcester</th>\n",
              "      <td>30</td>\n",
              "      <td>39113</td>\n",
              "    </tr>\n",
              "    <tr>\n",
              "      <th>Middlesex</th>\n",
              "      <td>41</td>\n",
              "      <td>54433</td>\n",
              "    </tr>\n",
              "  </tbody>\n",
              "</table>\n",
              "</div>\n",
              "      <button class=\"colab-df-convert\" onclick=\"convertToInteractive('df-c751b83c-b09d-4bb1-b1c3-c2995cc5daea')\"\n",
              "              title=\"Convert this dataframe to an interactive table.\"\n",
              "              style=\"display:none;\">\n",
              "        \n",
              "  <svg xmlns=\"http://www.w3.org/2000/svg\" height=\"24px\"viewBox=\"0 0 24 24\"\n",
              "       width=\"24px\">\n",
              "    <path d=\"M0 0h24v24H0V0z\" fill=\"none\"/>\n",
              "    <path d=\"M18.56 5.44l.94 2.06.94-2.06 2.06-.94-2.06-.94-.94-2.06-.94 2.06-2.06.94zm-11 1L8.5 8.5l.94-2.06 2.06-.94-2.06-.94L8.5 2.5l-.94 2.06-2.06.94zm10 10l.94 2.06.94-2.06 2.06-.94-2.06-.94-.94-2.06-.94 2.06-2.06.94z\"/><path d=\"M17.41 7.96l-1.37-1.37c-.4-.4-.92-.59-1.43-.59-.52 0-1.04.2-1.43.59L10.3 9.45l-7.72 7.72c-.78.78-.78 2.05 0 2.83L4 21.41c.39.39.9.59 1.41.59.51 0 1.02-.2 1.41-.59l7.78-7.78 2.81-2.81c.8-.78.8-2.07 0-2.86zM5.41 20L4 18.59l7.72-7.72 1.47 1.35L5.41 20z\"/>\n",
              "  </svg>\n",
              "      </button>\n",
              "      \n",
              "  <style>\n",
              "    .colab-df-container {\n",
              "      display:flex;\n",
              "      flex-wrap:wrap;\n",
              "      gap: 12px;\n",
              "    }\n",
              "\n",
              "    .colab-df-convert {\n",
              "      background-color: #E8F0FE;\n",
              "      border: none;\n",
              "      border-radius: 50%;\n",
              "      cursor: pointer;\n",
              "      display: none;\n",
              "      fill: #1967D2;\n",
              "      height: 32px;\n",
              "      padding: 0 0 0 0;\n",
              "      width: 32px;\n",
              "    }\n",
              "\n",
              "    .colab-df-convert:hover {\n",
              "      background-color: #E2EBFA;\n",
              "      box-shadow: 0px 1px 2px rgba(60, 64, 67, 0.3), 0px 1px 3px 1px rgba(60, 64, 67, 0.15);\n",
              "      fill: #174EA6;\n",
              "    }\n",
              "\n",
              "    [theme=dark] .colab-df-convert {\n",
              "      background-color: #3B4455;\n",
              "      fill: #D2E3FC;\n",
              "    }\n",
              "\n",
              "    [theme=dark] .colab-df-convert:hover {\n",
              "      background-color: #434B5C;\n",
              "      box-shadow: 0px 1px 3px 1px rgba(0, 0, 0, 0.15);\n",
              "      filter: drop-shadow(0px 1px 2px rgba(0, 0, 0, 0.3));\n",
              "      fill: #FFFFFF;\n",
              "    }\n",
              "  </style>\n",
              "\n",
              "      <script>\n",
              "        const buttonEl =\n",
              "          document.querySelector('#df-c751b83c-b09d-4bb1-b1c3-c2995cc5daea button.colab-df-convert');\n",
              "        buttonEl.style.display =\n",
              "          google.colab.kernel.accessAllowed ? 'block' : 'none';\n",
              "\n",
              "        async function convertToInteractive(key) {\n",
              "          const element = document.querySelector('#df-c751b83c-b09d-4bb1-b1c3-c2995cc5daea');\n",
              "          const dataTable =\n",
              "            await google.colab.kernel.invokeFunction('convertToInteractive',\n",
              "                                                     [key], {});\n",
              "          if (!dataTable) return;\n",
              "\n",
              "          const docLinkHtml = 'Like what you see? Visit the ' +\n",
              "            '<a target=\"_blank\" href=https://colab.research.google.com/notebooks/data_table.ipynb>data table notebook</a>'\n",
              "            + ' to learn more about interactive tables.';\n",
              "          element.innerHTML = '';\n",
              "          dataTable['output_type'] = 'display_data';\n",
              "          await google.colab.output.renderOutput(dataTable, element);\n",
              "          const docLink = document.createElement('div');\n",
              "          docLink.innerHTML = docLinkHtml;\n",
              "          element.appendChild(docLink);\n",
              "        }\n",
              "      </script>\n",
              "    </div>\n",
              "  </div>\n",
              "  "
            ]
          },
          "metadata": {},
          "execution_count": 35
        }
      ]
    },
    {
      "cell_type": "markdown",
      "source": [
        "Complete DataFrame sorted by Per Capita Income"
      ],
      "metadata": {
        "id": "23ra6vPVYLcJ"
      }
    },
    {
      "cell_type": "code",
      "source": [
        "complete_df.sort_values('Per Capita Income')"
      ],
      "metadata": {
        "colab": {
          "base_uri": "https://localhost:8080/",
          "height": 488
        },
        "id": "mFuNcdkeWekG",
        "outputId": "7d423728-f718-4866-ea0c-dfce763e8b52"
      },
      "execution_count": 37,
      "outputs": [
        {
          "output_type": "execute_result",
          "data": {
            "text/plain": [
              "            # of McDonald's  Per Capita Income\n",
              "Hampden                  26              31483\n",
              "Franklin                  2              35919\n",
              "Hampshire                 5              36600\n",
              "Bristol                  24              36900\n",
              "Barnstable                7              37025\n",
              "Worcester                30              39113\n",
              "Essex                    29              43948\n",
              "Dukes                     0              43994\n",
              "Suffolk                  23              44723\n",
              "Plymouth                 19              45378\n",
              "Berkshire                 8              47315\n",
              "Middlesex                41              54433\n",
              "Norfolk                  20              55860\n",
              "Nantucket                 0              57246"
            ],
            "text/html": [
              "\n",
              "  <div id=\"df-00919cf2-95cb-4b3f-903a-cbe333db31db\">\n",
              "    <div class=\"colab-df-container\">\n",
              "      <div>\n",
              "<style scoped>\n",
              "    .dataframe tbody tr th:only-of-type {\n",
              "        vertical-align: middle;\n",
              "    }\n",
              "\n",
              "    .dataframe tbody tr th {\n",
              "        vertical-align: top;\n",
              "    }\n",
              "\n",
              "    .dataframe thead th {\n",
              "        text-align: right;\n",
              "    }\n",
              "</style>\n",
              "<table border=\"1\" class=\"dataframe\">\n",
              "  <thead>\n",
              "    <tr style=\"text-align: right;\">\n",
              "      <th></th>\n",
              "      <th># of McDonald's</th>\n",
              "      <th>Per Capita Income</th>\n",
              "    </tr>\n",
              "  </thead>\n",
              "  <tbody>\n",
              "    <tr>\n",
              "      <th>Hampden</th>\n",
              "      <td>26</td>\n",
              "      <td>31483</td>\n",
              "    </tr>\n",
              "    <tr>\n",
              "      <th>Franklin</th>\n",
              "      <td>2</td>\n",
              "      <td>35919</td>\n",
              "    </tr>\n",
              "    <tr>\n",
              "      <th>Hampshire</th>\n",
              "      <td>5</td>\n",
              "      <td>36600</td>\n",
              "    </tr>\n",
              "    <tr>\n",
              "      <th>Bristol</th>\n",
              "      <td>24</td>\n",
              "      <td>36900</td>\n",
              "    </tr>\n",
              "    <tr>\n",
              "      <th>Barnstable</th>\n",
              "      <td>7</td>\n",
              "      <td>37025</td>\n",
              "    </tr>\n",
              "    <tr>\n",
              "      <th>Worcester</th>\n",
              "      <td>30</td>\n",
              "      <td>39113</td>\n",
              "    </tr>\n",
              "    <tr>\n",
              "      <th>Essex</th>\n",
              "      <td>29</td>\n",
              "      <td>43948</td>\n",
              "    </tr>\n",
              "    <tr>\n",
              "      <th>Dukes</th>\n",
              "      <td>0</td>\n",
              "      <td>43994</td>\n",
              "    </tr>\n",
              "    <tr>\n",
              "      <th>Suffolk</th>\n",
              "      <td>23</td>\n",
              "      <td>44723</td>\n",
              "    </tr>\n",
              "    <tr>\n",
              "      <th>Plymouth</th>\n",
              "      <td>19</td>\n",
              "      <td>45378</td>\n",
              "    </tr>\n",
              "    <tr>\n",
              "      <th>Berkshire</th>\n",
              "      <td>8</td>\n",
              "      <td>47315</td>\n",
              "    </tr>\n",
              "    <tr>\n",
              "      <th>Middlesex</th>\n",
              "      <td>41</td>\n",
              "      <td>54433</td>\n",
              "    </tr>\n",
              "    <tr>\n",
              "      <th>Norfolk</th>\n",
              "      <td>20</td>\n",
              "      <td>55860</td>\n",
              "    </tr>\n",
              "    <tr>\n",
              "      <th>Nantucket</th>\n",
              "      <td>0</td>\n",
              "      <td>57246</td>\n",
              "    </tr>\n",
              "  </tbody>\n",
              "</table>\n",
              "</div>\n",
              "      <button class=\"colab-df-convert\" onclick=\"convertToInteractive('df-00919cf2-95cb-4b3f-903a-cbe333db31db')\"\n",
              "              title=\"Convert this dataframe to an interactive table.\"\n",
              "              style=\"display:none;\">\n",
              "        \n",
              "  <svg xmlns=\"http://www.w3.org/2000/svg\" height=\"24px\"viewBox=\"0 0 24 24\"\n",
              "       width=\"24px\">\n",
              "    <path d=\"M0 0h24v24H0V0z\" fill=\"none\"/>\n",
              "    <path d=\"M18.56 5.44l.94 2.06.94-2.06 2.06-.94-2.06-.94-.94-2.06-.94 2.06-2.06.94zm-11 1L8.5 8.5l.94-2.06 2.06-.94-2.06-.94L8.5 2.5l-.94 2.06-2.06.94zm10 10l.94 2.06.94-2.06 2.06-.94-2.06-.94-.94-2.06-.94 2.06-2.06.94z\"/><path d=\"M17.41 7.96l-1.37-1.37c-.4-.4-.92-.59-1.43-.59-.52 0-1.04.2-1.43.59L10.3 9.45l-7.72 7.72c-.78.78-.78 2.05 0 2.83L4 21.41c.39.39.9.59 1.41.59.51 0 1.02-.2 1.41-.59l7.78-7.78 2.81-2.81c.8-.78.8-2.07 0-2.86zM5.41 20L4 18.59l7.72-7.72 1.47 1.35L5.41 20z\"/>\n",
              "  </svg>\n",
              "      </button>\n",
              "      \n",
              "  <style>\n",
              "    .colab-df-container {\n",
              "      display:flex;\n",
              "      flex-wrap:wrap;\n",
              "      gap: 12px;\n",
              "    }\n",
              "\n",
              "    .colab-df-convert {\n",
              "      background-color: #E8F0FE;\n",
              "      border: none;\n",
              "      border-radius: 50%;\n",
              "      cursor: pointer;\n",
              "      display: none;\n",
              "      fill: #1967D2;\n",
              "      height: 32px;\n",
              "      padding: 0 0 0 0;\n",
              "      width: 32px;\n",
              "    }\n",
              "\n",
              "    .colab-df-convert:hover {\n",
              "      background-color: #E2EBFA;\n",
              "      box-shadow: 0px 1px 2px rgba(60, 64, 67, 0.3), 0px 1px 3px 1px rgba(60, 64, 67, 0.15);\n",
              "      fill: #174EA6;\n",
              "    }\n",
              "\n",
              "    [theme=dark] .colab-df-convert {\n",
              "      background-color: #3B4455;\n",
              "      fill: #D2E3FC;\n",
              "    }\n",
              "\n",
              "    [theme=dark] .colab-df-convert:hover {\n",
              "      background-color: #434B5C;\n",
              "      box-shadow: 0px 1px 3px 1px rgba(0, 0, 0, 0.15);\n",
              "      filter: drop-shadow(0px 1px 2px rgba(0, 0, 0, 0.3));\n",
              "      fill: #FFFFFF;\n",
              "    }\n",
              "  </style>\n",
              "\n",
              "      <script>\n",
              "        const buttonEl =\n",
              "          document.querySelector('#df-00919cf2-95cb-4b3f-903a-cbe333db31db button.colab-df-convert');\n",
              "        buttonEl.style.display =\n",
              "          google.colab.kernel.accessAllowed ? 'block' : 'none';\n",
              "\n",
              "        async function convertToInteractive(key) {\n",
              "          const element = document.querySelector('#df-00919cf2-95cb-4b3f-903a-cbe333db31db');\n",
              "          const dataTable =\n",
              "            await google.colab.kernel.invokeFunction('convertToInteractive',\n",
              "                                                     [key], {});\n",
              "          if (!dataTable) return;\n",
              "\n",
              "          const docLinkHtml = 'Like what you see? Visit the ' +\n",
              "            '<a target=\"_blank\" href=https://colab.research.google.com/notebooks/data_table.ipynb>data table notebook</a>'\n",
              "            + ' to learn more about interactive tables.';\n",
              "          element.innerHTML = '';\n",
              "          dataTable['output_type'] = 'display_data';\n",
              "          await google.colab.output.renderOutput(dataTable, element);\n",
              "          const docLink = document.createElement('div');\n",
              "          docLink.innerHTML = docLinkHtml;\n",
              "          element.appendChild(docLink);\n",
              "        }\n",
              "      </script>\n",
              "    </div>\n",
              "  </div>\n",
              "  "
            ]
          },
          "metadata": {},
          "execution_count": 37
        }
      ]
    },
    {
      "cell_type": "markdown",
      "source": [
        "Correlation Coefficient"
      ],
      "metadata": {
        "id": "RYJylKVwZDiX"
      }
    },
    {
      "cell_type": "code",
      "source": [
        "data = pd.read_csv('MA_McDs_ByCountyAndIncome.csv')\n",
        "numeric_col = [\"# of McDonald's\", \"Per Capita Income\"]\n",
        "\n",
        "corr = data.loc[:,numeric_col].corr()\n",
        "corr"
      ],
      "metadata": {
        "colab": {
          "base_uri": "https://localhost:8080/",
          "height": 112
        },
        "id": "g4SumjYUl8P1",
        "outputId": "34bff87d-e3a7-4526-860c-fe8d1c68ce55"
      },
      "execution_count": 36,
      "outputs": [
        {
          "output_type": "execute_result",
          "data": {
            "text/plain": [
              "                   # of McDonald's  Per Capita Income\n",
              "# of McDonald's           1.000000           0.066224\n",
              "Per Capita Income         0.066224           1.000000"
            ],
            "text/html": [
              "\n",
              "  <div id=\"df-d5dc0fcb-1891-450c-947f-22becd70aaea\">\n",
              "    <div class=\"colab-df-container\">\n",
              "      <div>\n",
              "<style scoped>\n",
              "    .dataframe tbody tr th:only-of-type {\n",
              "        vertical-align: middle;\n",
              "    }\n",
              "\n",
              "    .dataframe tbody tr th {\n",
              "        vertical-align: top;\n",
              "    }\n",
              "\n",
              "    .dataframe thead th {\n",
              "        text-align: right;\n",
              "    }\n",
              "</style>\n",
              "<table border=\"1\" class=\"dataframe\">\n",
              "  <thead>\n",
              "    <tr style=\"text-align: right;\">\n",
              "      <th></th>\n",
              "      <th># of McDonald's</th>\n",
              "      <th>Per Capita Income</th>\n",
              "    </tr>\n",
              "  </thead>\n",
              "  <tbody>\n",
              "    <tr>\n",
              "      <th># of McDonald's</th>\n",
              "      <td>1.000000</td>\n",
              "      <td>0.066224</td>\n",
              "    </tr>\n",
              "    <tr>\n",
              "      <th>Per Capita Income</th>\n",
              "      <td>0.066224</td>\n",
              "      <td>1.000000</td>\n",
              "    </tr>\n",
              "  </tbody>\n",
              "</table>\n",
              "</div>\n",
              "      <button class=\"colab-df-convert\" onclick=\"convertToInteractive('df-d5dc0fcb-1891-450c-947f-22becd70aaea')\"\n",
              "              title=\"Convert this dataframe to an interactive table.\"\n",
              "              style=\"display:none;\">\n",
              "        \n",
              "  <svg xmlns=\"http://www.w3.org/2000/svg\" height=\"24px\"viewBox=\"0 0 24 24\"\n",
              "       width=\"24px\">\n",
              "    <path d=\"M0 0h24v24H0V0z\" fill=\"none\"/>\n",
              "    <path d=\"M18.56 5.44l.94 2.06.94-2.06 2.06-.94-2.06-.94-.94-2.06-.94 2.06-2.06.94zm-11 1L8.5 8.5l.94-2.06 2.06-.94-2.06-.94L8.5 2.5l-.94 2.06-2.06.94zm10 10l.94 2.06.94-2.06 2.06-.94-2.06-.94-.94-2.06-.94 2.06-2.06.94z\"/><path d=\"M17.41 7.96l-1.37-1.37c-.4-.4-.92-.59-1.43-.59-.52 0-1.04.2-1.43.59L10.3 9.45l-7.72 7.72c-.78.78-.78 2.05 0 2.83L4 21.41c.39.39.9.59 1.41.59.51 0 1.02-.2 1.41-.59l7.78-7.78 2.81-2.81c.8-.78.8-2.07 0-2.86zM5.41 20L4 18.59l7.72-7.72 1.47 1.35L5.41 20z\"/>\n",
              "  </svg>\n",
              "      </button>\n",
              "      \n",
              "  <style>\n",
              "    .colab-df-container {\n",
              "      display:flex;\n",
              "      flex-wrap:wrap;\n",
              "      gap: 12px;\n",
              "    }\n",
              "\n",
              "    .colab-df-convert {\n",
              "      background-color: #E8F0FE;\n",
              "      border: none;\n",
              "      border-radius: 50%;\n",
              "      cursor: pointer;\n",
              "      display: none;\n",
              "      fill: #1967D2;\n",
              "      height: 32px;\n",
              "      padding: 0 0 0 0;\n",
              "      width: 32px;\n",
              "    }\n",
              "\n",
              "    .colab-df-convert:hover {\n",
              "      background-color: #E2EBFA;\n",
              "      box-shadow: 0px 1px 2px rgba(60, 64, 67, 0.3), 0px 1px 3px 1px rgba(60, 64, 67, 0.15);\n",
              "      fill: #174EA6;\n",
              "    }\n",
              "\n",
              "    [theme=dark] .colab-df-convert {\n",
              "      background-color: #3B4455;\n",
              "      fill: #D2E3FC;\n",
              "    }\n",
              "\n",
              "    [theme=dark] .colab-df-convert:hover {\n",
              "      background-color: #434B5C;\n",
              "      box-shadow: 0px 1px 3px 1px rgba(0, 0, 0, 0.15);\n",
              "      filter: drop-shadow(0px 1px 2px rgba(0, 0, 0, 0.3));\n",
              "      fill: #FFFFFF;\n",
              "    }\n",
              "  </style>\n",
              "\n",
              "      <script>\n",
              "        const buttonEl =\n",
              "          document.querySelector('#df-d5dc0fcb-1891-450c-947f-22becd70aaea button.colab-df-convert');\n",
              "        buttonEl.style.display =\n",
              "          google.colab.kernel.accessAllowed ? 'block' : 'none';\n",
              "\n",
              "        async function convertToInteractive(key) {\n",
              "          const element = document.querySelector('#df-d5dc0fcb-1891-450c-947f-22becd70aaea');\n",
              "          const dataTable =\n",
              "            await google.colab.kernel.invokeFunction('convertToInteractive',\n",
              "                                                     [key], {});\n",
              "          if (!dataTable) return;\n",
              "\n",
              "          const docLinkHtml = 'Like what you see? Visit the ' +\n",
              "            '<a target=\"_blank\" href=https://colab.research.google.com/notebooks/data_table.ipynb>data table notebook</a>'\n",
              "            + ' to learn more about interactive tables.';\n",
              "          element.innerHTML = '';\n",
              "          dataTable['output_type'] = 'display_data';\n",
              "          await google.colab.output.renderOutput(dataTable, element);\n",
              "          const docLink = document.createElement('div');\n",
              "          docLink.innerHTML = docLinkHtml;\n",
              "          element.appendChild(docLink);\n",
              "        }\n",
              "      </script>\n",
              "    </div>\n",
              "  </div>\n",
              "  "
            ]
          },
          "metadata": {},
          "execution_count": 36
        }
      ]
    },
    {
      "cell_type": "markdown",
      "source": [
        "# Visualizations"
      ],
      "metadata": {
        "id": "uvEPdD39Qr8c"
      }
    },
    {
      "cell_type": "markdown",
      "source": [
        "Regression plot showing correlation between PCI and # of McDonald's "
      ],
      "metadata": {
        "id": "Sqr2bIDGG4Qc"
      }
    },
    {
      "cell_type": "code",
      "source": [
        "sb.regplot(x = \"# of McDonald's\", y = \"Per Capita Income\", data = complete_df)\n",
        "plt.show()"
      ],
      "metadata": {
        "id": "LAPtOfP_QsQR",
        "colab": {
          "base_uri": "https://localhost:8080/",
          "height": 279
        },
        "outputId": "176337f0-830a-412b-bd6f-4bf7ea5cbd25"
      },
      "execution_count": 38,
      "outputs": [
        {
          "output_type": "display_data",
          "data": {
            "text/plain": [
              "<Figure size 432x288 with 1 Axes>"
            ],
            "image/png": "[encoded data removed]"
          },
          "metadata": {
            "needs_background": "light"
          }
        }
      ]
    },
    {
      "cell_type": "markdown",
      "source": [
        "Per Capita Income by County"
      ],
      "metadata": {
        "id": "LOA8qVK7HEpH"
      }
    },
    {
      "cell_type": "code",
      "source": [
        "ax = pci_by_county.plot.bar(figsize =(15,10) ,rot=0)"
      ],
      "metadata": {
        "colab": {
          "base_uri": "https://localhost:8080/",
          "height": 595
        },
        "id": "zz82YJCQqAkN",
        "outputId": "3db358fe-aedb-4c40-9e7b-c3d280f9da11"
      },
      "execution_count": 39,
      "outputs": [
        {
          "output_type": "display_data",
          "data": {
            "text/plain": [
              "<Figure size 1080x720 with 1 Axes>"
            ],
            "image/png": "[encoded data removed]"
          },
          "metadata": {
            "needs_background": "light"
          }
        }
      ]
    },
    {
      "cell_type": "markdown",
      "source": [
        "Number of McDonald's by County\n",
        "\n",
        "(The two 0.0% values are for Dukes and Nantucket counties, which have no McDonald's)"
      ],
      "metadata": {
        "id": "THfqtB2jHKXS"
      }
    },
    {
      "cell_type": "code",
      "source": [
        "complete_df.plot.pie(y = \"# of McDonald's\", figsize=(15,15), autopct='%1.1f%%', fontsize=14)"
      ],
      "metadata": {
        "colab": {
          "base_uri": "https://localhost:8080/",
          "height": 865
        },
        "id": "Nyjxs5WrHRJw",
        "outputId": "a18d5f83-70cc-407c-a4c6-a6535926ac95"
      },
      "execution_count": 40,
      "outputs": [
        {
          "output_type": "execute_result",
          "data": {
            "text/plain": [
              "<matplotlib.axes._subplots.AxesSubplot at 0x7f35c84bc790>"
            ]
          },
          "metadata": {},
          "execution_count": 40
        },
        {
          "output_type": "display_data",
          "data": {
            "text/plain": [
              "<Figure size 1080x1080 with 1 Axes>"
            ],
            "image/png": "[encoded data removed]"
          },
          "metadata": {}
        }
      ]
    }
  ]
}